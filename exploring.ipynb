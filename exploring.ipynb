{
 "cells": [
  {
   "cell_type": "code",
   "execution_count": 1,
   "id": "5955993d",
   "metadata": {},
   "outputs": [],
   "source": [
    "import pandas as pd\n",
    "from acquire import acquire "
   ]
  },
  {
   "cell_type": "code",
   "execution_count": 2,
   "id": "f2b7abc9",
   "metadata": {},
   "outputs": [],
   "source": [
    "df = acquire()"
   ]
  },
  {
   "cell_type": "code",
   "execution_count": 3,
   "id": "c6e6fc9d",
   "metadata": {},
   "outputs": [
    {
     "name": "stdout",
     "output_type": "stream",
     "text": [
      "<class 'pandas.core.frame.DataFrame'>\n",
      "Int64Index: 913000 entries, 0 to 912999\n",
      "Data columns (total 18 columns):\n",
      " #   Column         Non-Null Count   Dtype  \n",
      "---  ------         --------------   -----  \n",
      " 0   item           913000 non-null  int64  \n",
      " 1   sale_amount    913000 non-null  float64\n",
      " 2   sale_date      913000 non-null  object \n",
      " 3   sale_id        913000 non-null  int64  \n",
      " 4   store          913000 non-null  int64  \n",
      " 5   store_address  913000 non-null  object \n",
      " 6   store_city     913000 non-null  object \n",
      " 7   store_id       913000 non-null  int64  \n",
      " 8   store_state    913000 non-null  object \n",
      " 9   store_zipcode  913000 non-null  int64  \n",
      " 10  level_0        913000 non-null  int64  \n",
      " 11  index          730400 non-null  float64\n",
      " 12  item_brand     913000 non-null  object \n",
      " 13  item_id        913000 non-null  int64  \n",
      " 14  item_name      913000 non-null  object \n",
      " 15  item_price     913000 non-null  float64\n",
      " 16  item_upc12     913000 non-null  int64  \n",
      " 17  item_upc14     913000 non-null  int64  \n",
      "dtypes: float64(3), int64(9), object(6)\n",
      "memory usage: 132.3+ MB\n"
     ]
    }
   ],
   "source": [
    "df.info()"
   ]
  },
  {
   "cell_type": "code",
   "execution_count": 4,
   "id": "333f063f",
   "metadata": {},
   "outputs": [
    {
     "data": {
      "text/plain": [
       "TX    913000\n",
       "Name: store_state, dtype: int64"
      ]
     },
     "execution_count": 4,
     "metadata": {},
     "output_type": "execute_result"
    }
   ],
   "source": [
    "df.store_state.value_counts()"
   ]
  },
  {
   "cell_type": "markdown",
   "id": "9d0c0186",
   "metadata": {},
   "source": [
    "### `All stores are in TX`"
   ]
  },
  {
   "cell_type": "code",
   "execution_count": 5,
   "id": "f1e48df7",
   "metadata": {},
   "outputs": [
    {
     "data": {
      "text/html": [
       "<div>\n",
       "<style scoped>\n",
       "    .dataframe tbody tr th:only-of-type {\n",
       "        vertical-align: middle;\n",
       "    }\n",
       "\n",
       "    .dataframe tbody tr th {\n",
       "        vertical-align: top;\n",
       "    }\n",
       "\n",
       "    .dataframe thead th {\n",
       "        text-align: right;\n",
       "    }\n",
       "</style>\n",
       "<table border=\"1\" class=\"dataframe\">\n",
       "  <thead>\n",
       "    <tr style=\"text-align: right;\">\n",
       "      <th></th>\n",
       "      <th>item</th>\n",
       "      <th>sale_amount</th>\n",
       "      <th>sale_date</th>\n",
       "      <th>sale_id</th>\n",
       "      <th>store</th>\n",
       "      <th>store_address</th>\n",
       "      <th>store_city</th>\n",
       "      <th>store_id</th>\n",
       "      <th>store_state</th>\n",
       "      <th>store_zipcode</th>\n",
       "      <th>level_0</th>\n",
       "      <th>index</th>\n",
       "      <th>item_brand</th>\n",
       "      <th>item_id</th>\n",
       "      <th>item_name</th>\n",
       "      <th>item_price</th>\n",
       "      <th>item_upc12</th>\n",
       "      <th>item_upc14</th>\n",
       "    </tr>\n",
       "  </thead>\n",
       "  <tbody>\n",
       "    <tr>\n",
       "      <th>0</th>\n",
       "      <td>1</td>\n",
       "      <td>13.0</td>\n",
       "      <td>Tue, 01 Jan 2013 00:00:00 GMT</td>\n",
       "      <td>1</td>\n",
       "      <td>1</td>\n",
       "      <td>12125 Alamo Ranch Pkwy</td>\n",
       "      <td>San Antonio</td>\n",
       "      <td>1</td>\n",
       "      <td>TX</td>\n",
       "      <td>78253</td>\n",
       "      <td>0</td>\n",
       "      <td>0.0</td>\n",
       "      <td>Riceland</td>\n",
       "      <td>1</td>\n",
       "      <td>Riceland American Jazmine Rice</td>\n",
       "      <td>0.84</td>\n",
       "      <td>35200264013</td>\n",
       "      <td>35200264013</td>\n",
       "    </tr>\n",
       "    <tr>\n",
       "      <th>1</th>\n",
       "      <td>1</td>\n",
       "      <td>11.0</td>\n",
       "      <td>Wed, 02 Jan 2013 00:00:00 GMT</td>\n",
       "      <td>2</td>\n",
       "      <td>1</td>\n",
       "      <td>12125 Alamo Ranch Pkwy</td>\n",
       "      <td>San Antonio</td>\n",
       "      <td>1</td>\n",
       "      <td>TX</td>\n",
       "      <td>78253</td>\n",
       "      <td>0</td>\n",
       "      <td>0.0</td>\n",
       "      <td>Riceland</td>\n",
       "      <td>1</td>\n",
       "      <td>Riceland American Jazmine Rice</td>\n",
       "      <td>0.84</td>\n",
       "      <td>35200264013</td>\n",
       "      <td>35200264013</td>\n",
       "    </tr>\n",
       "    <tr>\n",
       "      <th>2</th>\n",
       "      <td>1</td>\n",
       "      <td>14.0</td>\n",
       "      <td>Thu, 03 Jan 2013 00:00:00 GMT</td>\n",
       "      <td>3</td>\n",
       "      <td>1</td>\n",
       "      <td>12125 Alamo Ranch Pkwy</td>\n",
       "      <td>San Antonio</td>\n",
       "      <td>1</td>\n",
       "      <td>TX</td>\n",
       "      <td>78253</td>\n",
       "      <td>0</td>\n",
       "      <td>0.0</td>\n",
       "      <td>Riceland</td>\n",
       "      <td>1</td>\n",
       "      <td>Riceland American Jazmine Rice</td>\n",
       "      <td>0.84</td>\n",
       "      <td>35200264013</td>\n",
       "      <td>35200264013</td>\n",
       "    </tr>\n",
       "  </tbody>\n",
       "</table>\n",
       "</div>"
      ],
      "text/plain": [
       "   item  sale_amount                      sale_date  sale_id  store  \\\n",
       "0     1         13.0  Tue, 01 Jan 2013 00:00:00 GMT        1      1   \n",
       "1     1         11.0  Wed, 02 Jan 2013 00:00:00 GMT        2      1   \n",
       "2     1         14.0  Thu, 03 Jan 2013 00:00:00 GMT        3      1   \n",
       "\n",
       "            store_address   store_city  store_id store_state  store_zipcode  \\\n",
       "0  12125 Alamo Ranch Pkwy  San Antonio         1          TX          78253   \n",
       "1  12125 Alamo Ranch Pkwy  San Antonio         1          TX          78253   \n",
       "2  12125 Alamo Ranch Pkwy  San Antonio         1          TX          78253   \n",
       "\n",
       "   level_0  index item_brand  item_id                       item_name  \\\n",
       "0        0    0.0   Riceland        1  Riceland American Jazmine Rice   \n",
       "1        0    0.0   Riceland        1  Riceland American Jazmine Rice   \n",
       "2        0    0.0   Riceland        1  Riceland American Jazmine Rice   \n",
       "\n",
       "   item_price   item_upc12   item_upc14  \n",
       "0        0.84  35200264013  35200264013  \n",
       "1        0.84  35200264013  35200264013  \n",
       "2        0.84  35200264013  35200264013  "
      ]
     },
     "execution_count": 5,
     "metadata": {},
     "output_type": "execute_result"
    }
   ],
   "source": [
    "df.head(3)"
   ]
  },
  {
   "cell_type": "code",
   "execution_count": 6,
   "id": "965f35f9",
   "metadata": {},
   "outputs": [
    {
     "data": {
      "text/plain": [
       "1     91300\n",
       "2     91300\n",
       "3     91300\n",
       "4     91300\n",
       "5     91300\n",
       "6     91300\n",
       "7     91300\n",
       "8     91300\n",
       "9     91300\n",
       "10    91300\n",
       "Name: store, dtype: int64"
      ]
     },
     "execution_count": 6,
     "metadata": {},
     "output_type": "execute_result"
    }
   ],
   "source": [
    "df.store.value_counts()"
   ]
  },
  {
   "cell_type": "markdown",
   "id": "a1d7d47e",
   "metadata": {},
   "source": [
    "### `10 stores with equal 91,300 transactions`"
   ]
  },
  {
   "cell_type": "code",
   "execution_count": 7,
   "id": "7e8feddb",
   "metadata": {},
   "outputs": [
    {
     "data": {
      "text/plain": [
       "(0.6, 9.64, 5.16, 5.195)"
      ]
     },
     "execution_count": 7,
     "metadata": {},
     "output_type": "execute_result"
    }
   ],
   "source": [
    "df.item_price.min(), df.item_price.max(), round(df.item_price.mean(),2) , df.item_price.median()"
   ]
  },
  {
   "cell_type": "markdown",
   "id": "ecdf7bc1",
   "metadata": {},
   "source": [
    "### `item price info above`"
   ]
  },
  {
   "cell_type": "code",
   "execution_count": 8,
   "id": "4e5e2148",
   "metadata": {},
   "outputs": [
    {
     "data": {
      "text/plain": [
       "(0.0, 231.0, 52.250286966046005, 47.0)"
      ]
     },
     "execution_count": 8,
     "metadata": {},
     "output_type": "execute_result"
    }
   ],
   "source": [
    "df.sale_amount.min(), df.sale_amount.max(), df.sale_amount.mean(), df.sale_amount.median()"
   ]
  },
  {
   "cell_type": "markdown",
   "id": "c2bb5850",
   "metadata": {},
   "source": [
    "### `sale amount info above`"
   ]
  },
  {
   "cell_type": "code",
   "execution_count": 9,
   "id": "353b159e",
   "metadata": {},
   "outputs": [
    {
     "data": {
      "text/plain": [
       "Usda Produce              36520\n",
       "Ahold                     18260\n",
       "Suave                     18260\n",
       "Petmate                   18260\n",
       "Honest Tea                18260\n",
       "P.f. Changs               18260\n",
       "Reese                     18260\n",
       "Easy-off                  18260\n",
       "Elmers                    18260\n",
       "Betty Crocker             18260\n",
       "Garnier Nutritioniste     18260\n",
       "Dove                      18260\n",
       "Ferrara                   18260\n",
       "Morton                    18260\n",
       "Earths Best               18260\n",
       "Riceland                  18260\n",
       "Triaminic                 18260\n",
       "Smart Living              18260\n",
       "Heinz                     18260\n",
       "Burts Bees                18260\n",
       "Bear Naked                18260\n",
       "Munchies                  18260\n",
       "Lea & Perrins             18260\n",
       "Hood                      18260\n",
       "Van De Kamps              18260\n",
       "Sundown Naturals          18260\n",
       "Zhenas Gypsy Tea          18260\n",
       "Doctors Best              18260\n",
       "Mueller                   18260\n",
       "Twinings Of London        18260\n",
       "Sally Hansen              18260\n",
       "Boars Head                18260\n",
       "Barefoot                  18260\n",
       "Back To Nature            18260\n",
       "Caress                    18260\n",
       "Ducal                     18260\n",
       "Moms Best Naturals        18260\n",
       "The First Years           18260\n",
       "Pamprin                   18260\n",
       "Choice                    18260\n",
       "Careone                   18260\n",
       "Nakano                    18260\n",
       "Amys                      18260\n",
       "Natures Way               18260\n",
       "Mama Marys                18260\n",
       "Deerfields Gluten Free    18260\n",
       "Kelloggs                  18260\n",
       "Scotch                    18260\n",
       "Halls                     18260\n",
       "Name: item_brand, dtype: int64"
      ]
     },
     "execution_count": 9,
     "metadata": {},
     "output_type": "execute_result"
    }
   ],
   "source": [
    "df.item_brand.value_counts()"
   ]
  },
  {
   "cell_type": "markdown",
   "id": "c464d40c",
   "metadata": {},
   "source": [
    "### `the item_brand Usda Produce seems to have double the amount of observations as other brands`"
   ]
  },
  {
   "cell_type": "markdown",
   "id": "f74a9fb3",
   "metadata": {},
   "source": [
    "# Which location has the most sales?"
   ]
  },
  {
   "cell_type": "code",
   "execution_count": 10,
   "id": "92d436e3",
   "metadata": {},
   "outputs": [
    {
     "data": {
      "text/plain": [
       "store_id\n",
       "7     3320009.0\n",
       "6     3627670.0\n",
       "5     3631016.0\n",
       "1     4315603.0\n",
       "4     5012639.0\n",
       "9     5025976.0\n",
       "10    5360158.0\n",
       "3     5435144.0\n",
       "8     5856169.0\n",
       "2     6120128.0\n",
       "Name: sale_amount, dtype: float64"
      ]
     },
     "execution_count": 10,
     "metadata": {},
     "output_type": "execute_result"
    }
   ],
   "source": [
    "df.groupby(\"store_id\").sale_amount.sum().sort_values()"
   ]
  },
  {
   "cell_type": "markdown",
   "id": "0c03ce28",
   "metadata": {},
   "source": [
    "### `Store number 2 makes the most money`"
   ]
  },
  {
   "cell_type": "code",
   "execution_count": 11,
   "id": "ead85c28",
   "metadata": {},
   "outputs": [
    {
     "data": {
      "text/plain": [
       "store_id\n",
       "1     5.1604\n",
       "2     5.1604\n",
       "3     5.1604\n",
       "4     5.1604\n",
       "5     5.1604\n",
       "6     5.1604\n",
       "7     5.1604\n",
       "8     5.1604\n",
       "9     5.1604\n",
       "10    5.1604\n",
       "Name: item_price, dtype: float64"
      ]
     },
     "execution_count": 11,
     "metadata": {},
     "output_type": "execute_result"
    }
   ],
   "source": [
    "df.groupby(\"store_id\").item_price.mean().sort_values()"
   ]
  },
  {
   "cell_type": "markdown",
   "id": "6f637d12",
   "metadata": {},
   "source": [
    "### `All stores seem to sell the same items`"
   ]
  },
  {
   "cell_type": "code",
   "execution_count": 12,
   "id": "f719b489",
   "metadata": {},
   "outputs": [
    {
     "data": {
      "text/plain": [
       "0              1\n",
       "1              2\n",
       "2              3\n",
       "3              4\n",
       "4              5\n",
       "           ...  \n",
       "912995    912996\n",
       "912996    912997\n",
       "912997    912998\n",
       "912998    912999\n",
       "912999    913000\n",
       "Name: sale_id, Length: 913000, dtype: int64"
      ]
     },
     "execution_count": 12,
     "metadata": {},
     "output_type": "execute_result"
    }
   ],
   "source": [
    "df.sale_id.sort_values()"
   ]
  },
  {
   "cell_type": "markdown",
   "id": "55f7a80f",
   "metadata": {},
   "source": [
    "### `Can drop sale_id`"
   ]
  },
  {
   "cell_type": "code",
   "execution_count": 13,
   "id": "39337963",
   "metadata": {},
   "outputs": [
    {
     "data": {
      "text/plain": [
       "1     18260\n",
       "38    18260\n",
       "28    18260\n",
       "Name: item, dtype: int64"
      ]
     },
     "execution_count": 13,
     "metadata": {},
     "output_type": "execute_result"
    }
   ],
   "source": [
    "df.item.value_counts().head(3)"
   ]
  },
  {
   "cell_type": "markdown",
   "id": "ff8fcdc5",
   "metadata": {},
   "source": [
    "### `Can drop item`"
   ]
  },
  {
   "cell_type": "code",
   "execution_count": 14,
   "id": "3cb119d0",
   "metadata": {},
   "outputs": [
    {
     "data": {
      "text/html": [
       "<div>\n",
       "<style scoped>\n",
       "    .dataframe tbody tr th:only-of-type {\n",
       "        vertical-align: middle;\n",
       "    }\n",
       "\n",
       "    .dataframe tbody tr th {\n",
       "        vertical-align: top;\n",
       "    }\n",
       "\n",
       "    .dataframe thead th {\n",
       "        text-align: right;\n",
       "    }\n",
       "</style>\n",
       "<table border=\"1\" class=\"dataframe\">\n",
       "  <thead>\n",
       "    <tr style=\"text-align: right;\">\n",
       "      <th></th>\n",
       "      <th>item</th>\n",
       "      <th>sale_amount</th>\n",
       "      <th>sale_date</th>\n",
       "      <th>sale_id</th>\n",
       "      <th>store</th>\n",
       "      <th>store_address</th>\n",
       "      <th>store_city</th>\n",
       "      <th>store_id</th>\n",
       "      <th>store_state</th>\n",
       "      <th>store_zipcode</th>\n",
       "      <th>level_0</th>\n",
       "      <th>index</th>\n",
       "      <th>item_brand</th>\n",
       "      <th>item_id</th>\n",
       "      <th>item_name</th>\n",
       "      <th>item_price</th>\n",
       "      <th>item_upc12</th>\n",
       "      <th>item_upc14</th>\n",
       "    </tr>\n",
       "  </thead>\n",
       "  <tbody>\n",
       "    <tr>\n",
       "      <th>0</th>\n",
       "      <td>1</td>\n",
       "      <td>13.0</td>\n",
       "      <td>Tue, 01 Jan 2013 00:00:00 GMT</td>\n",
       "      <td>1</td>\n",
       "      <td>1</td>\n",
       "      <td>12125 Alamo Ranch Pkwy</td>\n",
       "      <td>San Antonio</td>\n",
       "      <td>1</td>\n",
       "      <td>TX</td>\n",
       "      <td>78253</td>\n",
       "      <td>0</td>\n",
       "      <td>0.0</td>\n",
       "      <td>Riceland</td>\n",
       "      <td>1</td>\n",
       "      <td>Riceland American Jazmine Rice</td>\n",
       "      <td>0.84</td>\n",
       "      <td>35200264013</td>\n",
       "      <td>35200264013</td>\n",
       "    </tr>\n",
       "    <tr>\n",
       "      <th>1</th>\n",
       "      <td>1</td>\n",
       "      <td>11.0</td>\n",
       "      <td>Wed, 02 Jan 2013 00:00:00 GMT</td>\n",
       "      <td>2</td>\n",
       "      <td>1</td>\n",
       "      <td>12125 Alamo Ranch Pkwy</td>\n",
       "      <td>San Antonio</td>\n",
       "      <td>1</td>\n",
       "      <td>TX</td>\n",
       "      <td>78253</td>\n",
       "      <td>0</td>\n",
       "      <td>0.0</td>\n",
       "      <td>Riceland</td>\n",
       "      <td>1</td>\n",
       "      <td>Riceland American Jazmine Rice</td>\n",
       "      <td>0.84</td>\n",
       "      <td>35200264013</td>\n",
       "      <td>35200264013</td>\n",
       "    </tr>\n",
       "    <tr>\n",
       "      <th>2</th>\n",
       "      <td>1</td>\n",
       "      <td>14.0</td>\n",
       "      <td>Thu, 03 Jan 2013 00:00:00 GMT</td>\n",
       "      <td>3</td>\n",
       "      <td>1</td>\n",
       "      <td>12125 Alamo Ranch Pkwy</td>\n",
       "      <td>San Antonio</td>\n",
       "      <td>1</td>\n",
       "      <td>TX</td>\n",
       "      <td>78253</td>\n",
       "      <td>0</td>\n",
       "      <td>0.0</td>\n",
       "      <td>Riceland</td>\n",
       "      <td>1</td>\n",
       "      <td>Riceland American Jazmine Rice</td>\n",
       "      <td>0.84</td>\n",
       "      <td>35200264013</td>\n",
       "      <td>35200264013</td>\n",
       "    </tr>\n",
       "  </tbody>\n",
       "</table>\n",
       "</div>"
      ],
      "text/plain": [
       "   item  sale_amount                      sale_date  sale_id  store  \\\n",
       "0     1         13.0  Tue, 01 Jan 2013 00:00:00 GMT        1      1   \n",
       "1     1         11.0  Wed, 02 Jan 2013 00:00:00 GMT        2      1   \n",
       "2     1         14.0  Thu, 03 Jan 2013 00:00:00 GMT        3      1   \n",
       "\n",
       "            store_address   store_city  store_id store_state  store_zipcode  \\\n",
       "0  12125 Alamo Ranch Pkwy  San Antonio         1          TX          78253   \n",
       "1  12125 Alamo Ranch Pkwy  San Antonio         1          TX          78253   \n",
       "2  12125 Alamo Ranch Pkwy  San Antonio         1          TX          78253   \n",
       "\n",
       "   level_0  index item_brand  item_id                       item_name  \\\n",
       "0        0    0.0   Riceland        1  Riceland American Jazmine Rice   \n",
       "1        0    0.0   Riceland        1  Riceland American Jazmine Rice   \n",
       "2        0    0.0   Riceland        1  Riceland American Jazmine Rice   \n",
       "\n",
       "   item_price   item_upc12   item_upc14  \n",
       "0        0.84  35200264013  35200264013  \n",
       "1        0.84  35200264013  35200264013  \n",
       "2        0.84  35200264013  35200264013  "
      ]
     },
     "execution_count": 14,
     "metadata": {},
     "output_type": "execute_result"
    }
   ],
   "source": [
    "df.head(3)"
   ]
  },
  {
   "cell_type": "code",
   "execution_count": 15,
   "id": "a9d8164b",
   "metadata": {},
   "outputs": [
    {
     "data": {
      "text/plain": [
       "0    36520\n",
       "2    36520\n",
       "3    36520\n",
       "Name: level_0, dtype: int64"
      ]
     },
     "execution_count": 15,
     "metadata": {},
     "output_type": "execute_result"
    }
   ],
   "source": [
    "df.level_0.value_counts().head(3)"
   ]
  },
  {
   "cell_type": "markdown",
   "id": "0103c9ed",
   "metadata": {},
   "source": [
    "### `Can drop level_0`"
   ]
  },
  {
   "cell_type": "code",
   "execution_count": 18,
   "id": "60ebc206",
   "metadata": {},
   "outputs": [
    {
     "data": {
      "text/plain": [
       "0         0.0\n",
       "371293    0.0\n",
       "371292    0.0\n",
       "371291    0.0\n",
       "371290    0.0\n",
       "         ... \n",
       "912995    NaN\n",
       "912996    NaN\n",
       "912997    NaN\n",
       "912998    NaN\n",
       "912999    NaN\n",
       "Name: index, Length: 913000, dtype: float64"
      ]
     },
     "execution_count": 18,
     "metadata": {},
     "output_type": "execute_result"
    }
   ],
   "source": [
    "df['index'].sort_values()"
   ]
  },
  {
   "cell_type": "markdown",
   "id": "3e559c92",
   "metadata": {},
   "source": [
    "### `Can drop index`"
   ]
  },
  {
   "cell_type": "code",
   "execution_count": null,
   "id": "9006e994",
   "metadata": {},
   "outputs": [],
   "source": []
  }
 ],
 "metadata": {
  "kernelspec": {
   "display_name": "Python 3",
   "language": "python",
   "name": "python3"
  },
  "language_info": {
   "codemirror_mode": {
    "name": "ipython",
    "version": 3
   },
   "file_extension": ".py",
   "mimetype": "text/x-python",
   "name": "python",
   "nbconvert_exporter": "python",
   "pygments_lexer": "ipython3",
   "version": "3.8.8"
  }
 },
 "nbformat": 4,
 "nbformat_minor": 5
}
