{
 "cells": [
  {
   "cell_type": "code",
   "execution_count": 1,
   "id": "1d537b66",
   "metadata": {},
   "outputs": [],
   "source": [
    "import pandas as pd\n",
    "import seaborn as sns\n",
    "from wrangle import wrangle"
   ]
  },
  {
   "cell_type": "markdown",
   "id": "11a5028d",
   "metadata": {},
   "source": [
    "# Do your work for this exercise in a notebook named explore. Use the techniques in the lesson to explore the store item demand dataset and the opsd dataset.\n",
    "\n",
    "### For the store item demand data, you will need to choose a method of aggregating such that each observation is a unique date. For both datasets you should choose a method of splitting your data and only explore the training split."
   ]
  },
  {
   "cell_type": "code",
   "execution_count": 2,
   "id": "15bb3a49",
   "metadata": {},
   "outputs": [],
   "source": [
    "df = wrangle()"
   ]
  },
  {
   "cell_type": "code",
   "execution_count": 3,
   "id": "cf27ebb2",
   "metadata": {},
   "outputs": [
    {
     "name": "stdout",
     "output_type": "stream",
     "text": [
      "<class 'pandas.core.frame.DataFrame'>\n",
      "DatetimeIndex: 913000 entries, 2013-01-01 00:00:00+00:00 to 2017-12-31 00:00:00+00:00\n",
      "Data columns (total 19 columns):\n",
      " #   Column         Non-Null Count   Dtype  \n",
      "---  ------         --------------   -----  \n",
      " 0   item           913000 non-null  int64  \n",
      " 1   sale_amount    913000 non-null  float64\n",
      " 2   sale_id        913000 non-null  int64  \n",
      " 3   store          913000 non-null  int64  \n",
      " 4   store_address  913000 non-null  object \n",
      " 5   store_city     913000 non-null  object \n",
      " 6   store_id       913000 non-null  int64  \n",
      " 7   store_state    913000 non-null  object \n",
      " 8   store_zipcode  913000 non-null  int64  \n",
      " 9   level_0        913000 non-null  int64  \n",
      " 10  item_brand     913000 non-null  object \n",
      " 11  item_id        913000 non-null  int64  \n",
      " 12  item_name      913000 non-null  object \n",
      " 13  item_price     913000 non-null  float64\n",
      " 14  item_upc12     913000 non-null  int64  \n",
      " 15  item_upc14     913000 non-null  int64  \n",
      " 16  month          913000 non-null  int64  \n",
      " 17  day_of_week    913000 non-null  object \n",
      " 18  sales_total    913000 non-null  float64\n",
      "dtypes: float64(3), int64(10), object(6)\n",
      "memory usage: 139.3+ MB\n"
     ]
    }
   ],
   "source": [
    "df.info()"
   ]
  },
  {
   "cell_type": "code",
   "execution_count": null,
   "id": "abcbcb17",
   "metadata": {},
   "outputs": [],
   "source": [
    "df.to_csv('sales_prep.csv')"
   ]
  }
 ],
 "metadata": {
  "kernelspec": {
   "display_name": "Python 3",
   "language": "python",
   "name": "python3"
  },
  "language_info": {
   "codemirror_mode": {
    "name": "ipython",
    "version": 3
   },
   "file_extension": ".py",
   "mimetype": "text/x-python",
   "name": "python",
   "nbconvert_exporter": "python",
   "pygments_lexer": "ipython3",
   "version": "3.8.8"
  }
 },
 "nbformat": 4,
 "nbformat_minor": 5
}
