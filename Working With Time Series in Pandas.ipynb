{
 "cells": [
  {
   "cell_type": "code",
   "execution_count": 1,
   "id": "f3fa298b",
   "metadata": {},
   "outputs": [],
   "source": [
    "import pandas as pd\n",
    "import seaborn as sns\n",
    "import matplotlib.pyplot as plt\n",
    "\n",
    "from vega_datasets import data"
   ]
  },
  {
   "cell_type": "markdown",
   "id": "66194379",
   "metadata": {},
   "source": [
    "# Resample by the day and take the average temperature. Visualize the average temperature over time."
   ]
  },
  {
   "cell_type": "code",
   "execution_count": 2,
   "id": "c09a2776",
   "metadata": {},
   "outputs": [
    {
     "name": "stdout",
     "output_type": "stream",
     "text": [
      "<class 'pandas.core.frame.DataFrame'>\n",
      "RangeIndex: 8759 entries, 0 to 8758\n",
      "Data columns (total 2 columns):\n",
      " #   Column  Non-Null Count  Dtype         \n",
      "---  ------  --------------  -----         \n",
      " 0   temp    8759 non-null   float64       \n",
      " 1   date    8759 non-null   datetime64[ns]\n",
      "dtypes: datetime64[ns](1), float64(1)\n",
      "memory usage: 137.0 KB\n"
     ]
    }
   ],
   "source": [
    "data.sf_temps().info()"
   ]
  },
  {
   "cell_type": "code",
   "execution_count": 3,
   "id": "0aa79ac9",
   "metadata": {},
   "outputs": [
    {
     "data": {
      "text/plain": [
       "vega_datasets.core.DataLoader"
      ]
     },
     "execution_count": 3,
     "metadata": {},
     "output_type": "execute_result"
    }
   ],
   "source": [
    "# Checking Data Type of \"Data\"\n",
    "type(data)"
   ]
  },
  {
   "cell_type": "code",
   "execution_count": 4,
   "id": "4ee48424",
   "metadata": {},
   "outputs": [
    {
     "data": {
      "text/plain": [
       "pandas.core.frame.DataFrame"
      ]
     },
     "execution_count": 4,
     "metadata": {},
     "output_type": "execute_result"
    }
   ],
   "source": [
    "# Checking Data Type of \"Data\"\n",
    "type(data.sf_temps())"
   ]
  },
  {
   "cell_type": "code",
   "execution_count": 5,
   "id": "cfaab58a",
   "metadata": {},
   "outputs": [],
   "source": [
    "# Creating a data frame\n",
    "df = pd.DataFrame(data.sf_temps())"
   ]
  },
  {
   "cell_type": "code",
   "execution_count": 6,
   "id": "6cc94edf",
   "metadata": {},
   "outputs": [
    {
     "data": {
      "text/html": [
       "<div>\n",
       "<style scoped>\n",
       "    .dataframe tbody tr th:only-of-type {\n",
       "        vertical-align: middle;\n",
       "    }\n",
       "\n",
       "    .dataframe tbody tr th {\n",
       "        vertical-align: top;\n",
       "    }\n",
       "\n",
       "    .dataframe thead th {\n",
       "        text-align: right;\n",
       "    }\n",
       "</style>\n",
       "<table border=\"1\" class=\"dataframe\">\n",
       "  <thead>\n",
       "    <tr style=\"text-align: right;\">\n",
       "      <th></th>\n",
       "      <th>temp</th>\n",
       "      <th>date</th>\n",
       "    </tr>\n",
       "  </thead>\n",
       "  <tbody>\n",
       "    <tr>\n",
       "      <th>0</th>\n",
       "      <td>47.8</td>\n",
       "      <td>2010-01-01 00:00:00</td>\n",
       "    </tr>\n",
       "    <tr>\n",
       "      <th>1</th>\n",
       "      <td>47.4</td>\n",
       "      <td>2010-01-01 01:00:00</td>\n",
       "    </tr>\n",
       "    <tr>\n",
       "      <th>2</th>\n",
       "      <td>46.9</td>\n",
       "      <td>2010-01-01 02:00:00</td>\n",
       "    </tr>\n",
       "    <tr>\n",
       "      <th>3</th>\n",
       "      <td>46.5</td>\n",
       "      <td>2010-01-01 03:00:00</td>\n",
       "    </tr>\n",
       "    <tr>\n",
       "      <th>4</th>\n",
       "      <td>46.0</td>\n",
       "      <td>2010-01-01 04:00:00</td>\n",
       "    </tr>\n",
       "  </tbody>\n",
       "</table>\n",
       "</div>"
      ],
      "text/plain": [
       "   temp                date\n",
       "0  47.8 2010-01-01 00:00:00\n",
       "1  47.4 2010-01-01 01:00:00\n",
       "2  46.9 2010-01-01 02:00:00\n",
       "3  46.5 2010-01-01 03:00:00\n",
       "4  46.0 2010-01-01 04:00:00"
      ]
     },
     "execution_count": 6,
     "metadata": {},
     "output_type": "execute_result"
    }
   ],
   "source": [
    "# Making sure df looks good\n",
    "df.head()"
   ]
  },
  {
   "cell_type": "code",
   "execution_count": 7,
   "id": "2b16aa07",
   "metadata": {},
   "outputs": [
    {
     "data": {
      "text/plain": [
       "<seaborn.axisgrid.FacetGrid at 0x7fc4ada934c0>"
      ]
     },
     "execution_count": 7,
     "metadata": {},
     "output_type": "execute_result"
    },
    {
     "data": {
      "image/png": "[encoded data removed]",
      "text/plain": [
       "<Figure size 421.875x360 with 1 Axes>"
      ]
     },
     "metadata": {
      "needs_background": "light"
     },
     "output_type": "display_data"
    }
   ],
   "source": [
    "sns.relplot(data=df, kind=\"line\")"
   ]
  },
  {
   "cell_type": "code",
   "execution_count": null,
   "id": "22f5fbc4",
   "metadata": {},
   "outputs": [],
   "source": []
  },
  {
   "cell_type": "code",
   "execution_count": 8,
   "id": "f3ba44e1",
   "metadata": {},
   "outputs": [
    {
     "name": "stdout",
     "output_type": "stream",
     "text": [
      "<class 'pandas.core.frame.DataFrame'>\n",
      "RangeIndex: 8759 entries, 0 to 8758\n",
      "Data columns (total 2 columns):\n",
      " #   Column  Non-Null Count  Dtype         \n",
      "---  ------  --------------  -----         \n",
      " 0   temp    8759 non-null   float64       \n",
      " 1   date    8759 non-null   datetime64[ns]\n",
      "dtypes: datetime64[ns](1), float64(1)\n",
      "memory usage: 137.0 KB\n"
     ]
    }
   ],
   "source": [
    "# Checking features\n",
    "df.info()"
   ]
  },
  {
   "cell_type": "code",
   "execution_count": 9,
   "id": "bb0193ad",
   "metadata": {},
   "outputs": [],
   "source": [
    "# Must reindex by date\n",
    "df = df.set_index('date').sort_index()"
   ]
  },
  {
   "cell_type": "code",
   "execution_count": 10,
   "id": "aa81b12a",
   "metadata": {},
   "outputs": [],
   "source": [
    "# Resampling by day and taking average.  Saving it to \"by_day\"\n",
    "by_day_avg = df.temp.resample('D').mean()"
   ]
  },
  {
   "cell_type": "code",
   "execution_count": 11,
   "id": "af4055df",
   "metadata": {},
   "outputs": [
    {
     "data": {
      "text/plain": [
       "date\n",
       "2010-01-01    49.170833\n",
       "2010-01-02    49.304167\n",
       "2010-01-03    49.391667\n",
       "2010-01-04    49.445833\n",
       "2010-01-05    49.491667\n",
       "Freq: D, Name: temp, dtype: float64"
      ]
     },
     "execution_count": 11,
     "metadata": {},
     "output_type": "execute_result"
    }
   ],
   "source": [
    "# Checking by_day to make sure it resampled correctly\n",
    "by_day_avg.head()"
   ]
  },
  {
   "cell_type": "code",
   "execution_count": 12,
   "id": "ecf7d74f",
   "metadata": {},
   "outputs": [
    {
     "data": {
      "text/plain": [
       "<seaborn.axisgrid.FacetGrid at 0x7fc4aceb25b0>"
      ]
     },
     "execution_count": 12,
     "metadata": {},
     "output_type": "execute_result"
    },
    {
     "data": {
      "image/png": "[encoded data removed]",
      "text/plain": [
       "<Figure size 360x360 with 1 Axes>"
      ]
     },
     "metadata": {
      "needs_background": "light"
     },
     "output_type": "display_data"
    }
   ],
   "source": [
    "sns.relplot(data=by_day_avg, kind=\"line\")"
   ]
  },
  {
   "cell_type": "markdown",
   "id": "890fe8b5",
   "metadata": {},
   "source": [
    "# Write the code necessary to visualize the minimum temperature over time."
   ]
  },
  {
   "cell_type": "code",
   "execution_count": 13,
   "id": "b7b31502",
   "metadata": {},
   "outputs": [],
   "source": [
    "# Grabbing only the lowest values for that time\n",
    "by_day_min = df.temp.resample('D').min()"
   ]
  },
  {
   "cell_type": "code",
   "execution_count": 14,
   "id": "f9756170",
   "metadata": {},
   "outputs": [
    {
     "data": {
      "text/plain": [
       "<seaborn.axisgrid.FacetGrid at 0x7fc4ad326130>"
      ]
     },
     "execution_count": 14,
     "metadata": {},
     "output_type": "execute_result"
    },
    {
     "data": {
      "image/png": "[encoded data removed]",
      "text/plain": [
       "<Figure size 360x360 with 1 Axes>"
      ]
     },
     "metadata": {
      "needs_background": "light"
     },
     "output_type": "display_data"
    }
   ],
   "source": [
    "sns.relplot(data=by_day_min, kind=\"line\")"
   ]
  },
  {
   "cell_type": "markdown",
   "id": "21c36351",
   "metadata": {},
   "source": [
    "# Write the code necessary to visualize the maximum temperature over time."
   ]
  },
  {
   "cell_type": "code",
   "execution_count": 15,
   "id": "cb4ceb02",
   "metadata": {},
   "outputs": [],
   "source": [
    "# Grabbing only the highest values for that time\n",
    "by_day_max = df.temp.resample('D').max()"
   ]
  },
  {
   "cell_type": "code",
   "execution_count": 16,
   "id": "15db4f63",
   "metadata": {},
   "outputs": [
    {
     "data": {
      "text/plain": [
       "<seaborn.axisgrid.FacetGrid at 0x7fc4ad5fd3a0>"
      ]
     },
     "execution_count": 16,
     "metadata": {},
     "output_type": "execute_result"
    },
    {
     "data": {
      "image/png": "[encoded data removed]",
      "text/plain": [
       "<Figure size 360x360 with 1 Axes>"
      ]
     },
     "metadata": {
      "needs_background": "light"
     },
     "output_type": "display_data"
    }
   ],
   "source": [
    "sns.relplot(data=by_day_max, kind=\"line\")"
   ]
  },
  {
   "cell_type": "markdown",
   "id": "2508b6c7",
   "metadata": {},
   "source": [
    "# Which month is the coldest, on average?"
   ]
  },
  {
   "cell_type": "code",
   "execution_count": 18,
   "id": "c92aaa6c",
   "metadata": {},
   "outputs": [],
   "source": [
    "# Resampling by month and taking the max.  Saving it to \"by_month_max\"\n",
    "by_month_avg = df.temp.resample('M').mean()"
   ]
  },
  {
   "cell_type": "code",
   "execution_count": 19,
   "id": "3fae76ae",
   "metadata": {},
   "outputs": [
    {
     "data": {
      "text/plain": [
       "date\n",
       "2010-01-31    49.984140\n",
       "2010-02-28    52.243899\n",
       "2010-03-31    53.956528\n",
       "2010-04-30    55.633056\n",
       "2010-05-31    57.970968\n",
       "Freq: M, Name: temp, dtype: float64"
      ]
     },
     "execution_count": 19,
     "metadata": {},
     "output_type": "execute_result"
    }
   ],
   "source": [
    "# Checking to make sure it was resampled by month\n",
    "by_month_avg.head()"
   ]
  },
  {
   "cell_type": "code",
   "execution_count": 20,
   "id": "6e00a5ca",
   "metadata": {},
   "outputs": [
    {
     "data": {
      "text/plain": [
       "Timestamp('2010-01-31 00:00:00', freq='M')"
      ]
     },
     "execution_count": 20,
     "metadata": {},
     "output_type": "execute_result"
    }
   ],
   "source": [
    "by_month_avg.idxmin()"
   ]
  },
  {
   "cell_type": "code",
   "execution_count": 21,
   "id": "51c55b51",
   "metadata": {},
   "outputs": [
    {
     "data": {
      "text/plain": [
       "<seaborn.axisgrid.FacetGrid at 0x7fc4ad326a30>"
      ]
     },
     "execution_count": 21,
     "metadata": {},
     "output_type": "execute_result"
    },
    {
     "data": {
      "image/png": "[encoded data removed]",
      "text/plain": [
       "<Figure size 360x360 with 1 Axes>"
      ]
     },
     "metadata": {
      "needs_background": "light"
     },
     "output_type": "display_data"
    }
   ],
   "source": [
    "sns.relplot(data=by_month_avg, kind=\"line\")\n"
   ]
  },
  {
   "cell_type": "markdown",
   "id": "18dce45b",
   "metadata": {},
   "source": [
    "# Which month has the highest average temperature?"
   ]
  },
  {
   "cell_type": "code",
   "execution_count": 23,
   "id": "47794eb7",
   "metadata": {},
   "outputs": [],
   "source": [
    "# Resampling by month and taking the avg.  Saving it to \"by_month_avg\"\n",
    "by_month_avg = df.temp.resample('M').mean()"
   ]
  },
  {
   "cell_type": "code",
   "execution_count": 24,
   "id": "ee2ebf2e",
   "metadata": {},
   "outputs": [
    {
     "data": {
      "text/plain": [
       "Timestamp('2010-09-30 00:00:00', freq='M')"
      ]
     },
     "execution_count": 24,
     "metadata": {},
     "output_type": "execute_result"
    }
   ],
   "source": [
    "by_month_avg.idxmax()"
   ]
  },
  {
   "cell_type": "code",
   "execution_count": 25,
   "id": "fd2f351a",
   "metadata": {},
   "outputs": [
    {
     "data": {
      "text/plain": [
       "<seaborn.axisgrid.FacetGrid at 0x7fc4ae1fe700>"
      ]
     },
     "execution_count": 25,
     "metadata": {},
     "output_type": "execute_result"
    },
    {
     "data": {
      "image/png": "[encoded data removed]",
      "text/plain": [
       "<Figure size 360x360 with 1 Axes>"
      ]
     },
     "metadata": {
      "needs_background": "light"
     },
     "output_type": "display_data"
    }
   ],
   "source": [
    "sns.relplot(data=by_month_avg, kind=\"line\")"
   ]
  },
  {
   "cell_type": "markdown",
   "id": "43518be2",
   "metadata": {},
   "source": [
    "# Resample by the day and calculate the min and max temp for the day (Hint: .agg(['min', 'max'])). Use this resampled dataframe to calculate the change in temperature for the day. Which month has the highest daily temperature variability?"
   ]
  },
  {
   "cell_type": "code",
   "execution_count": 26,
   "id": "fd6cc1cc",
   "metadata": {},
   "outputs": [],
   "source": [
    "# Grabbing only the highest values for that day\n",
    "by_day_max = df.temp.resample('D').max()\n",
    "by_day_min = df.temp.resample('D').min()"
   ]
  },
  {
   "cell_type": "code",
   "execution_count": 27,
   "id": "dec49e4e",
   "metadata": {},
   "outputs": [],
   "source": [
    "resampled_df = pd.DataFrame(by_day_max)"
   ]
  },
  {
   "cell_type": "code",
   "execution_count": 28,
   "id": "3f5f1877",
   "metadata": {},
   "outputs": [],
   "source": [
    "resampled_df = resampled_df.rename(columns={'temp': 'temp_max'})"
   ]
  },
  {
   "cell_type": "code",
   "execution_count": 29,
   "id": "e631e699",
   "metadata": {},
   "outputs": [],
   "source": [
    "resampled_df[\"temp_min\"] = by_day_min"
   ]
  },
  {
   "cell_type": "code",
   "execution_count": 30,
   "id": "71d77132",
   "metadata": {},
   "outputs": [
    {
     "data": {
      "text/html": [
       "<div>\n",
       "<style scoped>\n",
       "    .dataframe tbody tr th:only-of-type {\n",
       "        vertical-align: middle;\n",
       "    }\n",
       "\n",
       "    .dataframe tbody tr th {\n",
       "        vertical-align: top;\n",
       "    }\n",
       "\n",
       "    .dataframe thead th {\n",
       "        text-align: right;\n",
       "    }\n",
       "</style>\n",
       "<table border=\"1\" class=\"dataframe\">\n",
       "  <thead>\n",
       "    <tr style=\"text-align: right;\">\n",
       "      <th></th>\n",
       "      <th>temp_max</th>\n",
       "      <th>temp_min</th>\n",
       "    </tr>\n",
       "    <tr>\n",
       "      <th>date</th>\n",
       "      <th></th>\n",
       "      <th></th>\n",
       "    </tr>\n",
       "  </thead>\n",
       "  <tbody>\n",
       "    <tr>\n",
       "      <th>2010-01-01</th>\n",
       "      <td>53.3</td>\n",
       "      <td>45.8</td>\n",
       "    </tr>\n",
       "    <tr>\n",
       "      <th>2010-01-02</th>\n",
       "      <td>53.4</td>\n",
       "      <td>46.0</td>\n",
       "    </tr>\n",
       "    <tr>\n",
       "      <th>2010-01-03</th>\n",
       "      <td>53.5</td>\n",
       "      <td>46.1</td>\n",
       "    </tr>\n",
       "    <tr>\n",
       "      <th>2010-01-04</th>\n",
       "      <td>53.6</td>\n",
       "      <td>46.1</td>\n",
       "    </tr>\n",
       "    <tr>\n",
       "      <th>2010-01-05</th>\n",
       "      <td>53.8</td>\n",
       "      <td>46.1</td>\n",
       "    </tr>\n",
       "  </tbody>\n",
       "</table>\n",
       "</div>"
      ],
      "text/plain": [
       "            temp_max  temp_min\n",
       "date                          \n",
       "2010-01-01      53.3      45.8\n",
       "2010-01-02      53.4      46.0\n",
       "2010-01-03      53.5      46.1\n",
       "2010-01-04      53.6      46.1\n",
       "2010-01-05      53.8      46.1"
      ]
     },
     "execution_count": 30,
     "metadata": {},
     "output_type": "execute_result"
    }
   ],
   "source": [
    "resampled_df.head()"
   ]
  },
  {
   "cell_type": "code",
   "execution_count": 31,
   "id": "0583fa9e",
   "metadata": {},
   "outputs": [],
   "source": [
    "resampled_df[\"change\"] = resampled_df.temp_max - resampled_df.temp_min"
   ]
  },
  {
   "cell_type": "code",
   "execution_count": 32,
   "id": "fafb00e4",
   "metadata": {},
   "outputs": [
    {
     "data": {
      "text/html": [
       "<div>\n",
       "<style scoped>\n",
       "    .dataframe tbody tr th:only-of-type {\n",
       "        vertical-align: middle;\n",
       "    }\n",
       "\n",
       "    .dataframe tbody tr th {\n",
       "        vertical-align: top;\n",
       "    }\n",
       "\n",
       "    .dataframe thead th {\n",
       "        text-align: right;\n",
       "    }\n",
       "</style>\n",
       "<table border=\"1\" class=\"dataframe\">\n",
       "  <thead>\n",
       "    <tr style=\"text-align: right;\">\n",
       "      <th></th>\n",
       "      <th>temp_max</th>\n",
       "      <th>temp_min</th>\n",
       "      <th>change</th>\n",
       "    </tr>\n",
       "    <tr>\n",
       "      <th>date</th>\n",
       "      <th></th>\n",
       "      <th></th>\n",
       "      <th></th>\n",
       "    </tr>\n",
       "  </thead>\n",
       "  <tbody>\n",
       "    <tr>\n",
       "      <th>2010-01-01</th>\n",
       "      <td>53.3</td>\n",
       "      <td>45.8</td>\n",
       "      <td>7.5</td>\n",
       "    </tr>\n",
       "    <tr>\n",
       "      <th>2010-01-02</th>\n",
       "      <td>53.4</td>\n",
       "      <td>46.0</td>\n",
       "      <td>7.4</td>\n",
       "    </tr>\n",
       "    <tr>\n",
       "      <th>2010-01-03</th>\n",
       "      <td>53.5</td>\n",
       "      <td>46.1</td>\n",
       "      <td>7.4</td>\n",
       "    </tr>\n",
       "    <tr>\n",
       "      <th>2010-01-04</th>\n",
       "      <td>53.6</td>\n",
       "      <td>46.1</td>\n",
       "      <td>7.5</td>\n",
       "    </tr>\n",
       "    <tr>\n",
       "      <th>2010-01-05</th>\n",
       "      <td>53.8</td>\n",
       "      <td>46.1</td>\n",
       "      <td>7.7</td>\n",
       "    </tr>\n",
       "  </tbody>\n",
       "</table>\n",
       "</div>"
      ],
      "text/plain": [
       "            temp_max  temp_min  change\n",
       "date                                  \n",
       "2010-01-01      53.3      45.8     7.5\n",
       "2010-01-02      53.4      46.0     7.4\n",
       "2010-01-03      53.5      46.1     7.4\n",
       "2010-01-04      53.6      46.1     7.5\n",
       "2010-01-05      53.8      46.1     7.7"
      ]
     },
     "execution_count": 32,
     "metadata": {},
     "output_type": "execute_result"
    }
   ],
   "source": [
    "resampled_df.head()"
   ]
  },
  {
   "cell_type": "code",
   "execution_count": 33,
   "id": "22c01779",
   "metadata": {},
   "outputs": [],
   "source": [
    "resampled_by_month_max = resampled_df.change.resample('M').max()"
   ]
  },
  {
   "cell_type": "code",
   "execution_count": 34,
   "id": "fe805439",
   "metadata": {},
   "outputs": [
    {
     "data": {
      "text/plain": [
       "date\n",
       "2010-08-31    15.0\n",
       "Name: change, dtype: float64"
      ]
     },
     "execution_count": 34,
     "metadata": {},
     "output_type": "execute_result"
    }
   ],
   "source": [
    "resampled_by_month_max.sort_values(ascending=False).head(1)"
   ]
  },
  {
   "cell_type": "code",
   "execution_count": null,
   "id": "108ceaae",
   "metadata": {},
   "outputs": [],
   "source": []
  }
 ],
 "metadata": {
  "kernelspec": {
   "display_name": "Python 3",
   "language": "python",
   "name": "python3"
  },
  "language_info": {
   "codemirror_mode": {
    "name": "ipython",
    "version": 3
   },
   "file_extension": ".py",
   "mimetype": "text/x-python",
   "name": "python",
   "nbconvert_exporter": "python",
   "pygments_lexer": "ipython3",
   "version": "3.8.8"
  }
 },
 "nbformat": 4,
 "nbformat_minor": 5
}
