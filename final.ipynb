{
 "cells": [
  {
   "cell_type": "code",
   "execution_count": 1,
   "id": "730f2eb4",
   "metadata": {},
   "outputs": [],
   "source": [
    "import warnings\n",
    "import pandas as pd\n",
    "import numpy as np\n",
    "warnings.filterwarnings('ignore')\n",
    "\n",
    "from datetime import datetime\n",
    "from sklearn.metrics import mean_squared_error\n",
    "from math import sqrt\n",
    "\n",
    "import matplotlib.pyplot as plt\n",
    "%matplotlib inline\n",
    "import seaborn as sns\n",
    "\n",
    "from pandas.plotting import register_matplotlib_converters\n",
    "\n",
    "import statsmodels.api as sm\n",
    "from statsmodels.tsa.api import Holt\n",
    "\n",
    "import env"
   ]
  },
  {
   "cell_type": "markdown",
   "id": "72850059",
   "metadata": {},
   "source": [
    "# Functions"
   ]
  },
  {
   "cell_type": "markdown",
   "id": "835631b4",
   "metadata": {},
   "source": [
    "### Functions not setup and seperated in prepare.py file due to the time restraint goal of having deliverables in after 36 hours"
   ]
  },
  {
   "cell_type": "code",
   "execution_count": 2,
   "id": "9221634f",
   "metadata": {},
   "outputs": [],
   "source": [
    "def clean(df):\n",
    "    '''\n",
    "    This Function filters out the df by the city of Los Angeles, drops columns,\n",
    "    renames, sets the index to the date, & converts to Fahrenheit\n",
    "    \n",
    "    '''\n",
    "    \n",
    "    # Filtering out by USA\n",
    "    df = df[df.Country == \"United States\"]\n",
    "    \n",
    "    # Filtering out by Los Angeles\n",
    "    df = df[df.City == \"Los Angeles\"]\n",
    "    \n",
    "    # Dropping columns that wont be needed\n",
    "    df = df.drop(columns=['Country', 'Latitude', 'Longitude', 'City', 'AverageTemperatureUncertainty'])\n",
    "    \n",
    "    # Renaming AverageTemperature to just temp\n",
    "    df = df.rename(columns={\"AverageTemperature\": \"temp\"})\n",
    "    \n",
    "    # Converting sale_date type object to datetime64\n",
    "    df.dt = pd.to_datetime(df.dt)\n",
    "    \n",
    "    # Removing dates before 2010-09-01, leaving me excatly 3 years\n",
    "    df = df[~(df['dt'] < '2006-09-01')]\n",
    "    \n",
    "    # Resetting the index to datetime\n",
    "    df = df.set_index('dt').sort_index()\n",
    "    \n",
    "    # Convert to fahrenheit\n",
    "    df.temp = df.temp.apply(celsius_to_fahrenheit)\n",
    "    \n",
    "    return df"
   ]
  },
  {
   "cell_type": "code",
   "execution_count": 3,
   "id": "42b33636",
   "metadata": {},
   "outputs": [],
   "source": [
    "def celsius_to_fahrenheit(c):\n",
    "    '''\n",
    "    Converting Celsius_to_fahrenheit\n",
    "    '''\n",
    "    c = float(c)\n",
    "    c = (c*(9/5)) + 32\n",
    "    return c"
   ]
  },
  {
   "cell_type": "code",
   "execution_count": 4,
   "id": "8cff9306",
   "metadata": {},
   "outputs": [],
   "source": [
    "def split(df):\n",
    "    '''\n",
    "    Splits the data into train, validate, and split. Then resampling by Month\n",
    "    '''\n",
    "    # Train 09/2009 - 12/2011\n",
    "    train = df['2009-09-01':'2011-12-01']\n",
    "    \n",
    "    # Validate 12/2011 - 12/2012\n",
    "    validate = df['2012-01-01':'2012-12-01']\n",
    "    \n",
    "    # Test 12/2012 - 09/2013\n",
    "    test = df['2013-01-01':'2013-09-01']\n",
    "    \n",
    "        \n",
    "    # Resampling it so it has a Frequency = \"M\"\n",
    "    train = train.resample('M').mean()\n",
    "    validate = validate.resample('M').mean()\n",
    "    test = test.resample('M').mean()\n",
    "    \n",
    "    return train, validate, test"
   ]
  },
  {
   "cell_type": "code",
   "execution_count": 5,
   "id": "7b5529e6",
   "metadata": {},
   "outputs": [],
   "source": [
    "# plot and evaluate: plot\n",
    "def plot_and_eval(target_var):\n",
    "    '''\n",
    "    a function to evaluate forecasts by computing the rmse and plot train and validate along with predictions\n",
    "    '''\n",
    "    plot_samples(target_var)\n",
    "    plt.plot(yhat_df[target_var])\n",
    "    plt.title(target_var)\n",
    "    rmse = evaluate(target_var)\n",
    "    print(f'--RMSE: {target_var}')\n",
    "    plt.show()"
   ]
  },
  {
   "cell_type": "code",
   "execution_count": 6,
   "id": "3cbe6d11",
   "metadata": {},
   "outputs": [],
   "source": [
    "# Define function to store rmse for comparison purposes\n",
    "\n",
    "def append_eval_df(model_type, target_var):\n",
    "    '''\n",
    "    this function is goign to take in the model type as a string, the target variable as a string,\n",
    "    and run the evalute() function to compute the rsme,\n",
    "    and append to the data frame a row with the model_type, target_var and rmse.\n",
    "    it will return the new dataframe\n",
    "    '''\n",
    "    rmse = evaluate(target_var)\n",
    "    d = {'model_type': [model_type], 'target_var': [target_var], 'rmse': [rmse]}\n",
    "    d = pd.DataFrame(d)\n",
    "    return eval_df.append(d, ignore_index=True)"
   ]
  },
  {
   "cell_type": "code",
   "execution_count": 7,
   "id": "3f60b5f6",
   "metadata": {},
   "outputs": [],
   "source": [
    "# define evaluation function to compute rmse\n",
    "\n",
    "def evaluate(target_var):\n",
    "    '''\n",
    "    Creating a function to grab rmse\n",
    "    '''\n",
    "    rmse = round(sqrt(mean_squared_error(validate[target_var], yhat_df[target_var])), 3)\n",
    "    return rmse"
   ]
  },
  {
   "cell_type": "code",
   "execution_count": 8,
   "id": "9cacbf19",
   "metadata": {},
   "outputs": [],
   "source": [
    "def plot_samples(target_var):\n",
    "    '''\n",
    "    this function wil plot the train, validate and test values for a single varibable across all dates\n",
    "    '''\n",
    "    plt.figure(figsize=(12, 4))\n",
    "    plt.plot(train[target_var])\n",
    "    plt.plot(validate[target_var])\n",
    "    plt.plot(test[target_var])\n",
    "    plt.title(target_var)"
   ]
  },
  {
   "cell_type": "code",
   "execution_count": 9,
   "id": "511b4b71",
   "metadata": {},
   "outputs": [],
   "source": [
    "def previous_cycle(train, validate, diff, eval_df):\n",
    "    '''\n",
    "    This function takes the mean the temp diff and adds that to the train values.\n",
    "    RMSE is the evaluated and stored in eval_df\n",
    "    Returns eval_df\n",
    "    '''\n",
    "    # Taking the mean of temp\n",
    "    year_diff = train.temp.diff(diff).mean()\n",
    "    \n",
    "    # Creating predictions\n",
    "    yhat_df[target_var] = train.copy().set_index(validate.index)+year_diff\n",
    "    \n",
    "    # Creating a string to label what kind of parameters were entered\n",
    "    fstring = f'Diff:{diff} Cycle:{len(train)}'\n",
    "    \n",
    "    # Save RMSE results to eval_df\n",
    "    eval_df = append_eval_df(model_type = fstring, target_var = target_var)\n",
    "    \n",
    "    return eval_df"
   ]
  },
  {
   "cell_type": "code",
   "execution_count": 10,
   "id": "23837706",
   "metadata": {},
   "outputs": [],
   "source": [
    "def holts(train, level, slope, target_var, eval_df):\n",
    "    '''\n",
    "    This function takes in train, level, slope, target_var, and eval_df.\n",
    "    It creates, fits and uses a holts model\n",
    "    It then saves the evaluated rmse to eval_df\n",
    "    returns eval_df\n",
    "    '''\n",
    "    \n",
    "    # Making the model\n",
    "    model = Holt(train[target_var], exponential = False)\n",
    "    \n",
    "    # Fitting the model\n",
    "    model = model.fit(smoothing_level = level, smoothing_slope = slope, optimized = False)\n",
    "    \n",
    "    # Making predictions \n",
    "    yhat = model.predict(start = validate.index[0], end = validate.index[-1])\n",
    "    \n",
    "    yhat_df[target_var] = round(yhat, 0)\n",
    "    fstring = f'Holts:L={level}/S={slope}'\n",
    "    eval_df = append_eval_df(model_type = fstring, target_var = target_var)\n",
    "    #plot_and_eval(target_var = target_var)\n",
    "    return eval_df"
   ]
  },
  {
   "cell_type": "markdown",
   "id": "19931f84",
   "metadata": {},
   "source": [
    "# Project and Goals"
   ]
  },
  {
   "cell_type": "markdown",
   "id": "44a36ec6",
   "metadata": {},
   "source": [
    "### - The goal of this project is to predict the temperature for the date 2013-09-01 for the city of Los Angeles using time series analysis and have the results delivered within a 36 hour time period."
   ]
  },
  {
   "cell_type": "markdown",
   "id": "c43b700c",
   "metadata": {},
   "source": [
    "## Original Hypothesis"
   ]
  },
  {
   "cell_type": "markdown",
   "id": "70a46e0f",
   "metadata": {},
   "source": [
    "### - Using a \"previous cycle\" model will use the seasons in weather to create an accurate prediction."
   ]
  },
  {
   "cell_type": "markdown",
   "id": "d1314775",
   "metadata": {},
   "source": [
    "# The Plan"
   ]
  },
  {
   "cell_type": "markdown",
   "id": "691a9f2b",
   "metadata": {},
   "source": [
    "### ***Setup***\n",
    "- Create a final.ipynb\n",
    "- Create a README.md\n",
    "- Update .gitignore"
   ]
  },
  {
   "cell_type": "markdown",
   "id": "a917e20e",
   "metadata": {},
   "source": [
    "### ***Acquire***\n",
    "- Download data from https://www.kaggle.com/berkeleyearth/climate-change-earth-surface-temperature-data\n",
    "- Read in CSV to DF\n",
    "- Run .head(), .info(), .describe()"
   ]
  },
  {
   "cell_type": "markdown",
   "id": "f645fa38",
   "metadata": {},
   "source": [
    "### ***Prepare***\n",
    "- Clean data\n",
    "    - Filter DataFrame out by USA\n",
    "    - Filter DataFRame out by Los Angeles\n",
    "    - Drop columns that wont be needed\n",
    "    - Rename Columns for easier typing and readability\n",
    "    - Convert date datatype to datetime64\n",
    "    - Remove dates before 2006-09-01\n",
    "    - Reset the index to datetime\n",
    "    - Convert celsius temp values to fahrenheit\n",
    "- Split Data\n",
    "    - Split by Date\n",
    "    - Resample it so it has a Frequency = \"M\""
   ]
  },
  {
   "cell_type": "markdown",
   "id": "7b1df95a",
   "metadata": {},
   "source": [
    "### ***Explore***\n",
    "- Ask and answer as many questions as time will allow\n",
    "- Create some graphs to visiualize the data"
   ]
  },
  {
   "cell_type": "markdown",
   "id": "8ba296b8",
   "metadata": {},
   "source": [
    "### ***Model***\n",
    "- Setup baseline my using a simple average technique\n",
    "- Run a Last Observed Value model\n",
    "- Run a Moving Average model\n",
    "- Run a Holt's Linear Trend model\n",
    "- Run a Previous Cycle model\n",
    "- Find and evaluate best Validate model to run on Test\n",
    "- Run Test\n",
    "- Evaluate Test"
   ]
  },
  {
   "cell_type": "markdown",
   "id": "62aef9f9",
   "metadata": {},
   "source": [
    "### ***Deliver***\n",
    "- final.ipynb"
   ]
  },
  {
   "cell_type": "markdown",
   "id": "3b6c228b",
   "metadata": {},
   "source": [
    "# Executive Summary - Conclusions & Next Steps"
   ]
  },
  {
   "cell_type": "markdown",
   "id": "8b538b73",
   "metadata": {},
   "source": [
    "# Conclusion"
   ]
  },
  {
   "cell_type": "markdown",
   "id": "66434a3b",
   "metadata": {},
   "source": [
    "### - I was able to meet my goal of predicting the temperature of Los Angeles on 2013-09-01 with an accuracy of 99% using time series analysis.\n",
    "### - My \"previous cycle\" model did beat my baseline RMSE by roughly 8 Degrees.\n",
    "### - If I had more time I would have liked to have tested my model on more current dates to predict temperatures."
   ]
  },
  {
   "cell_type": "markdown",
   "id": "e4d5f82a",
   "metadata": {},
   "source": [
    "# Takeaway"
   ]
  },
  {
   "cell_type": "markdown",
   "id": "6c6373cb",
   "metadata": {},
   "source": [
    "### - My model takes the average of the last two years and then it adds that average to the temperature of the day 12 months prior."
   ]
  },
  {
   "cell_type": "markdown",
   "id": "06c7bd6a",
   "metadata": {},
   "source": [
    "# Acquire"
   ]
  },
  {
   "cell_type": "code",
   "execution_count": 11,
   "id": "f698eee7",
   "metadata": {},
   "outputs": [],
   "source": [
    "# Importing saas.csv to a Data Frame\n",
    "df = pd.read_csv('temp_city.csv')"
   ]
  },
  {
   "cell_type": "code",
   "execution_count": 12,
   "id": "0e9c9fe6",
   "metadata": {},
   "outputs": [
    {
     "data": {
      "text/html": [
       "<div>\n",
       "<style scoped>\n",
       "    .dataframe tbody tr th:only-of-type {\n",
       "        vertical-align: middle;\n",
       "    }\n",
       "\n",
       "    .dataframe tbody tr th {\n",
       "        vertical-align: top;\n",
       "    }\n",
       "\n",
       "    .dataframe thead th {\n",
       "        text-align: right;\n",
       "    }\n",
       "</style>\n",
       "<table border=\"1\" class=\"dataframe\">\n",
       "  <thead>\n",
       "    <tr style=\"text-align: right;\">\n",
       "      <th></th>\n",
       "      <th>dt</th>\n",
       "      <th>AverageTemperature</th>\n",
       "      <th>AverageTemperatureUncertainty</th>\n",
       "      <th>City</th>\n",
       "      <th>Country</th>\n",
       "      <th>Latitude</th>\n",
       "      <th>Longitude</th>\n",
       "    </tr>\n",
       "  </thead>\n",
       "  <tbody>\n",
       "    <tr>\n",
       "      <th>0</th>\n",
       "      <td>1743-11-01</td>\n",
       "      <td>6.068</td>\n",
       "      <td>1.737</td>\n",
       "      <td>Århus</td>\n",
       "      <td>Denmark</td>\n",
       "      <td>57.05N</td>\n",
       "      <td>10.33E</td>\n",
       "    </tr>\n",
       "    <tr>\n",
       "      <th>1</th>\n",
       "      <td>1743-12-01</td>\n",
       "      <td>NaN</td>\n",
       "      <td>NaN</td>\n",
       "      <td>Århus</td>\n",
       "      <td>Denmark</td>\n",
       "      <td>57.05N</td>\n",
       "      <td>10.33E</td>\n",
       "    </tr>\n",
       "    <tr>\n",
       "      <th>2</th>\n",
       "      <td>1744-01-01</td>\n",
       "      <td>NaN</td>\n",
       "      <td>NaN</td>\n",
       "      <td>Århus</td>\n",
       "      <td>Denmark</td>\n",
       "      <td>57.05N</td>\n",
       "      <td>10.33E</td>\n",
       "    </tr>\n",
       "    <tr>\n",
       "      <th>3</th>\n",
       "      <td>1744-02-01</td>\n",
       "      <td>NaN</td>\n",
       "      <td>NaN</td>\n",
       "      <td>Århus</td>\n",
       "      <td>Denmark</td>\n",
       "      <td>57.05N</td>\n",
       "      <td>10.33E</td>\n",
       "    </tr>\n",
       "    <tr>\n",
       "      <th>4</th>\n",
       "      <td>1744-03-01</td>\n",
       "      <td>NaN</td>\n",
       "      <td>NaN</td>\n",
       "      <td>Århus</td>\n",
       "      <td>Denmark</td>\n",
       "      <td>57.05N</td>\n",
       "      <td>10.33E</td>\n",
       "    </tr>\n",
       "  </tbody>\n",
       "</table>\n",
       "</div>"
      ],
      "text/plain": [
       "           dt  AverageTemperature  AverageTemperatureUncertainty   City  \\\n",
       "0  1743-11-01               6.068                          1.737  Århus   \n",
       "1  1743-12-01                 NaN                            NaN  Århus   \n",
       "2  1744-01-01                 NaN                            NaN  Århus   \n",
       "3  1744-02-01                 NaN                            NaN  Århus   \n",
       "4  1744-03-01                 NaN                            NaN  Århus   \n",
       "\n",
       "   Country Latitude Longitude  \n",
       "0  Denmark   57.05N    10.33E  \n",
       "1  Denmark   57.05N    10.33E  \n",
       "2  Denmark   57.05N    10.33E  \n",
       "3  Denmark   57.05N    10.33E  \n",
       "4  Denmark   57.05N    10.33E  "
      ]
     },
     "execution_count": 12,
     "metadata": {},
     "output_type": "execute_result"
    }
   ],
   "source": [
    "df.head()"
   ]
  },
  {
   "cell_type": "code",
   "execution_count": 13,
   "id": "50731d82",
   "metadata": {},
   "outputs": [
    {
     "name": "stdout",
     "output_type": "stream",
     "text": [
      "<class 'pandas.core.frame.DataFrame'>\n",
      "RangeIndex: 8599212 entries, 0 to 8599211\n",
      "Data columns (total 7 columns):\n",
      " #   Column                         Dtype  \n",
      "---  ------                         -----  \n",
      " 0   dt                             object \n",
      " 1   AverageTemperature             float64\n",
      " 2   AverageTemperatureUncertainty  float64\n",
      " 3   City                           object \n",
      " 4   Country                        object \n",
      " 5   Latitude                       object \n",
      " 6   Longitude                      object \n",
      "dtypes: float64(2), object(5)\n",
      "memory usage: 459.2+ MB\n"
     ]
    }
   ],
   "source": [
    "df.info()"
   ]
  },
  {
   "cell_type": "code",
   "execution_count": 14,
   "id": "47e67655",
   "metadata": {},
   "outputs": [
    {
     "data": {
      "text/html": [
       "<div>\n",
       "<style scoped>\n",
       "    .dataframe tbody tr th:only-of-type {\n",
       "        vertical-align: middle;\n",
       "    }\n",
       "\n",
       "    .dataframe tbody tr th {\n",
       "        vertical-align: top;\n",
       "    }\n",
       "\n",
       "    .dataframe thead th {\n",
       "        text-align: right;\n",
       "    }\n",
       "</style>\n",
       "<table border=\"1\" class=\"dataframe\">\n",
       "  <thead>\n",
       "    <tr style=\"text-align: right;\">\n",
       "      <th></th>\n",
       "      <th>count</th>\n",
       "      <th>mean</th>\n",
       "      <th>std</th>\n",
       "      <th>min</th>\n",
       "      <th>25%</th>\n",
       "      <th>50%</th>\n",
       "      <th>75%</th>\n",
       "      <th>max</th>\n",
       "    </tr>\n",
       "  </thead>\n",
       "  <tbody>\n",
       "    <tr>\n",
       "      <th>AverageTemperature</th>\n",
       "      <td>8235082.0</td>\n",
       "      <td>16.727433</td>\n",
       "      <td>10.353442</td>\n",
       "      <td>-42.704</td>\n",
       "      <td>10.299</td>\n",
       "      <td>18.831</td>\n",
       "      <td>25.210</td>\n",
       "      <td>39.651</td>\n",
       "    </tr>\n",
       "    <tr>\n",
       "      <th>AverageTemperatureUncertainty</th>\n",
       "      <td>8235082.0</td>\n",
       "      <td>1.028575</td>\n",
       "      <td>1.129733</td>\n",
       "      <td>0.034</td>\n",
       "      <td>0.337</td>\n",
       "      <td>0.591</td>\n",
       "      <td>1.349</td>\n",
       "      <td>15.396</td>\n",
       "    </tr>\n",
       "  </tbody>\n",
       "</table>\n",
       "</div>"
      ],
      "text/plain": [
       "                                   count       mean        std     min  \\\n",
       "AverageTemperature             8235082.0  16.727433  10.353442 -42.704   \n",
       "AverageTemperatureUncertainty  8235082.0   1.028575   1.129733   0.034   \n",
       "\n",
       "                                  25%     50%     75%     max  \n",
       "AverageTemperature             10.299  18.831  25.210  39.651  \n",
       "AverageTemperatureUncertainty   0.337   0.591   1.349  15.396  "
      ]
     },
     "execution_count": 14,
     "metadata": {},
     "output_type": "execute_result"
    }
   ],
   "source": [
    "df.describe().T"
   ]
  },
  {
   "cell_type": "markdown",
   "id": "0b49fb22",
   "metadata": {},
   "source": [
    "### Acquire Take Aways\n",
    "- Brought in roughly 8.5 million observations and 7 features"
   ]
  },
  {
   "cell_type": "markdown",
   "id": "4cfe71a7",
   "metadata": {},
   "source": [
    "# Prepare"
   ]
  },
  {
   "cell_type": "markdown",
   "id": "325ec511",
   "metadata": {},
   "source": [
    "### Clean"
   ]
  },
  {
   "cell_type": "code",
   "execution_count": 15,
   "id": "ff54eed2",
   "metadata": {},
   "outputs": [],
   "source": [
    "df = clean(df)"
   ]
  },
  {
   "cell_type": "markdown",
   "id": "40f2efe9",
   "metadata": {},
   "source": [
    "### Split"
   ]
  },
  {
   "cell_type": "code",
   "execution_count": 16,
   "id": "0623a386",
   "metadata": {},
   "outputs": [],
   "source": [
    "train, validate, test = split(df)"
   ]
  },
  {
   "cell_type": "markdown",
   "id": "8a63ff02",
   "metadata": {},
   "source": [
    "### Plot the Split"
   ]
  },
  {
   "cell_type": "code",
   "execution_count": 17,
   "id": "7a5dab3a",
   "metadata": {},
   "outputs": [
    {
     "data": {
      "image/png": "[encoded data removed]",
      "text/plain": [
       "<Figure size 432x288 with 1 Axes>"
      ]
     },
     "metadata": {
      "needs_background": "light"
     },
     "output_type": "display_data"
    }
   ],
   "source": [
    "plt.plot(train.index, train.temp, label='train')\n",
    "plt.plot(validate.index, validate.temp, label='validate')\n",
    "plt.plot(test.index, test.temp, label='test')\n",
    "plt.xticks(rotation=0)\n",
    "plt.title(label='Train, Validate, Test')\n",
    "plt.legend()\n",
    "plt.show()"
   ]
  },
  {
   "cell_type": "markdown",
   "id": "3fe185a7",
   "metadata": {},
   "source": [
    "### Shape"
   ]
  },
  {
   "cell_type": "code",
   "execution_count": 18,
   "id": "46935b73",
   "metadata": {},
   "outputs": [
    {
     "data": {
      "text/plain": [
       "(28, 1)"
      ]
     },
     "execution_count": 18,
     "metadata": {},
     "output_type": "execute_result"
    }
   ],
   "source": [
    "train.shape"
   ]
  },
  {
   "cell_type": "code",
   "execution_count": 19,
   "id": "6ddcc768",
   "metadata": {},
   "outputs": [
    {
     "data": {
      "text/plain": [
       "(12, 1)"
      ]
     },
     "execution_count": 19,
     "metadata": {},
     "output_type": "execute_result"
    }
   ],
   "source": [
    "validate.shape"
   ]
  },
  {
   "cell_type": "code",
   "execution_count": 20,
   "id": "97669e93",
   "metadata": {},
   "outputs": [
    {
     "data": {
      "text/plain": [
       "(9, 1)"
      ]
     },
     "execution_count": 20,
     "metadata": {},
     "output_type": "execute_result"
    }
   ],
   "source": [
    "test.shape"
   ]
  },
  {
   "cell_type": "markdown",
   "id": "7973126f",
   "metadata": {},
   "source": [
    "### Prepare Takeaways\n",
    "- Data Frame was Filtered out by only the City of Los Angeles\n",
    "- Renamed AverageTemperature to temp\n",
    "- Dropped all columns except for temp\n",
    "- Resampled by Month\n",
    "- Indexed by date\n",
    "- Indexed sorted by Date"
   ]
  },
  {
   "cell_type": "markdown",
   "id": "7ab73830",
   "metadata": {},
   "source": [
    "# Explore"
   ]
  },
  {
   "cell_type": "markdown",
   "id": "8227d66f",
   "metadata": {},
   "source": [
    "### Plotting Defaults"
   ]
  },
  {
   "cell_type": "code",
   "execution_count": 21,
   "id": "b6199e5a",
   "metadata": {},
   "outputs": [],
   "source": [
    "plt.rc('figure', figsize=(9, 4))\n",
    "plt.style.use('seaborn-whitegrid')\n",
    "plt.rc('font', size=16)"
   ]
  },
  {
   "cell_type": "markdown",
   "id": "f57a1e6e",
   "metadata": {},
   "source": [
    "### Graphing"
   ]
  },
  {
   "cell_type": "code",
   "execution_count": 22,
   "id": "0617a9c4",
   "metadata": {},
   "outputs": [
    {
     "data": {
      "image/png": "[encoded data removed]",
      "text/plain": [
       "<Figure size 648x288 with 1 Axes>"
      ]
     },
     "metadata": {},
     "output_type": "display_data"
    }
   ],
   "source": [
    "# Taking a look at my train\n",
    "plt.plot(train.index, train.temp, label='train')\n",
    "plt.legend()\n",
    "plt.show()"
   ]
  },
  {
   "cell_type": "markdown",
   "id": "9f873ec3",
   "metadata": {},
   "source": [
    "## Questions"
   ]
  },
  {
   "cell_type": "markdown",
   "id": "9d7619ff",
   "metadata": {},
   "source": [
    "    What is the Average temp?"
   ]
  },
  {
   "cell_type": "code",
   "execution_count": 23,
   "id": "077b4531",
   "metadata": {},
   "outputs": [
    {
     "data": {
      "text/plain": [
       "60.564842857142864"
      ]
     },
     "execution_count": 23,
     "metadata": {},
     "output_type": "execute_result"
    }
   ],
   "source": [
    "train.temp.mean()"
   ]
  },
  {
   "cell_type": "markdown",
   "id": "35535220",
   "metadata": {},
   "source": [
    "#### `60.56 Degrees Fahrenheit`"
   ]
  },
  {
   "cell_type": "markdown",
   "id": "e070ec6d",
   "metadata": {},
   "source": [
    "    What is Coldest Month?"
   ]
  },
  {
   "cell_type": "code",
   "execution_count": 24,
   "id": "232f56c8",
   "metadata": {},
   "outputs": [
    {
     "data": {
      "text/plain": [
       "temp    47.3342\n",
       "Name: 2009-12-31 00:00:00, dtype: float64"
      ]
     },
     "execution_count": 24,
     "metadata": {},
     "output_type": "execute_result"
    }
   ],
   "source": [
    "train.loc[train.temp.idxmin()]"
   ]
  },
  {
   "cell_type": "markdown",
   "id": "58e0a8cb",
   "metadata": {},
   "source": [
    "#### `December @ 47.33 Degrees`"
   ]
  },
  {
   "cell_type": "markdown",
   "id": "35bcc081",
   "metadata": {},
   "source": [
    "    What is the Hottest Month?"
   ]
  },
  {
   "cell_type": "code",
   "execution_count": 25,
   "id": "b4c8f90d",
   "metadata": {},
   "outputs": [
    {
     "data": {
      "text/plain": [
       "temp    76.2206\n",
       "Name: 2011-08-31 00:00:00, dtype: float64"
      ]
     },
     "execution_count": 25,
     "metadata": {},
     "output_type": "execute_result"
    }
   ],
   "source": [
    "train.loc[train.temp.idxmax()]"
   ]
  },
  {
   "cell_type": "markdown",
   "id": "beeda874",
   "metadata": {},
   "source": [
    "#### `August @ 76.22 Degrees`"
   ]
  },
  {
   "cell_type": "markdown",
   "id": "fabb2faf",
   "metadata": {},
   "source": [
    "# Resetting Train index & Saving to Explore for Exploration"
   ]
  },
  {
   "cell_type": "code",
   "execution_count": 26,
   "id": "edb4b362",
   "metadata": {},
   "outputs": [],
   "source": [
    "# Resettign index\n",
    "explore = train.reset_index()"
   ]
  },
  {
   "cell_type": "code",
   "execution_count": 27,
   "id": "ad8f2bce",
   "metadata": {},
   "outputs": [],
   "source": [
    "# Converting to datetime\n",
    "explore.dt = pd.to_datetime(explore.dt)"
   ]
  },
  {
   "cell_type": "code",
   "execution_count": 28,
   "id": "edc2ce59",
   "metadata": {},
   "outputs": [],
   "source": [
    "# Creating a month column\n",
    "explore[\"month\"]= explore.dt.dt.month"
   ]
  },
  {
   "cell_type": "code",
   "execution_count": 29,
   "id": "d32a92ef",
   "metadata": {},
   "outputs": [],
   "source": [
    "# Creating a year column\n",
    "explore[\"year\"]= explore.dt.dt.year"
   ]
  },
  {
   "cell_type": "code",
   "execution_count": 30,
   "id": "9d269f95",
   "metadata": {},
   "outputs": [
    {
     "data": {
      "text/plain": [
       "year\n",
       "2009    60.4400\n",
       "2010    60.5966\n",
       "2011    60.5747\n",
       "Name: temp, dtype: float64"
      ]
     },
     "execution_count": 30,
     "metadata": {},
     "output_type": "execute_result"
    }
   ],
   "source": [
    "# Checking average temp by year\n",
    "explore.groupby('year').temp.mean()"
   ]
  },
  {
   "cell_type": "code",
   "execution_count": 31,
   "id": "874c078b",
   "metadata": {},
   "outputs": [
    {
     "data": {
      "text/plain": [
       "year\n",
       "2009    47.3342\n",
       "2010    50.1620\n",
       "2011    47.7662\n",
       "Name: temp, dtype: float64"
      ]
     },
     "execution_count": 31,
     "metadata": {},
     "output_type": "execute_result"
    }
   ],
   "source": [
    "# Checking coldest temp by year\n",
    "explore.groupby('year').temp.min()"
   ]
  },
  {
   "cell_type": "code",
   "execution_count": 32,
   "id": "c477690d",
   "metadata": {},
   "outputs": [
    {
     "data": {
      "text/plain": [
       "year\n",
       "2009    75.6770\n",
       "2010    74.5448\n",
       "2011    76.2206\n",
       "Name: temp, dtype: float64"
      ]
     },
     "execution_count": 32,
     "metadata": {},
     "output_type": "execute_result"
    }
   ],
   "source": [
    "# Checking hottest temp by year\n",
    "explore.groupby('year').temp.max()"
   ]
  },
  {
   "cell_type": "markdown",
   "id": "c2736bba",
   "metadata": {},
   "source": [
    "## Hottest Months by Year"
   ]
  },
  {
   "cell_type": "code",
   "execution_count": 33,
   "id": "cfeede80",
   "metadata": {},
   "outputs": [
    {
     "data": {
      "text/plain": [
       "dt       2009-09-30 00:00:00\n",
       "temp                  75.677\n",
       "month                      9\n",
       "year                    2009\n",
       "Name: 0, dtype: object"
      ]
     },
     "execution_count": 33,
     "metadata": {},
     "output_type": "execute_result"
    }
   ],
   "source": [
    "# Using idxmax to return loc of the hottest month in 2009\n",
    "explore.loc[explore[explore.year == 2009].temp.idxmax()]"
   ]
  },
  {
   "cell_type": "code",
   "execution_count": 34,
   "id": "5226fe34",
   "metadata": {},
   "outputs": [
    {
     "data": {
      "text/plain": [
       "dt       2010-07-31 00:00:00\n",
       "temp                 74.5448\n",
       "month                      7\n",
       "year                    2010\n",
       "Name: 10, dtype: object"
      ]
     },
     "execution_count": 34,
     "metadata": {},
     "output_type": "execute_result"
    }
   ],
   "source": [
    "# Using idxmax to return loc of the hottest month in 2010\n",
    "explore.loc[explore[explore.year == 2010].temp.idxmax()]"
   ]
  },
  {
   "cell_type": "code",
   "execution_count": 35,
   "id": "1d0c5343",
   "metadata": {},
   "outputs": [
    {
     "data": {
      "text/plain": [
       "dt       2011-08-31 00:00:00\n",
       "temp                 76.2206\n",
       "month                      8\n",
       "year                    2011\n",
       "Name: 23, dtype: object"
      ]
     },
     "execution_count": 35,
     "metadata": {},
     "output_type": "execute_result"
    }
   ],
   "source": [
    "# Using idxmax to return loc of the hottest month in 2011\n",
    "explore.loc[explore[explore.year == 2011].temp.idxmax()]"
   ]
  },
  {
   "cell_type": "markdown",
   "id": "9d299edb",
   "metadata": {},
   "source": [
    "## Coldest Months by Year"
   ]
  },
  {
   "cell_type": "code",
   "execution_count": 36,
   "id": "0fc07625",
   "metadata": {},
   "outputs": [
    {
     "data": {
      "text/plain": [
       "dt       2009-12-31 00:00:00\n",
       "temp                 47.3342\n",
       "month                     12\n",
       "year                    2009\n",
       "Name: 3, dtype: object"
      ]
     },
     "execution_count": 36,
     "metadata": {},
     "output_type": "execute_result"
    }
   ],
   "source": [
    "# Using idxmax to return loc of the hottest month in 2009\n",
    "explore.loc[explore[explore.year == 2009].temp.idxmin()]"
   ]
  },
  {
   "cell_type": "code",
   "execution_count": 37,
   "id": "f808e9f1",
   "metadata": {},
   "outputs": [
    {
     "data": {
      "text/plain": [
       "dt       2010-01-31 00:00:00\n",
       "temp                  50.162\n",
       "month                      1\n",
       "year                    2010\n",
       "Name: 4, dtype: object"
      ]
     },
     "execution_count": 37,
     "metadata": {},
     "output_type": "execute_result"
    }
   ],
   "source": [
    "# Using idxmax to return loc of the hottest month in 2010\n",
    "explore.loc[explore[explore.year == 2010].temp.idxmin()]"
   ]
  },
  {
   "cell_type": "code",
   "execution_count": 38,
   "id": "0f2a4993",
   "metadata": {},
   "outputs": [
    {
     "data": {
      "text/plain": [
       "dt       2011-02-28 00:00:00\n",
       "temp                 47.7662\n",
       "month                      2\n",
       "year                    2011\n",
       "Name: 17, dtype: object"
      ]
     },
     "execution_count": 38,
     "metadata": {},
     "output_type": "execute_result"
    }
   ],
   "source": [
    "# Using idxmax to return loc of the hottest month in 2011\n",
    "explore.loc[explore[explore.year == 2011].temp.idxmin()]"
   ]
  },
  {
   "cell_type": "markdown",
   "id": "e5d35c5e",
   "metadata": {},
   "source": [
    "### Explore Takeaways"
   ]
  },
  {
   "cell_type": "markdown",
   "id": "bc996560",
   "metadata": {},
   "source": [
    "- Coldest Months Range from Dec-Feb year by year\n",
    "- Hottes Months Range from July-Sep by year to to year\n",
    "- Coldest Month year 2009-2011 was December\n",
    "- Hottest Month year 2009-2011 was August\n",
    "- Graph seems to have a regular looking cycle"
   ]
  },
  {
   "cell_type": "markdown",
   "id": "a6d9d395",
   "metadata": {},
   "source": [
    "# Modeling"
   ]
  },
  {
   "cell_type": "markdown",
   "id": "d497b573",
   "metadata": {},
   "source": [
    "### Setting up Target "
   ]
  },
  {
   "cell_type": "code",
   "execution_count": 39,
   "id": "516f8219",
   "metadata": {},
   "outputs": [],
   "source": [
    "# Setting up as global var\n",
    "target_var='temp'"
   ]
  },
  {
   "cell_type": "markdown",
   "id": "3fb74958",
   "metadata": {},
   "source": [
    "### Setting up Evaluation DataFrame"
   ]
  },
  {
   "cell_type": "code",
   "execution_count": 40,
   "id": "8c94ee7d",
   "metadata": {},
   "outputs": [],
   "source": [
    "# Create the empty dataframe with model_type, target_var, rmse\n",
    "eval_df = pd.DataFrame(columns = ['model_type', 'target_var', 'rmse'])"
   ]
  },
  {
   "cell_type": "markdown",
   "id": "9981e2e1",
   "metadata": {},
   "source": [
    "# Baseline \n",
    "\n",
    "Simple Average\n",
    "\n",
    "Take the simple average of historical values and use that value to predict future values.   \n",
    "\n",
    "This is a good option for an initial baseline. Every future datapoint (those in 'test') will be assigned the same value, and that value will be the overall mean of the values in train. "
   ]
  },
  {
   "cell_type": "code",
   "execution_count": 41,
   "id": "f254512f",
   "metadata": {},
   "outputs": [
    {
     "data": {
      "text/plain": [
       "60.56"
      ]
     },
     "execution_count": 41,
     "metadata": {},
     "output_type": "execute_result"
    }
   ],
   "source": [
    "# Taking the mean of temp in train and saving to train_mean\n",
    "train_mean = round(train[target_var].mean(), 2)\n",
    "train_mean"
   ]
  },
  {
   "cell_type": "markdown",
   "id": "6f881622",
   "metadata": {},
   "source": [
    "### Making Predictions"
   ]
  },
  {
   "cell_type": "code",
   "execution_count": 42,
   "id": "82a00fef",
   "metadata": {},
   "outputs": [],
   "source": [
    "# Using train_mean\n",
    "yhat_df = pd.DataFrame({target_var: [train_mean]}, index = validate.index)"
   ]
  },
  {
   "cell_type": "code",
   "execution_count": 43,
   "id": "e87efe2e",
   "metadata": {},
   "outputs": [
    {
     "data": {
      "text/html": [
       "<div>\n",
       "<style scoped>\n",
       "    .dataframe tbody tr th:only-of-type {\n",
       "        vertical-align: middle;\n",
       "    }\n",
       "\n",
       "    .dataframe tbody tr th {\n",
       "        vertical-align: top;\n",
       "    }\n",
       "\n",
       "    .dataframe thead th {\n",
       "        text-align: right;\n",
       "    }\n",
       "</style>\n",
       "<table border=\"1\" class=\"dataframe\">\n",
       "  <thead>\n",
       "    <tr style=\"text-align: right;\">\n",
       "      <th></th>\n",
       "      <th>temp</th>\n",
       "    </tr>\n",
       "    <tr>\n",
       "      <th>dt</th>\n",
       "      <th></th>\n",
       "    </tr>\n",
       "  </thead>\n",
       "  <tbody>\n",
       "    <tr>\n",
       "      <th>2012-01-31</th>\n",
       "      <td>60.56</td>\n",
       "    </tr>\n",
       "    <tr>\n",
       "      <th>2012-02-29</th>\n",
       "      <td>60.56</td>\n",
       "    </tr>\n",
       "    <tr>\n",
       "      <th>2012-03-31</th>\n",
       "      <td>60.56</td>\n",
       "    </tr>\n",
       "  </tbody>\n",
       "</table>\n",
       "</div>"
      ],
      "text/plain": [
       "             temp\n",
       "dt               \n",
       "2012-01-31  60.56\n",
       "2012-02-29  60.56\n",
       "2012-03-31  60.56"
      ]
     },
     "execution_count": 43,
     "metadata": {},
     "output_type": "execute_result"
    }
   ],
   "source": [
    "# Checking my prediction values\n",
    "yhat_df.head(3)"
   ]
  },
  {
   "cell_type": "markdown",
   "id": "78a5eba0",
   "metadata": {},
   "source": [
    "### Baseline RMSE"
   ]
  },
  {
   "cell_type": "code",
   "execution_count": 44,
   "id": "11572c45",
   "metadata": {},
   "outputs": [
    {
     "name": "stdout",
     "output_type": "stream",
     "text": [
      "Baseline RSME: 10.748\n"
     ]
    }
   ],
   "source": [
    "rmse = evaluate(target_var)\n",
    "print(f'Baseline RSME: {rmse}')"
   ]
  },
  {
   "cell_type": "markdown",
   "id": "e0c781e8",
   "metadata": {},
   "source": [
    "### Adding Baseline to the Eval Dataframe"
   ]
  },
  {
   "cell_type": "code",
   "execution_count": 45,
   "id": "9de0f02c",
   "metadata": {},
   "outputs": [
    {
     "data": {
      "text/html": [
       "<div>\n",
       "<style scoped>\n",
       "    .dataframe tbody tr th:only-of-type {\n",
       "        vertical-align: middle;\n",
       "    }\n",
       "\n",
       "    .dataframe tbody tr th {\n",
       "        vertical-align: top;\n",
       "    }\n",
       "\n",
       "    .dataframe thead th {\n",
       "        text-align: right;\n",
       "    }\n",
       "</style>\n",
       "<table border=\"1\" class=\"dataframe\">\n",
       "  <thead>\n",
       "    <tr style=\"text-align: right;\">\n",
       "      <th></th>\n",
       "      <th>model_type</th>\n",
       "      <th>target_var</th>\n",
       "      <th>rmse</th>\n",
       "    </tr>\n",
       "  </thead>\n",
       "  <tbody>\n",
       "    <tr>\n",
       "      <th>0</th>\n",
       "      <td>Baseline/Simple AVG</td>\n",
       "      <td>temp</td>\n",
       "      <td>10.748</td>\n",
       "    </tr>\n",
       "  </tbody>\n",
       "</table>\n",
       "</div>"
      ],
      "text/plain": [
       "            model_type target_var    rmse\n",
       "0  Baseline/Simple AVG       temp  10.748"
      ]
     },
     "execution_count": 45,
     "metadata": {},
     "output_type": "execute_result"
    }
   ],
   "source": [
    "# Adding RMSE of baseline Model to my eval datafram\n",
    "eval_df = append_eval_df(model_type = 'Baseline/Simple AVG', target_var = target_var)\n",
    "eval_df"
   ]
  },
  {
   "cell_type": "markdown",
   "id": "8d3e4fe2",
   "metadata": {},
   "source": [
    "### Plotting Baseline"
   ]
  },
  {
   "cell_type": "code",
   "execution_count": 46,
   "id": "64f3bc5c",
   "metadata": {},
   "outputs": [
    {
     "data": {
      "image/png": "[encoded data removed]",
      "text/plain": [
       "<Figure size 864x288 with 1 Axes>"
      ]
     },
     "metadata": {},
     "output_type": "display_data"
    }
   ],
   "source": [
    "plot_samples(target_var)\n",
    "plt.plot(yhat_df[target_var], label='Baseline')\n",
    "plt.title('Baseline')\n",
    "rmse = evaluate(target_var)\n",
    "plt.legend()\n",
    "plt.show()"
   ]
  },
  {
   "cell_type": "markdown",
   "id": "e3bc7364",
   "metadata": {},
   "source": [
    "# Last Observed Value"
   ]
  },
  {
   "cell_type": "code",
   "execution_count": 47,
   "id": "e47188ff",
   "metadata": {},
   "outputs": [
    {
     "data": {
      "text/plain": [
       "47"
      ]
     },
     "execution_count": 47,
     "metadata": {},
     "output_type": "execute_result"
    }
   ],
   "source": [
    "# Taking the last observed value and saving to 'last_ov'\n",
    "last_ov = int(train['temp'][-1:][0])\n",
    "last_ov"
   ]
  },
  {
   "cell_type": "markdown",
   "id": "f5fbd504",
   "metadata": {},
   "source": [
    "### Making Predictions"
   ]
  },
  {
   "cell_type": "code",
   "execution_count": 48,
   "id": "7e97688c",
   "metadata": {},
   "outputs": [
    {
     "data": {
      "text/html": [
       "<div>\n",
       "<style scoped>\n",
       "    .dataframe tbody tr th:only-of-type {\n",
       "        vertical-align: middle;\n",
       "    }\n",
       "\n",
       "    .dataframe tbody tr th {\n",
       "        vertical-align: top;\n",
       "    }\n",
       "\n",
       "    .dataframe thead th {\n",
       "        text-align: right;\n",
       "    }\n",
       "</style>\n",
       "<table border=\"1\" class=\"dataframe\">\n",
       "  <thead>\n",
       "    <tr style=\"text-align: right;\">\n",
       "      <th></th>\n",
       "      <th>temp</th>\n",
       "    </tr>\n",
       "    <tr>\n",
       "      <th>dt</th>\n",
       "      <th></th>\n",
       "    </tr>\n",
       "  </thead>\n",
       "  <tbody>\n",
       "    <tr>\n",
       "      <th>2012-01-31</th>\n",
       "      <td>47</td>\n",
       "    </tr>\n",
       "    <tr>\n",
       "      <th>2012-02-29</th>\n",
       "      <td>47</td>\n",
       "    </tr>\n",
       "    <tr>\n",
       "      <th>2012-03-31</th>\n",
       "      <td>47</td>\n",
       "    </tr>\n",
       "  </tbody>\n",
       "</table>\n",
       "</div>"
      ],
      "text/plain": [
       "            temp\n",
       "dt              \n",
       "2012-01-31    47\n",
       "2012-02-29    47\n",
       "2012-03-31    47"
      ]
     },
     "execution_count": 48,
     "metadata": {},
     "output_type": "execute_result"
    }
   ],
   "source": [
    "# Making predictions\n",
    "yhat_df = pd.DataFrame({target_var: [last_ov]}, index = validate.index)\n",
    "yhat_df.head(3)"
   ]
  },
  {
   "cell_type": "markdown",
   "id": "6cb10d0f",
   "metadata": {},
   "source": [
    "### Last Observed Value RMSE"
   ]
  },
  {
   "cell_type": "code",
   "execution_count": 49,
   "id": "94b3a6a3",
   "metadata": {},
   "outputs": [
    {
     "name": "stdout",
     "output_type": "stream",
     "text": [
      "Last Observed Value RSME: 18.95\n"
     ]
    }
   ],
   "source": [
    "rmse = evaluate(target_var)\n",
    "print(f'Last Observed Value RSME: {rmse}')"
   ]
  },
  {
   "cell_type": "markdown",
   "id": "fb3b89ea",
   "metadata": {},
   "source": [
    "### Adding Last Observed Value to the Eval Dataframe"
   ]
  },
  {
   "cell_type": "code",
   "execution_count": 50,
   "id": "283211a7",
   "metadata": {},
   "outputs": [
    {
     "data": {
      "text/html": [
       "<div>\n",
       "<style scoped>\n",
       "    .dataframe tbody tr th:only-of-type {\n",
       "        vertical-align: middle;\n",
       "    }\n",
       "\n",
       "    .dataframe tbody tr th {\n",
       "        vertical-align: top;\n",
       "    }\n",
       "\n",
       "    .dataframe thead th {\n",
       "        text-align: right;\n",
       "    }\n",
       "</style>\n",
       "<table border=\"1\" class=\"dataframe\">\n",
       "  <thead>\n",
       "    <tr style=\"text-align: right;\">\n",
       "      <th></th>\n",
       "      <th>model_type</th>\n",
       "      <th>target_var</th>\n",
       "      <th>rmse</th>\n",
       "    </tr>\n",
       "  </thead>\n",
       "  <tbody>\n",
       "    <tr>\n",
       "      <th>0</th>\n",
       "      <td>Baseline/Simple AVG</td>\n",
       "      <td>temp</td>\n",
       "      <td>10.748</td>\n",
       "    </tr>\n",
       "    <tr>\n",
       "      <th>1</th>\n",
       "      <td>Last Observed Value</td>\n",
       "      <td>temp</td>\n",
       "      <td>18.950</td>\n",
       "    </tr>\n",
       "  </tbody>\n",
       "</table>\n",
       "</div>"
      ],
      "text/plain": [
       "            model_type target_var    rmse\n",
       "0  Baseline/Simple AVG       temp  10.748\n",
       "1  Last Observed Value       temp  18.950"
      ]
     },
     "execution_count": 50,
     "metadata": {},
     "output_type": "execute_result"
    }
   ],
   "source": [
    "# Adding RMSE of baseline Model to my eval datafram\n",
    "eval_df = append_eval_df(model_type = 'Last Observed Value', target_var = target_var)\n",
    "eval_df"
   ]
  },
  {
   "cell_type": "markdown",
   "id": "79b509d6",
   "metadata": {},
   "source": [
    "### Plotting Last Observed Value"
   ]
  },
  {
   "cell_type": "code",
   "execution_count": 51,
   "id": "ee6efb87",
   "metadata": {},
   "outputs": [
    {
     "data": {
      "image/png": "[encoded data removed]",
      "text/plain": [
       "<Figure size 864x288 with 1 Axes>"
      ]
     },
     "metadata": {},
     "output_type": "display_data"
    }
   ],
   "source": [
    "plot_samples(target_var)\n",
    "plt.plot(yhat_df[target_var], label='Last Observed Value')\n",
    "plt.title('Last Observed Value')\n",
    "rmse = evaluate(target_var)\n",
    "plt.legend()\n",
    "plt.show()"
   ]
  },
  {
   "cell_type": "markdown",
   "id": "e2db87d0",
   "metadata": {},
   "source": [
    "# Rolling Average"
   ]
  },
  {
   "cell_type": "markdown",
   "id": "c2604ae6",
   "metadata": {},
   "source": [
    "### Setting up period"
   ]
  },
  {
   "cell_type": "code",
   "execution_count": 52,
   "id": "7895fce9",
   "metadata": {},
   "outputs": [],
   "source": [
    "# 2 month period\n",
    "period = 2"
   ]
  },
  {
   "cell_type": "markdown",
   "id": "9b433510",
   "metadata": {},
   "source": [
    "### Setting up the Rolling AVG"
   ]
  },
  {
   "cell_type": "code",
   "execution_count": 53,
   "id": "fbbb6c14",
   "metadata": {},
   "outputs": [
    {
     "data": {
      "text/plain": [
       "50"
      ]
     },
     "execution_count": 53,
     "metadata": {},
     "output_type": "execute_result"
    }
   ],
   "source": [
    "# Taking the rolling method, take the mean of the last 2 months\n",
    "rolling_avg = round(train[target_var].rolling(period).mean().iloc[-1])\n",
    "rolling_avg"
   ]
  },
  {
   "cell_type": "markdown",
   "id": "f1aa9f5e",
   "metadata": {},
   "source": [
    "### Making Predictions"
   ]
  },
  {
   "cell_type": "code",
   "execution_count": 54,
   "id": "1ca9e2e1",
   "metadata": {},
   "outputs": [
    {
     "data": {
      "text/html": [
       "<div>\n",
       "<style scoped>\n",
       "    .dataframe tbody tr th:only-of-type {\n",
       "        vertical-align: middle;\n",
       "    }\n",
       "\n",
       "    .dataframe tbody tr th {\n",
       "        vertical-align: top;\n",
       "    }\n",
       "\n",
       "    .dataframe thead th {\n",
       "        text-align: right;\n",
       "    }\n",
       "</style>\n",
       "<table border=\"1\" class=\"dataframe\">\n",
       "  <thead>\n",
       "    <tr style=\"text-align: right;\">\n",
       "      <th></th>\n",
       "      <th>temp</th>\n",
       "    </tr>\n",
       "    <tr>\n",
       "      <th>dt</th>\n",
       "      <th></th>\n",
       "    </tr>\n",
       "  </thead>\n",
       "  <tbody>\n",
       "    <tr>\n",
       "      <th>2012-01-31</th>\n",
       "      <td>50</td>\n",
       "    </tr>\n",
       "    <tr>\n",
       "      <th>2012-02-29</th>\n",
       "      <td>50</td>\n",
       "    </tr>\n",
       "    <tr>\n",
       "      <th>2012-03-31</th>\n",
       "      <td>50</td>\n",
       "    </tr>\n",
       "  </tbody>\n",
       "</table>\n",
       "</div>"
      ],
      "text/plain": [
       "            temp\n",
       "dt              \n",
       "2012-01-31    50\n",
       "2012-02-29    50\n",
       "2012-03-31    50"
      ]
     },
     "execution_count": 54,
     "metadata": {},
     "output_type": "execute_result"
    }
   ],
   "source": [
    "# Making predictions\n",
    "yhat_df = pd.DataFrame({target_var: [rolling_avg]}, index = validate.index)\n",
    "yhat_df.head(3)"
   ]
  },
  {
   "cell_type": "markdown",
   "id": "10517350",
   "metadata": {},
   "source": [
    "### 2 Month Rolling AVG RMSE"
   ]
  },
  {
   "cell_type": "code",
   "execution_count": 55,
   "id": "2159c421",
   "metadata": {},
   "outputs": [
    {
     "name": "stdout",
     "output_type": "stream",
     "text": [
      "2 Month Rolling AVG RSME: 16.539\n"
     ]
    }
   ],
   "source": [
    "rmse = evaluate(target_var)\n",
    "print(f'2 Month Rolling AVG RSME: {rmse}')"
   ]
  },
  {
   "cell_type": "markdown",
   "id": "c3dbb2fe",
   "metadata": {},
   "source": [
    "### Adding Last Observed Value to the Eval Dataframe"
   ]
  },
  {
   "cell_type": "code",
   "execution_count": 56,
   "id": "8c9df49f",
   "metadata": {},
   "outputs": [
    {
     "data": {
      "text/html": [
       "<div>\n",
       "<style scoped>\n",
       "    .dataframe tbody tr th:only-of-type {\n",
       "        vertical-align: middle;\n",
       "    }\n",
       "\n",
       "    .dataframe tbody tr th {\n",
       "        vertical-align: top;\n",
       "    }\n",
       "\n",
       "    .dataframe thead th {\n",
       "        text-align: right;\n",
       "    }\n",
       "</style>\n",
       "<table border=\"1\" class=\"dataframe\">\n",
       "  <thead>\n",
       "    <tr style=\"text-align: right;\">\n",
       "      <th></th>\n",
       "      <th>model_type</th>\n",
       "      <th>target_var</th>\n",
       "      <th>rmse</th>\n",
       "    </tr>\n",
       "  </thead>\n",
       "  <tbody>\n",
       "    <tr>\n",
       "      <th>0</th>\n",
       "      <td>Baseline/Simple AVG</td>\n",
       "      <td>temp</td>\n",
       "      <td>10.748</td>\n",
       "    </tr>\n",
       "    <tr>\n",
       "      <th>1</th>\n",
       "      <td>Last Observed Value</td>\n",
       "      <td>temp</td>\n",
       "      <td>18.950</td>\n",
       "    </tr>\n",
       "    <tr>\n",
       "      <th>2</th>\n",
       "      <td>2 Month Rolling AVG</td>\n",
       "      <td>temp</td>\n",
       "      <td>16.539</td>\n",
       "    </tr>\n",
       "  </tbody>\n",
       "</table>\n",
       "</div>"
      ],
      "text/plain": [
       "            model_type target_var    rmse\n",
       "0  Baseline/Simple AVG       temp  10.748\n",
       "1  Last Observed Value       temp  18.950\n",
       "2  2 Month Rolling AVG       temp  16.539"
      ]
     },
     "execution_count": 56,
     "metadata": {},
     "output_type": "execute_result"
    }
   ],
   "source": [
    "# Adding RMSE of baseline Model to my eval datafram\n",
    "eval_df = append_eval_df(model_type = '2 Month Rolling AVG', target_var = target_var)\n",
    "eval_df"
   ]
  },
  {
   "cell_type": "markdown",
   "id": "fcd992a9",
   "metadata": {},
   "source": [
    "### Plotting 2 Month Rolling AVG"
   ]
  },
  {
   "cell_type": "code",
   "execution_count": 57,
   "id": "002c908b",
   "metadata": {},
   "outputs": [
    {
     "data": {
      "image/png": "[encoded data removed]",
      "text/plain": [
       "<Figure size 864x288 with 1 Axes>"
      ]
     },
     "metadata": {},
     "output_type": "display_data"
    }
   ],
   "source": [
    "plot_samples(target_var)\n",
    "plt.plot(yhat_df[target_var], label='2 Month Rolling AVG')\n",
    "plt.title('2 Month Rolling AVG')\n",
    "rmse = evaluate(target_var)\n",
    "plt.legend()\n",
    "plt.show()"
   ]
  },
  {
   "cell_type": "markdown",
   "id": "227d4cc8",
   "metadata": {},
   "source": [
    "# Holt's Linear Trend\n",
    "\n",
    "Exponential smoothing applied to both the average and the trend (slope).  \n",
    "\n",
    "- $\\alpha$ / smoothing_level: smoothing parameter for mean. Values closer to 1 will have less of a smoothing effect and will give greater weight to recent values.   \n",
    "- $\\beta$ / smoothing_slope: smoothing parameter for the slope. Values closer to 1 will give greater weight to recent slope/values. "
   ]
  },
  {
   "cell_type": "markdown",
   "id": "54e948cb",
   "metadata": {},
   "source": [
    "### Seasonal Decomposition"
   ]
  },
  {
   "cell_type": "code",
   "execution_count": 58,
   "id": "94a46c54",
   "metadata": {},
   "outputs": [
    {
     "data": {
      "image/png": "[encoded data removed]",
      "text/plain": [
       "<Figure size 648x288 with 4 Axes>"
      ]
     },
     "metadata": {},
     "output_type": "display_data"
    }
   ],
   "source": [
    "# Plotting trend, seasonality, and residuals\n",
    "_ = sm.tsa.seasonal_decompose(train[target_var]).plot()\n",
    "plt.show()"
   ]
  },
  {
   "cell_type": "code",
   "execution_count": 59,
   "id": "dbd1d2cd",
   "metadata": {},
   "outputs": [],
   "source": [
    "# Creating a loop within a loop to iterate through i and k for level and slope\n",
    "for i in range(0, 11):\n",
    "    for k in range(0, 11):\n",
    "        eval_df = holts(train, (i/10), (k/10), target_var, eval_df)"
   ]
  },
  {
   "cell_type": "code",
   "execution_count": 60,
   "id": "13db7b58",
   "metadata": {},
   "outputs": [
    {
     "data": {
      "text/html": [
       "<div>\n",
       "<style scoped>\n",
       "    .dataframe tbody tr th:only-of-type {\n",
       "        vertical-align: middle;\n",
       "    }\n",
       "\n",
       "    .dataframe tbody tr th {\n",
       "        vertical-align: top;\n",
       "    }\n",
       "\n",
       "    .dataframe thead th {\n",
       "        text-align: right;\n",
       "    }\n",
       "</style>\n",
       "<table border=\"1\" class=\"dataframe\">\n",
       "  <thead>\n",
       "    <tr style=\"text-align: right;\">\n",
       "      <th></th>\n",
       "      <th>model_type</th>\n",
       "      <th>target_var</th>\n",
       "      <th>rmse</th>\n",
       "    </tr>\n",
       "  </thead>\n",
       "  <tbody>\n",
       "    <tr>\n",
       "      <th>121</th>\n",
       "      <td>Holts:L=1.0/S=0.8</td>\n",
       "      <td>temp</td>\n",
       "      <td>60.820</td>\n",
       "    </tr>\n",
       "    <tr>\n",
       "      <th>122</th>\n",
       "      <td>Holts:L=1.0/S=0.9</td>\n",
       "      <td>temp</td>\n",
       "      <td>56.994</td>\n",
       "    </tr>\n",
       "    <tr>\n",
       "      <th>123</th>\n",
       "      <td>Holts:L=1.0/S=1.0</td>\n",
       "      <td>temp</td>\n",
       "      <td>52.310</td>\n",
       "    </tr>\n",
       "  </tbody>\n",
       "</table>\n",
       "</div>"
      ],
      "text/plain": [
       "            model_type target_var    rmse\n",
       "121  Holts:L=1.0/S=0.8       temp  60.820\n",
       "122  Holts:L=1.0/S=0.9       temp  56.994\n",
       "123  Holts:L=1.0/S=1.0       temp  52.310"
      ]
     },
     "execution_count": 60,
     "metadata": {},
     "output_type": "execute_result"
    }
   ],
   "source": [
    "# Checking RMSE Values\n",
    "eval_df.tail(3)"
   ]
  },
  {
   "cell_type": "markdown",
   "id": "d145c73b",
   "metadata": {},
   "source": [
    "# Predict Based on Previous Cycle"
   ]
  },
  {
   "cell_type": "markdown",
   "id": "6d1e449e",
   "metadata": {},
   "source": [
    "### Re-Split Data by 12 Months"
   ]
  },
  {
   "cell_type": "code",
   "execution_count": 61,
   "id": "4789e755",
   "metadata": {},
   "outputs": [],
   "source": [
    "# First 12 months for Train,\n",
    "train = df['2010-10-01':'2011-09-01']\n",
    "\n",
    "# Middle 12 months For Validate\n",
    "validate = df['2011-10-01':'2012-09-01']\n",
    "\n",
    "# Last 12 months for Test.\n",
    "test = df['2012-10-01':'2013-09-01']"
   ]
  },
  {
   "cell_type": "code",
   "execution_count": 62,
   "id": "5d7e7546",
   "metadata": {},
   "outputs": [
    {
     "data": {
      "text/plain": [
       "(12, 1)"
      ]
     },
     "execution_count": 62,
     "metadata": {},
     "output_type": "execute_result"
    }
   ],
   "source": [
    "train.shape"
   ]
  },
  {
   "cell_type": "code",
   "execution_count": 63,
   "id": "0812f35c",
   "metadata": {},
   "outputs": [
    {
     "data": {
      "text/plain": [
       "(12, 1)"
      ]
     },
     "execution_count": 63,
     "metadata": {},
     "output_type": "execute_result"
    }
   ],
   "source": [
    "validate.shape"
   ]
  },
  {
   "cell_type": "code",
   "execution_count": 64,
   "id": "dde57c7d",
   "metadata": {},
   "outputs": [
    {
     "data": {
      "text/plain": [
       "(12, 1)"
      ]
     },
     "execution_count": 64,
     "metadata": {},
     "output_type": "execute_result"
    }
   ],
   "source": [
    "test.shape"
   ]
  },
  {
   "cell_type": "code",
   "execution_count": 65,
   "id": "b26f9593",
   "metadata": {},
   "outputs": [
    {
     "data": {
      "text/plain": [
       "10.472400000000007"
      ]
     },
     "execution_count": 65,
     "metadata": {},
     "output_type": "execute_result"
    }
   ],
   "source": [
    "# 11 Month Difference\n",
    "year_diff = train.temp.diff(11).mean()\n",
    "year_diff"
   ]
  },
  {
   "cell_type": "code",
   "execution_count": 66,
   "id": "7cb712c7",
   "metadata": {},
   "outputs": [],
   "source": [
    "# take the values for each day in 2015 and add the average year over year(yoy)(y/y)\n",
    "yhat_df = train + year_diff"
   ]
  },
  {
   "cell_type": "code",
   "execution_count": 67,
   "id": "a9813432",
   "metadata": {},
   "outputs": [],
   "source": [
    "# Resetting index to validate \n",
    "yhat_df = yhat_df.set_index(validate.index)"
   ]
  },
  {
   "cell_type": "code",
   "execution_count": 68,
   "id": "c8189bb5",
   "metadata": {},
   "outputs": [
    {
     "name": "stdout",
     "output_type": "stream",
     "text": [
      "--RMSE: temp\n"
     ]
    },
    {
     "data": {
      "image/png": "[encoded data removed]",
      "text/plain": [
       "<Figure size 864x288 with 1 Axes>"
      ]
     },
     "metadata": {},
     "output_type": "display_data"
    }
   ],
   "source": [
    "# Saving RMSE results to eval_df and then plotting\n",
    "eval_df = append_eval_df(model_type = '11month_diff', target_var = target_var)\n",
    "plot_and_eval(target_var = target_var)"
   ]
  },
  {
   "cell_type": "code",
   "execution_count": 69,
   "id": "17b4bb79",
   "metadata": {},
   "outputs": [],
   "source": [
    "# iterating through range 1, 10 for i, as i represents the diff in months\n",
    "for i in range(1,11):\n",
    "    eval_df = previous_cycle(train, validate, i, eval_df)"
   ]
  },
  {
   "cell_type": "code",
   "execution_count": 70,
   "id": "99e13523",
   "metadata": {},
   "outputs": [
    {
     "data": {
      "text/html": [
       "<div>\n",
       "<style scoped>\n",
       "    .dataframe tbody tr th:only-of-type {\n",
       "        vertical-align: middle;\n",
       "    }\n",
       "\n",
       "    .dataframe tbody tr th {\n",
       "        vertical-align: top;\n",
       "    }\n",
       "\n",
       "    .dataframe thead th {\n",
       "        text-align: right;\n",
       "    }\n",
       "</style>\n",
       "<table border=\"1\" class=\"dataframe\">\n",
       "  <thead>\n",
       "    <tr style=\"text-align: right;\">\n",
       "      <th></th>\n",
       "      <th>model_type</th>\n",
       "      <th>target_var</th>\n",
       "      <th>rmse</th>\n",
       "    </tr>\n",
       "  </thead>\n",
       "  <tbody>\n",
       "    <tr>\n",
       "      <th>0</th>\n",
       "      <td>Baseline/Simple AVG</td>\n",
       "      <td>temp</td>\n",
       "      <td>10.748</td>\n",
       "    </tr>\n",
       "    <tr>\n",
       "      <th>1</th>\n",
       "      <td>Last Observed Value</td>\n",
       "      <td>temp</td>\n",
       "      <td>18.950</td>\n",
       "    </tr>\n",
       "    <tr>\n",
       "      <th>2</th>\n",
       "      <td>2 Month Rolling AVG</td>\n",
       "      <td>temp</td>\n",
       "      <td>16.539</td>\n",
       "    </tr>\n",
       "    <tr>\n",
       "      <th>3</th>\n",
       "      <td>Holts:L=0.0/S=0.0</td>\n",
       "      <td>temp</td>\n",
       "      <td>463.513</td>\n",
       "    </tr>\n",
       "    <tr>\n",
       "      <th>4</th>\n",
       "      <td>Holts:L=0.0/S=0.1</td>\n",
       "      <td>temp</td>\n",
       "      <td>463.513</td>\n",
       "    </tr>\n",
       "    <tr>\n",
       "      <th>...</th>\n",
       "      <td>...</td>\n",
       "      <td>...</td>\n",
       "      <td>...</td>\n",
       "    </tr>\n",
       "    <tr>\n",
       "      <th>130</th>\n",
       "      <td>Diff:6 Cycle:12</td>\n",
       "      <td>temp</td>\n",
       "      <td>13.508</td>\n",
       "    </tr>\n",
       "    <tr>\n",
       "      <th>131</th>\n",
       "      <td>Diff:7 Cycle:12</td>\n",
       "      <td>temp</td>\n",
       "      <td>15.685</td>\n",
       "    </tr>\n",
       "    <tr>\n",
       "      <th>132</th>\n",
       "      <td>Diff:8 Cycle:12</td>\n",
       "      <td>temp</td>\n",
       "      <td>16.847</td>\n",
       "    </tr>\n",
       "    <tr>\n",
       "      <th>133</th>\n",
       "      <td>Diff:9 Cycle:12</td>\n",
       "      <td>temp</td>\n",
       "      <td>17.635</td>\n",
       "    </tr>\n",
       "    <tr>\n",
       "      <th>134</th>\n",
       "      <td>Diff:10 Cycle:12</td>\n",
       "      <td>temp</td>\n",
       "      <td>14.894</td>\n",
       "    </tr>\n",
       "  </tbody>\n",
       "</table>\n",
       "<p>135 rows × 3 columns</p>\n",
       "</div>"
      ],
      "text/plain": [
       "              model_type target_var     rmse\n",
       "0    Baseline/Simple AVG       temp   10.748\n",
       "1    Last Observed Value       temp   18.950\n",
       "2    2 Month Rolling AVG       temp   16.539\n",
       "3      Holts:L=0.0/S=0.0       temp  463.513\n",
       "4      Holts:L=0.0/S=0.1       temp  463.513\n",
       "..                   ...        ...      ...\n",
       "130      Diff:6 Cycle:12       temp   13.508\n",
       "131      Diff:7 Cycle:12       temp   15.685\n",
       "132      Diff:8 Cycle:12       temp   16.847\n",
       "133      Diff:9 Cycle:12       temp   17.635\n",
       "134     Diff:10 Cycle:12       temp   14.894\n",
       "\n",
       "[135 rows x 3 columns]"
      ]
     },
     "execution_count": 70,
     "metadata": {},
     "output_type": "execute_result"
    }
   ],
   "source": [
    "eval_df"
   ]
  },
  {
   "cell_type": "markdown",
   "id": "f3a86fae",
   "metadata": {},
   "source": [
    "### Re-Split Data by 24 Months"
   ]
  },
  {
   "cell_type": "code",
   "execution_count": 71,
   "id": "e6beb777",
   "metadata": {},
   "outputs": [],
   "source": [
    "# First 24 months for Train,\n",
    "train = df['2007-10-01':'2009-09-01']\n",
    "\n",
    "# Middle 24 months For Validate\n",
    "validate = df['2009-10-01':'2011-09-01']\n",
    "\n",
    "# Last 24 months for Test.\n",
    "test = df['2011-10-01':'2013-09-01']"
   ]
  },
  {
   "cell_type": "code",
   "execution_count": 72,
   "id": "d71d21e2",
   "metadata": {},
   "outputs": [
    {
     "data": {
      "text/plain": [
       "12.545999999999992"
      ]
     },
     "execution_count": 72,
     "metadata": {},
     "output_type": "execute_result"
    }
   ],
   "source": [
    "# 23 Month Difference\n",
    "year_diff = train.temp.diff(23).mean()\n",
    "year_diff"
   ]
  },
  {
   "cell_type": "code",
   "execution_count": 73,
   "id": "414dd90c",
   "metadata": {},
   "outputs": [],
   "source": [
    "# Making Predictions\n",
    "yhat_df = train + year_diff"
   ]
  },
  {
   "cell_type": "code",
   "execution_count": 74,
   "id": "2905f2bd",
   "metadata": {},
   "outputs": [],
   "source": [
    "# Resettign index to validate \n",
    "yhat_df = yhat_df.set_index(validate.index)"
   ]
  },
  {
   "cell_type": "code",
   "execution_count": 75,
   "id": "3bfee1ca",
   "metadata": {},
   "outputs": [
    {
     "name": "stdout",
     "output_type": "stream",
     "text": [
      "--RMSE: temp\n"
     ]
    },
    {
     "data": {
      "image/png": "[encoded data removed]",
      "text/plain": [
       "<Figure size 864x288 with 1 Axes>"
      ]
     },
     "metadata": {},
     "output_type": "display_data"
    }
   ],
   "source": [
    "# Saving RMSE to eval_df and plotting\n",
    "eval_df = append_eval_df(model_type = '23month_diff', target_var = target_var)\n",
    "plot_and_eval(target_var = target_var)"
   ]
  },
  {
   "cell_type": "code",
   "execution_count": 76,
   "id": "6240a284",
   "metadata": {},
   "outputs": [],
   "source": [
    "# iterating through range 1, 23 for i, as i represents the diff in months\n",
    "for i in range(1,23):\n",
    "    eval_df = previous_cycle(train, validate, i, eval_df)"
   ]
  },
  {
   "cell_type": "markdown",
   "id": "361166cf",
   "metadata": {},
   "source": [
    "### Evaluate"
   ]
  },
  {
   "cell_type": "code",
   "execution_count": 77,
   "id": "1e42f1d5",
   "metadata": {},
   "outputs": [
    {
     "data": {
      "text/html": [
       "<div>\n",
       "<style scoped>\n",
       "    .dataframe tbody tr th:only-of-type {\n",
       "        vertical-align: middle;\n",
       "    }\n",
       "\n",
       "    .dataframe tbody tr th {\n",
       "        vertical-align: top;\n",
       "    }\n",
       "\n",
       "    .dataframe thead th {\n",
       "        text-align: right;\n",
       "    }\n",
       "</style>\n",
       "<table border=\"1\" class=\"dataframe\">\n",
       "  <thead>\n",
       "    <tr style=\"text-align: right;\">\n",
       "      <th></th>\n",
       "      <th>model_type</th>\n",
       "      <th>target_var</th>\n",
       "      <th>rmse</th>\n",
       "    </tr>\n",
       "  </thead>\n",
       "  <tbody>\n",
       "    <tr>\n",
       "      <th>125</th>\n",
       "      <td>Diff:1 Cycle:12</td>\n",
       "      <td>temp</td>\n",
       "      <td>2.405</td>\n",
       "    </tr>\n",
       "    <tr>\n",
       "      <th>126</th>\n",
       "      <td>Diff:2 Cycle:12</td>\n",
       "      <td>temp</td>\n",
       "      <td>2.763</td>\n",
       "    </tr>\n",
       "    <tr>\n",
       "      <th>147</th>\n",
       "      <td>Diff:12 Cycle:24</td>\n",
       "      <td>temp</td>\n",
       "      <td>3.450</td>\n",
       "    </tr>\n",
       "    <tr>\n",
       "      <th>136</th>\n",
       "      <td>Diff:1 Cycle:24</td>\n",
       "      <td>temp</td>\n",
       "      <td>3.460</td>\n",
       "    </tr>\n",
       "    <tr>\n",
       "      <th>146</th>\n",
       "      <td>Diff:11 Cycle:24</td>\n",
       "      <td>temp</td>\n",
       "      <td>3.812</td>\n",
       "    </tr>\n",
       "  </tbody>\n",
       "</table>\n",
       "</div>"
      ],
      "text/plain": [
       "           model_type target_var   rmse\n",
       "125   Diff:1 Cycle:12       temp  2.405\n",
       "126   Diff:2 Cycle:12       temp  2.763\n",
       "147  Diff:12 Cycle:24       temp  3.450\n",
       "136   Diff:1 Cycle:24       temp  3.460\n",
       "146  Diff:11 Cycle:24       temp  3.812"
      ]
     },
     "execution_count": 77,
     "metadata": {},
     "output_type": "execute_result"
    }
   ],
   "source": [
    "# Looking at the top 5 models (Low RMSE)\n",
    "eval_df.sort_values(by=['rmse']).head(5)"
   ]
  },
  {
   "cell_type": "code",
   "execution_count": 78,
   "id": "b9c2ce53",
   "metadata": {},
   "outputs": [
    {
     "data": {
      "text/plain": [
       "158"
      ]
     },
     "execution_count": 78,
     "metadata": {},
     "output_type": "execute_result"
    }
   ],
   "source": [
    "# Checking to see how many models I created \n",
    "len(eval_df)"
   ]
  },
  {
   "cell_type": "markdown",
   "id": "243d38a1",
   "metadata": {},
   "source": [
    "### Modeling Takeaway"
   ]
  },
  {
   "cell_type": "markdown",
   "id": "e75d0a84",
   "metadata": {},
   "source": [
    "- Created 158 Models\n",
    "- best top 5 Models were of type predict based on previous cycle\n",
    "- Best Validate RMSE was 2.4 but that was only on a 1 month difference with a 12 month average which didn't seem to flexible\n",
    "- Best Validate Model seems to be the the one with the larger cycle and a one year difference.  Seems more flexible.\n",
    "- Moving Forward a cycle of 24 moths and a difference of 12 months model on Test"
   ]
  },
  {
   "cell_type": "markdown",
   "id": "170c3161",
   "metadata": {},
   "source": [
    "# Test"
   ]
  },
  {
   "cell_type": "markdown",
   "id": "4b74a75d",
   "metadata": {},
   "source": [
    "### Predict Based on Previous Cycle"
   ]
  },
  {
   "cell_type": "markdown",
   "id": "41d08a22",
   "metadata": {},
   "source": [
    "### 24 Month Cycle"
   ]
  },
  {
   "cell_type": "code",
   "execution_count": 79,
   "id": "aabd8f7c",
   "metadata": {},
   "outputs": [],
   "source": [
    "# First 24 months for Train,\n",
    "train = df['2007-10-01':'2009-09-01']\n",
    "\n",
    "# Middle 24 months For Validate\n",
    "validate = df['2009-10-01':'2011-09-01']\n",
    "\n",
    "# Last 24 months for Test.\n",
    "test = df['2011-10-01':'2013-09-01']"
   ]
  },
  {
   "cell_type": "markdown",
   "id": "bedb6431",
   "metadata": {},
   "source": [
    "### 12 Month Diff Mean"
   ]
  },
  {
   "cell_type": "code",
   "execution_count": 80,
   "id": "7932e3eb",
   "metadata": {},
   "outputs": [],
   "source": [
    "# Making Predictions\n",
    "yhat_df = validate + train.temp.diff(12).mean()"
   ]
  },
  {
   "cell_type": "code",
   "execution_count": 81,
   "id": "0fb838de",
   "metadata": {},
   "outputs": [],
   "source": [
    "# Resetting the index to Test\n",
    "yhat_df.index = test.index"
   ]
  },
  {
   "cell_type": "code",
   "execution_count": 82,
   "id": "0ac77389",
   "metadata": {},
   "outputs": [],
   "source": [
    "# Calculating the RMSE for Test\n",
    "rmse = round(sqrt(mean_squared_error(test[target_var], yhat_df[target_var])), 3)"
   ]
  },
  {
   "cell_type": "code",
   "execution_count": 83,
   "id": "d9bfa2a0",
   "metadata": {},
   "outputs": [
    {
     "data": {
      "text/plain": [
       "3.108"
      ]
     },
     "execution_count": 83,
     "metadata": {},
     "output_type": "execute_result"
    }
   ],
   "source": [
    "# Test RMSE\n",
    "rmse"
   ]
  },
  {
   "cell_type": "markdown",
   "id": "d38796ab",
   "metadata": {},
   "source": [
    "### Plotting Test Predictions Vs. Acutal"
   ]
  },
  {
   "cell_type": "code",
   "execution_count": 84,
   "id": "3dc3621b",
   "metadata": {},
   "outputs": [
    {
     "data": {
      "image/png": "[encoded data removed]",
      "text/plain": [
       "<Figure size 864x288 with 1 Axes>"
      ]
     },
     "metadata": {},
     "output_type": "display_data"
    }
   ],
   "source": [
    "plot_samples(target_var)\n",
    "plt.plot(yhat_df[target_var], label='Predictions')\n",
    "plt.title('12 Month Difference')\n",
    "plt.legend()\n",
    "plt.show()"
   ]
  },
  {
   "cell_type": "markdown",
   "id": "b7306832",
   "metadata": {},
   "source": [
    "# How close was my Temp Prediction on 2013-09-01 to My Actual Temp Value?"
   ]
  },
  {
   "cell_type": "code",
   "execution_count": 85,
   "id": "8f8993fd",
   "metadata": {},
   "outputs": [
    {
     "data": {
      "text/plain": [
       "73.44095"
      ]
     },
     "execution_count": 85,
     "metadata": {},
     "output_type": "execute_result"
    }
   ],
   "source": [
    "predicted = yhat_df.tail(1).values[0][0]\n",
    "predicted"
   ]
  },
  {
   "cell_type": "code",
   "execution_count": 86,
   "id": "a05cf9c8",
   "metadata": {},
   "outputs": [
    {
     "data": {
      "text/plain": [
       "73.9418"
      ]
     },
     "execution_count": 86,
     "metadata": {},
     "output_type": "execute_result"
    }
   ],
   "source": [
    "actual = test.tail(1).values[0][0]\n",
    "actual"
   ]
  },
  {
   "cell_type": "code",
   "execution_count": 87,
   "id": "f4aa0502",
   "metadata": {},
   "outputs": [
    {
     "data": {
      "text/plain": [
       "0.99"
      ]
     },
     "execution_count": 87,
     "metadata": {},
     "output_type": "execute_result"
    }
   ],
   "source": [
    "round(predicted/actual, 2)"
   ]
  },
  {
   "cell_type": "markdown",
   "id": "1aa99251",
   "metadata": {},
   "source": [
    "# Conclusion"
   ]
  },
  {
   "cell_type": "markdown",
   "id": "f3758a73",
   "metadata": {},
   "source": [
    "### - I was able to predict the temperature of Los Angeles on 2013-09-01 with an accuracy of 99% using time series analysis.\n",
    "### - My \"previous cycle\" model did beat my baseline RMSE by roughly 8 Degrees."
   ]
  },
  {
   "cell_type": "markdown",
   "id": "48e72338",
   "metadata": {},
   "source": [
    "# Thank You"
   ]
  },
  {
   "cell_type": "markdown",
   "id": "d86a5685",
   "metadata": {},
   "source": [
    "- By Joshua Chavez\n",
    "- Friday October 8th @ 9:51 PM"
   ]
  }
 ],
 "metadata": {
  "kernelspec": {
   "display_name": "Python 3",
   "language": "python",
   "name": "python3"
  },
  "language_info": {
   "codemirror_mode": {
    "name": "ipython",
    "version": 3
   },
   "file_extension": ".py",
   "mimetype": "text/x-python",
   "name": "python",
   "nbconvert_exporter": "python",
   "pygments_lexer": "ipython3",
   "version": "3.8.8"
  }
 },
 "nbformat": 4,
 "nbformat_minor": 5
}
