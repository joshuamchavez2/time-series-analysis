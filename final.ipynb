{
 "cells": [
  {
   "cell_type": "code",
   "execution_count": 1,
   "id": "5cc8567b",
   "metadata": {},
   "outputs": [],
   "source": [
    "import warnings\n",
    "import pandas as pd\n",
    "import numpy as np\n",
    "warnings.filterwarnings('ignore')\n",
    "\n",
    "from datetime import datetime\n",
    "from sklearn.metrics import mean_squared_error\n",
    "from math import sqrt\n",
    "\n",
    "import matplotlib.pyplot as plt\n",
    "%matplotlib inline\n",
    "import seaborn as sns\n",
    "\n",
    "from pandas.plotting import register_matplotlib_converters\n",
    "\n",
    "import statsmodels.api as sm\n",
    "from statsmodels.tsa.api import Holt\n",
    "\n",
    "import env"
   ]
  },
  {
   "cell_type": "markdown",
   "id": "db33f6ef",
   "metadata": {},
   "source": [
    "# Functions"
   ]
  },
  {
   "cell_type": "code",
   "execution_count": 2,
   "id": "63b4aa84",
   "metadata": {},
   "outputs": [],
   "source": [
    "def clean(df):\n",
    "    '''\n",
    "    This Function filters out the df by the city of Los Angeles, drops columns,\n",
    "    renames, sets the index to the date, & converts to Fahrenheit\n",
    "    \n",
    "    '''\n",
    "    \n",
    "    # Filtering out by USA\n",
    "    df = df[df.Country == \"United States\"]\n",
    "    \n",
    "    # Filtering out by Los Angeles\n",
    "    df = df[df.City == \"Los Angeles\"]\n",
    "    \n",
    "    # Dropping columns that wont be needed\n",
    "    df = df.drop(columns=['Country', 'Latitude', 'Longitude', 'City', 'AverageTemperatureUncertainty'])\n",
    "    \n",
    "    # Renaming AverageTemperature to just temp\n",
    "    df = df.rename(columns={\"AverageTemperature\": \"temp\"})\n",
    "    \n",
    "    # Converting sale_date type object to datetime64\n",
    "    df.dt = pd.to_datetime(df.dt)\n",
    "    \n",
    "    # Removing dates before 2010-09-01, leaving me excatly 3 years\n",
    "    df = df[~(df['dt'] < '2009-09-01')]\n",
    "    \n",
    "    # Resetting the index to datetime\n",
    "    df = df.set_index('dt').sort_index()\n",
    "    \n",
    "    # Convert to fahrenheit\n",
    "    df.temp = df.temp.apply(celsius_to_fahrenheit)\n",
    "    \n",
    "    return df"
   ]
  },
  {
   "cell_type": "code",
   "execution_count": 3,
   "id": "66033263",
   "metadata": {},
   "outputs": [],
   "source": [
    "def celsius_to_fahrenheit(c):\n",
    "    c = float(c)\n",
    "    c = (c*(9/5)) + 32\n",
    "    return c"
   ]
  },
  {
   "cell_type": "code",
   "execution_count": 4,
   "id": "942b2edd",
   "metadata": {},
   "outputs": [],
   "source": [
    "def split(df):\n",
    "    '''\n",
    "    Splits the data into train, validate, and split. Then resampling by Month\n",
    "    '''\n",
    "    # Train 09/2009 - 12/2011\n",
    "    train = df['2009-09-01':'2011-12-01']\n",
    "    \n",
    "    # Validate 12/2011 - 12/2012\n",
    "    validate = df['2012-01-01':'2012-12-01']\n",
    "    \n",
    "    # Test 12/2012 - 09/2013\n",
    "    test = df['2013-01-01':'2013-09-01']\n",
    "    \n",
    "        \n",
    "    # Resampling it so it has a Frequency = \"M\"\n",
    "    train = train.resample('M').mean()\n",
    "    validate = validate.resample('M').mean()\n",
    "    test = test.resample('M').mean()\n",
    "    \n",
    "    return train, validate, test"
   ]
  },
  {
   "cell_type": "code",
   "execution_count": 35,
   "id": "ecdc2db5",
   "metadata": {},
   "outputs": [],
   "source": [
    "# plot and evaluate: plot\n",
    "def plot_and_eval(target_var):\n",
    "    '''\n",
    "    a function to evaluate forecasts by computing the rmse and plot train and validate along with predictions\n",
    "    '''\n",
    "    plot_samples(target_var)\n",
    "    plt.plot(yhat_df[target_var])\n",
    "    plt.title(target_var)\n",
    "    rmse = evaluate(target_var)\n",
    "    print(f'--RMSE: {target_var}')\n",
    "    plt.show()"
   ]
  },
  {
   "cell_type": "code",
   "execution_count": 36,
   "id": "c182573f",
   "metadata": {},
   "outputs": [],
   "source": [
    "# Define function to store rmse for comparison purposes\n",
    "\n",
    "def append_eval_df(model_type, target_var):\n",
    "    '''\n",
    "    this function is goign to take in the model type as a string, the target variable as a string,\n",
    "    and run the evalute() function to compute the rsme,\n",
    "    and append to the data frame a row with the model_type, target_var and rmse.\n",
    "    it will return the new dataframe\n",
    "    '''\n",
    "    rmse = evaluate(target_var)\n",
    "    d = {'model_type': [model_type], 'target_var': [target_var], 'rmse': [rmse]}\n",
    "    d = pd.DataFrame(d)\n",
    "    return eval_df.append(d, ignore_index=True)"
   ]
  },
  {
   "cell_type": "code",
   "execution_count": 37,
   "id": "9aeb4b5a",
   "metadata": {},
   "outputs": [],
   "source": [
    "# define evaluation function to compute rmse\n",
    "\n",
    "def evaluate(target_var):\n",
    "    '''\n",
    "    Creating a function to grab rmse\n",
    "    '''\n",
    "    rmse = round(sqrt(mean_squared_error(validate[target_var], yhat_df[target_var])), 0)\n",
    "    return rmse"
   ]
  },
  {
   "cell_type": "code",
   "execution_count": 38,
   "id": "fe7817ce",
   "metadata": {},
   "outputs": [],
   "source": [
    "def plot_samples(target_var):\n",
    "    '''\n",
    "    this function wil plot the train, validate and test values for a single varibable across all dates\n",
    "    '''\n",
    "    plt.figure(figsize=(12, 4))\n",
    "    plt.plot(train[target_var])\n",
    "    plt.plot(validate[target_var])\n",
    "    plt.plot(test[target_var])\n",
    "    plt.title(target_var)"
   ]
  },
  {
   "cell_type": "markdown",
   "id": "664f1af3",
   "metadata": {},
   "source": [
    "### Plotting Defaults"
   ]
  },
  {
   "cell_type": "code",
   "execution_count": 5,
   "id": "d8864bee",
   "metadata": {},
   "outputs": [],
   "source": [
    "plt.rc('figure', figsize=(9, 4))\n",
    "plt.style.use('seaborn-whitegrid')\n",
    "plt.rc('font', size=16)"
   ]
  },
  {
   "cell_type": "markdown",
   "id": "c2e415c2",
   "metadata": {},
   "source": [
    "# Acquire"
   ]
  },
  {
   "cell_type": "code",
   "execution_count": 6,
   "id": "ea7fbf61",
   "metadata": {},
   "outputs": [],
   "source": [
    "# Importing saas.csv to a Data Frame\n",
    "df = pd.read_csv('temp_city.csv')"
   ]
  },
  {
   "cell_type": "code",
   "execution_count": 7,
   "id": "ca6b2e07",
   "metadata": {},
   "outputs": [
    {
     "data": {
      "text/html": [
       "<div>\n",
       "<style scoped>\n",
       "    .dataframe tbody tr th:only-of-type {\n",
       "        vertical-align: middle;\n",
       "    }\n",
       "\n",
       "    .dataframe tbody tr th {\n",
       "        vertical-align: top;\n",
       "    }\n",
       "\n",
       "    .dataframe thead th {\n",
       "        text-align: right;\n",
       "    }\n",
       "</style>\n",
       "<table border=\"1\" class=\"dataframe\">\n",
       "  <thead>\n",
       "    <tr style=\"text-align: right;\">\n",
       "      <th></th>\n",
       "      <th>dt</th>\n",
       "      <th>AverageTemperature</th>\n",
       "      <th>AverageTemperatureUncertainty</th>\n",
       "      <th>City</th>\n",
       "      <th>Country</th>\n",
       "      <th>Latitude</th>\n",
       "      <th>Longitude</th>\n",
       "    </tr>\n",
       "  </thead>\n",
       "  <tbody>\n",
       "    <tr>\n",
       "      <th>0</th>\n",
       "      <td>1743-11-01</td>\n",
       "      <td>6.068</td>\n",
       "      <td>1.737</td>\n",
       "      <td>Århus</td>\n",
       "      <td>Denmark</td>\n",
       "      <td>57.05N</td>\n",
       "      <td>10.33E</td>\n",
       "    </tr>\n",
       "    <tr>\n",
       "      <th>1</th>\n",
       "      <td>1743-12-01</td>\n",
       "      <td>NaN</td>\n",
       "      <td>NaN</td>\n",
       "      <td>Århus</td>\n",
       "      <td>Denmark</td>\n",
       "      <td>57.05N</td>\n",
       "      <td>10.33E</td>\n",
       "    </tr>\n",
       "    <tr>\n",
       "      <th>2</th>\n",
       "      <td>1744-01-01</td>\n",
       "      <td>NaN</td>\n",
       "      <td>NaN</td>\n",
       "      <td>Århus</td>\n",
       "      <td>Denmark</td>\n",
       "      <td>57.05N</td>\n",
       "      <td>10.33E</td>\n",
       "    </tr>\n",
       "    <tr>\n",
       "      <th>3</th>\n",
       "      <td>1744-02-01</td>\n",
       "      <td>NaN</td>\n",
       "      <td>NaN</td>\n",
       "      <td>Århus</td>\n",
       "      <td>Denmark</td>\n",
       "      <td>57.05N</td>\n",
       "      <td>10.33E</td>\n",
       "    </tr>\n",
       "    <tr>\n",
       "      <th>4</th>\n",
       "      <td>1744-03-01</td>\n",
       "      <td>NaN</td>\n",
       "      <td>NaN</td>\n",
       "      <td>Århus</td>\n",
       "      <td>Denmark</td>\n",
       "      <td>57.05N</td>\n",
       "      <td>10.33E</td>\n",
       "    </tr>\n",
       "  </tbody>\n",
       "</table>\n",
       "</div>"
      ],
      "text/plain": [
       "           dt  AverageTemperature  AverageTemperatureUncertainty   City  \\\n",
       "0  1743-11-01               6.068                          1.737  Århus   \n",
       "1  1743-12-01                 NaN                            NaN  Århus   \n",
       "2  1744-01-01                 NaN                            NaN  Århus   \n",
       "3  1744-02-01                 NaN                            NaN  Århus   \n",
       "4  1744-03-01                 NaN                            NaN  Århus   \n",
       "\n",
       "   Country Latitude Longitude  \n",
       "0  Denmark   57.05N    10.33E  \n",
       "1  Denmark   57.05N    10.33E  \n",
       "2  Denmark   57.05N    10.33E  \n",
       "3  Denmark   57.05N    10.33E  \n",
       "4  Denmark   57.05N    10.33E  "
      ]
     },
     "execution_count": 7,
     "metadata": {},
     "output_type": "execute_result"
    }
   ],
   "source": [
    "df.head()"
   ]
  },
  {
   "cell_type": "code",
   "execution_count": 8,
   "id": "651ea6df",
   "metadata": {},
   "outputs": [
    {
     "name": "stdout",
     "output_type": "stream",
     "text": [
      "<class 'pandas.core.frame.DataFrame'>\n",
      "RangeIndex: 8599212 entries, 0 to 8599211\n",
      "Data columns (total 7 columns):\n",
      " #   Column                         Dtype  \n",
      "---  ------                         -----  \n",
      " 0   dt                             object \n",
      " 1   AverageTemperature             float64\n",
      " 2   AverageTemperatureUncertainty  float64\n",
      " 3   City                           object \n",
      " 4   Country                        object \n",
      " 5   Latitude                       object \n",
      " 6   Longitude                      object \n",
      "dtypes: float64(2), object(5)\n",
      "memory usage: 459.2+ MB\n"
     ]
    }
   ],
   "source": [
    "df.info()"
   ]
  },
  {
   "cell_type": "markdown",
   "id": "484e710e",
   "metadata": {},
   "source": [
    "# Prepare"
   ]
  },
  {
   "cell_type": "markdown",
   "id": "dac7d0d9",
   "metadata": {},
   "source": [
    "### Clean"
   ]
  },
  {
   "cell_type": "code",
   "execution_count": 9,
   "id": "d31ed920",
   "metadata": {},
   "outputs": [],
   "source": [
    "df = clean(df)"
   ]
  },
  {
   "cell_type": "markdown",
   "id": "dbdc55ad",
   "metadata": {},
   "source": [
    "### Split"
   ]
  },
  {
   "cell_type": "code",
   "execution_count": 10,
   "id": "56d421b7",
   "metadata": {},
   "outputs": [],
   "source": [
    "train, validate, test = split(df)"
   ]
  },
  {
   "cell_type": "markdown",
   "id": "23e22459",
   "metadata": {},
   "source": [
    "### Plot the Split"
   ]
  },
  {
   "cell_type": "code",
   "execution_count": 11,
   "id": "78c7bb7d",
   "metadata": {},
   "outputs": [
    {
     "data": {
      "image/png": "[encoded data removed]",
      "text/plain": [
       "<Figure size 648x288 with 1 Axes>"
      ]
     },
     "metadata": {},
     "output_type": "display_data"
    }
   ],
   "source": [
    "plt.plot(train.index, train.temp, label='train')\n",
    "plt.plot(validate.index, validate.temp, label='validate')\n",
    "plt.plot(test.index, test.temp, label='test')\n",
    "plt.xticks(rotation=0)\n",
    "plt.title(label='Train, Validate, Test')\n",
    "plt.legend()\n",
    "plt.show()"
   ]
  },
  {
   "cell_type": "markdown",
   "id": "a1ec9e90",
   "metadata": {},
   "source": [
    "### Shape"
   ]
  },
  {
   "cell_type": "code",
   "execution_count": 12,
   "id": "a73692df",
   "metadata": {},
   "outputs": [
    {
     "data": {
      "text/plain": [
       "(28, 1)"
      ]
     },
     "execution_count": 12,
     "metadata": {},
     "output_type": "execute_result"
    }
   ],
   "source": [
    "train.shape"
   ]
  },
  {
   "cell_type": "code",
   "execution_count": 13,
   "id": "61861660",
   "metadata": {},
   "outputs": [
    {
     "data": {
      "text/plain": [
       "(12, 1)"
      ]
     },
     "execution_count": 13,
     "metadata": {},
     "output_type": "execute_result"
    }
   ],
   "source": [
    "validate.shape"
   ]
  },
  {
   "cell_type": "code",
   "execution_count": 14,
   "id": "dc0a2a7a",
   "metadata": {},
   "outputs": [
    {
     "data": {
      "text/plain": [
       "(9, 1)"
      ]
     },
     "execution_count": 14,
     "metadata": {},
     "output_type": "execute_result"
    }
   ],
   "source": [
    "test.shape"
   ]
  },
  {
   "cell_type": "markdown",
   "id": "9ded562e",
   "metadata": {},
   "source": [
    "# Explore"
   ]
  },
  {
   "cell_type": "markdown",
   "id": "4b97bdc3",
   "metadata": {},
   "source": [
    "### Graphing"
   ]
  },
  {
   "cell_type": "code",
   "execution_count": 15,
   "id": "10e2287a",
   "metadata": {},
   "outputs": [
    {
     "data": {
      "image/png": "[encoded data removed]",
      "text/plain": [
       "<Figure size 648x288 with 1 Axes>"
      ]
     },
     "metadata": {},
     "output_type": "display_data"
    }
   ],
   "source": [
    "# Taking a look at my train\n",
    "plt.plot(train.index, train.temp, label='train')\n",
    "plt.legend()\n",
    "plt.show()"
   ]
  },
  {
   "cell_type": "markdown",
   "id": "2e4c330e",
   "metadata": {},
   "source": [
    "### Questions"
   ]
  },
  {
   "cell_type": "markdown",
   "id": "e28689cc",
   "metadata": {},
   "source": [
    "    What is the Average temp?"
   ]
  },
  {
   "cell_type": "code",
   "execution_count": 16,
   "id": "41838ebc",
   "metadata": {},
   "outputs": [
    {
     "data": {
      "text/plain": [
       "60.564842857142864"
      ]
     },
     "execution_count": 16,
     "metadata": {},
     "output_type": "execute_result"
    }
   ],
   "source": [
    "train.temp.mean()"
   ]
  },
  {
   "cell_type": "markdown",
   "id": "4569b2ec",
   "metadata": {},
   "source": [
    "#### `60.56 Degrees Fahrenheit`"
   ]
  },
  {
   "cell_type": "markdown",
   "id": "702c6985",
   "metadata": {},
   "source": [
    "    What is Coldest Month?"
   ]
  },
  {
   "cell_type": "code",
   "execution_count": 17,
   "id": "430e3dc2",
   "metadata": {},
   "outputs": [
    {
     "data": {
      "text/plain": [
       "temp    47.3342\n",
       "Name: 2009-12-31 00:00:00, dtype: float64"
      ]
     },
     "execution_count": 17,
     "metadata": {},
     "output_type": "execute_result"
    }
   ],
   "source": [
    "train.loc[train.temp.idxmin()]"
   ]
  },
  {
   "cell_type": "markdown",
   "id": "b3e84e1b",
   "metadata": {},
   "source": [
    "#### `December @ 47.33 Degrees`"
   ]
  },
  {
   "cell_type": "markdown",
   "id": "1c0b5f38",
   "metadata": {},
   "source": [
    "    What is the Hottest Month?"
   ]
  },
  {
   "cell_type": "code",
   "execution_count": 18,
   "id": "627070d8",
   "metadata": {},
   "outputs": [
    {
     "data": {
      "text/plain": [
       "temp    76.2206\n",
       "Name: 2011-08-31 00:00:00, dtype: float64"
      ]
     },
     "execution_count": 18,
     "metadata": {},
     "output_type": "execute_result"
    }
   ],
   "source": [
    "train.loc[train.temp.idxmax()]"
   ]
  },
  {
   "cell_type": "markdown",
   "id": "52582727",
   "metadata": {},
   "source": [
    "#### `August @ 76.22 Degrees`"
   ]
  },
  {
   "cell_type": "code",
   "execution_count": 19,
   "id": "d28b49bc",
   "metadata": {},
   "outputs": [],
   "source": [
    "explore = train.reset_index()"
   ]
  },
  {
   "cell_type": "code",
   "execution_count": 20,
   "id": "654ce233",
   "metadata": {},
   "outputs": [],
   "source": [
    "explore.dt = pd.to_datetime(explore.dt)"
   ]
  },
  {
   "cell_type": "code",
   "execution_count": 21,
   "id": "50a9c0c3",
   "metadata": {},
   "outputs": [],
   "source": [
    "explore[\"month\"]= explore.dt.dt.month"
   ]
  },
  {
   "cell_type": "code",
   "execution_count": 22,
   "id": "afb75c63",
   "metadata": {},
   "outputs": [],
   "source": [
    "explore[\"year\"]= explore.dt.dt.year"
   ]
  },
  {
   "cell_type": "code",
   "execution_count": 23,
   "id": "27163dfe",
   "metadata": {},
   "outputs": [
    {
     "data": {
      "text/plain": [
       "year\n",
       "2009    60.4400\n",
       "2010    60.5966\n",
       "2011    60.5747\n",
       "Name: temp, dtype: float64"
      ]
     },
     "execution_count": 23,
     "metadata": {},
     "output_type": "execute_result"
    }
   ],
   "source": [
    "explore.groupby('year').temp.mean()"
   ]
  },
  {
   "cell_type": "code",
   "execution_count": 24,
   "id": "e96d9c83",
   "metadata": {},
   "outputs": [
    {
     "data": {
      "text/plain": [
       "year\n",
       "2009    47.3342\n",
       "2010    50.1620\n",
       "2011    47.7662\n",
       "Name: temp, dtype: float64"
      ]
     },
     "execution_count": 24,
     "metadata": {},
     "output_type": "execute_result"
    }
   ],
   "source": [
    "explore.groupby('year').temp.min()"
   ]
  },
  {
   "cell_type": "code",
   "execution_count": 25,
   "id": "381ebdb1",
   "metadata": {},
   "outputs": [
    {
     "data": {
      "text/plain": [
       "year\n",
       "2009    75.6770\n",
       "2010    74.5448\n",
       "2011    76.2206\n",
       "Name: temp, dtype: float64"
      ]
     },
     "execution_count": 25,
     "metadata": {},
     "output_type": "execute_result"
    }
   ],
   "source": [
    "explore.groupby('year').temp.max()"
   ]
  },
  {
   "cell_type": "markdown",
   "id": "99c7ab07",
   "metadata": {},
   "source": [
    "### Hottest Months by Year"
   ]
  },
  {
   "cell_type": "code",
   "execution_count": 26,
   "id": "f2d923d7",
   "metadata": {},
   "outputs": [
    {
     "data": {
      "text/plain": [
       "dt       2009-09-30 00:00:00\n",
       "temp                  75.677\n",
       "month                      9\n",
       "year                    2009\n",
       "Name: 0, dtype: object"
      ]
     },
     "execution_count": 26,
     "metadata": {},
     "output_type": "execute_result"
    }
   ],
   "source": [
    "# Using idxmax to return loc of the hottest month in 2009\n",
    "explore.loc[explore[explore.year == 2009].temp.idxmax()]"
   ]
  },
  {
   "cell_type": "code",
   "execution_count": 27,
   "id": "bbad3e0f",
   "metadata": {},
   "outputs": [
    {
     "data": {
      "text/plain": [
       "dt       2010-07-31 00:00:00\n",
       "temp                 74.5448\n",
       "month                      7\n",
       "year                    2010\n",
       "Name: 10, dtype: object"
      ]
     },
     "execution_count": 27,
     "metadata": {},
     "output_type": "execute_result"
    }
   ],
   "source": [
    "# Using idxmax to return loc of the hottest month in 2010\n",
    "explore.loc[explore[explore.year == 2010].temp.idxmax()]"
   ]
  },
  {
   "cell_type": "code",
   "execution_count": 28,
   "id": "49ce1de3",
   "metadata": {},
   "outputs": [
    {
     "data": {
      "text/plain": [
       "dt       2011-08-31 00:00:00\n",
       "temp                 76.2206\n",
       "month                      8\n",
       "year                    2011\n",
       "Name: 23, dtype: object"
      ]
     },
     "execution_count": 28,
     "metadata": {},
     "output_type": "execute_result"
    }
   ],
   "source": [
    "# Using idxmax to return loc of the hottest month in 2011\n",
    "explore.loc[explore[explore.year == 2011].temp.idxmax()]"
   ]
  },
  {
   "cell_type": "markdown",
   "id": "101d3758",
   "metadata": {},
   "source": [
    "### Coldest Months by Year"
   ]
  },
  {
   "cell_type": "code",
   "execution_count": 29,
   "id": "5078afc0",
   "metadata": {},
   "outputs": [
    {
     "data": {
      "text/plain": [
       "dt       2009-12-31 00:00:00\n",
       "temp                 47.3342\n",
       "month                     12\n",
       "year                    2009\n",
       "Name: 3, dtype: object"
      ]
     },
     "execution_count": 29,
     "metadata": {},
     "output_type": "execute_result"
    }
   ],
   "source": [
    "# Using idxmax to return loc of the hottest month in 2009\n",
    "explore.loc[explore[explore.year == 2009].temp.idxmin()]"
   ]
  },
  {
   "cell_type": "code",
   "execution_count": 30,
   "id": "84deb550",
   "metadata": {},
   "outputs": [
    {
     "data": {
      "text/plain": [
       "dt       2010-01-31 00:00:00\n",
       "temp                  50.162\n",
       "month                      1\n",
       "year                    2010\n",
       "Name: 4, dtype: object"
      ]
     },
     "execution_count": 30,
     "metadata": {},
     "output_type": "execute_result"
    }
   ],
   "source": [
    "# Using idxmax to return loc of the hottest month in 2010\n",
    "explore.loc[explore[explore.year == 2010].temp.idxmin()]"
   ]
  },
  {
   "cell_type": "code",
   "execution_count": 31,
   "id": "1a44aeff",
   "metadata": {},
   "outputs": [
    {
     "data": {
      "text/plain": [
       "dt       2011-02-28 00:00:00\n",
       "temp                 47.7662\n",
       "month                      2\n",
       "year                    2011\n",
       "Name: 17, dtype: object"
      ]
     },
     "execution_count": 31,
     "metadata": {},
     "output_type": "execute_result"
    }
   ],
   "source": [
    "# Using idxmax to return loc of the hottest month in 2011\n",
    "explore.loc[explore[explore.year == 2011].temp.idxmin()]"
   ]
  },
  {
   "cell_type": "markdown",
   "id": "0a6db95e",
   "metadata": {},
   "source": [
    "### Explore Takeaways"
   ]
  },
  {
   "cell_type": "markdown",
   "id": "b9eec31b",
   "metadata": {},
   "source": [
    "- Coldest Months Range from Dec-Feb year by year\n",
    "- Hottes Months Range from July-Sep by year to to year\n",
    "- Coldest Month year 2009-2011 was December\n",
    "- Hottest Month year 2009-2011 was August\n",
    "- Graph seems to have a regular looking cycle"
   ]
  },
  {
   "cell_type": "markdown",
   "id": "6db91ff5",
   "metadata": {},
   "source": [
    "# Modeling"
   ]
  },
  {
   "cell_type": "markdown",
   "id": "c6e87426",
   "metadata": {},
   "source": [
    "### Target "
   ]
  },
  {
   "cell_type": "code",
   "execution_count": 50,
   "id": "79ef238f",
   "metadata": {},
   "outputs": [],
   "source": [
    "target_var='temp'"
   ]
  },
  {
   "cell_type": "markdown",
   "id": "af6ec0a4",
   "metadata": {},
   "source": [
    "### Evaluation DataFrame"
   ]
  },
  {
   "cell_type": "code",
   "execution_count": 64,
   "id": "6a452a96",
   "metadata": {},
   "outputs": [],
   "source": [
    "# Create the empty dataframe with model_type, target_var, rmse\n",
    "eval_df = pd.DataFrame(columns = ['model_type', 'target_var', 'rmse'])"
   ]
  },
  {
   "cell_type": "markdown",
   "id": "7bb125fb",
   "metadata": {},
   "source": [
    "### Baseline \n",
    "\n",
    "Simple Average\n",
    "\n",
    "Take the simple average of historical values and use that value to predict future values.   \n",
    "\n",
    "This is a good option for an initial baseline. Every future datapoint (those in 'test') will be assigned the same value, and that value will be the overall mean of the values in train. "
   ]
  },
  {
   "cell_type": "code",
   "execution_count": 51,
   "id": "95af7176",
   "metadata": {},
   "outputs": [
    {
     "data": {
      "text/plain": [
       "60.56"
      ]
     },
     "execution_count": 51,
     "metadata": {},
     "output_type": "execute_result"
    }
   ],
   "source": [
    "train_mean = round(train[target_var].mean(), 2)\n",
    "train_mean"
   ]
  },
  {
   "cell_type": "code",
   "execution_count": 52,
   "id": "3a63a2ae",
   "metadata": {},
   "outputs": [],
   "source": [
    "yhat_df = pd.DataFrame({target_var: [train_mean]}, index = validate.index)"
   ]
  },
  {
   "cell_type": "code",
   "execution_count": 53,
   "id": "1e0de013",
   "metadata": {},
   "outputs": [
    {
     "data": {
      "text/html": [
       "<div>\n",
       "<style scoped>\n",
       "    .dataframe tbody tr th:only-of-type {\n",
       "        vertical-align: middle;\n",
       "    }\n",
       "\n",
       "    .dataframe tbody tr th {\n",
       "        vertical-align: top;\n",
       "    }\n",
       "\n",
       "    .dataframe thead th {\n",
       "        text-align: right;\n",
       "    }\n",
       "</style>\n",
       "<table border=\"1\" class=\"dataframe\">\n",
       "  <thead>\n",
       "    <tr style=\"text-align: right;\">\n",
       "      <th></th>\n",
       "      <th>temp</th>\n",
       "    </tr>\n",
       "    <tr>\n",
       "      <th>dt</th>\n",
       "      <th></th>\n",
       "    </tr>\n",
       "  </thead>\n",
       "  <tbody>\n",
       "    <tr>\n",
       "      <th>2012-01-31</th>\n",
       "      <td>60.56</td>\n",
       "    </tr>\n",
       "    <tr>\n",
       "      <th>2012-02-29</th>\n",
       "      <td>60.56</td>\n",
       "    </tr>\n",
       "    <tr>\n",
       "      <th>2012-03-31</th>\n",
       "      <td>60.56</td>\n",
       "    </tr>\n",
       "    <tr>\n",
       "      <th>2012-04-30</th>\n",
       "      <td>60.56</td>\n",
       "    </tr>\n",
       "    <tr>\n",
       "      <th>2012-05-31</th>\n",
       "      <td>60.56</td>\n",
       "    </tr>\n",
       "  </tbody>\n",
       "</table>\n",
       "</div>"
      ],
      "text/plain": [
       "             temp\n",
       "dt               \n",
       "2012-01-31  60.56\n",
       "2012-02-29  60.56\n",
       "2012-03-31  60.56\n",
       "2012-04-30  60.56\n",
       "2012-05-31  60.56"
      ]
     },
     "execution_count": 53,
     "metadata": {},
     "output_type": "execute_result"
    }
   ],
   "source": [
    "yhat_df.head()"
   ]
  },
  {
   "cell_type": "markdown",
   "id": "251384f0",
   "metadata": {},
   "source": [
    "### Baseline RMSE"
   ]
  },
  {
   "cell_type": "code",
   "execution_count": 54,
   "id": "78117ef1",
   "metadata": {},
   "outputs": [],
   "source": [
    "rmse = evaluate(target_var)"
   ]
  },
  {
   "cell_type": "markdown",
   "id": "2e680867",
   "metadata": {},
   "source": [
    "### eval_df"
   ]
  },
  {
   "cell_type": "code",
   "execution_count": 66,
   "id": "6f742796",
   "metadata": {},
   "outputs": [
    {
     "data": {
      "text/html": [
       "<div>\n",
       "<style scoped>\n",
       "    .dataframe tbody tr th:only-of-type {\n",
       "        vertical-align: middle;\n",
       "    }\n",
       "\n",
       "    .dataframe tbody tr th {\n",
       "        vertical-align: top;\n",
       "    }\n",
       "\n",
       "    .dataframe thead th {\n",
       "        text-align: right;\n",
       "    }\n",
       "</style>\n",
       "<table border=\"1\" class=\"dataframe\">\n",
       "  <thead>\n",
       "    <tr style=\"text-align: right;\">\n",
       "      <th></th>\n",
       "      <th>model_type</th>\n",
       "      <th>target_var</th>\n",
       "      <th>rmse</th>\n",
       "    </tr>\n",
       "  </thead>\n",
       "  <tbody>\n",
       "    <tr>\n",
       "      <th>0</th>\n",
       "      <td>baseline/simple avg</td>\n",
       "      <td>temp</td>\n",
       "      <td>11.0</td>\n",
       "    </tr>\n",
       "    <tr>\n",
       "      <th>1</th>\n",
       "      <td>baseline/simple avg</td>\n",
       "      <td>temp</td>\n",
       "      <td>11.0</td>\n",
       "    </tr>\n",
       "  </tbody>\n",
       "</table>\n",
       "</div>"
      ],
      "text/plain": [
       "            model_type target_var  rmse\n",
       "0  baseline/simple avg       temp  11.0\n",
       "1  baseline/simple avg       temp  11.0"
      ]
     },
     "execution_count": 66,
     "metadata": {},
     "output_type": "execute_result"
    }
   ],
   "source": [
    "eval_df = append_eval_df(model_type = 'baseline/simple avg', target_var = target_var)\n",
    "eval_df"
   ]
  },
  {
   "cell_type": "markdown",
   "id": "49960349",
   "metadata": {},
   "source": [
    "### Plotting Baseline"
   ]
  },
  {
   "cell_type": "code",
   "execution_count": 63,
   "id": "7b4dd2fa",
   "metadata": {},
   "outputs": [
    {
     "name": "stdout",
     "output_type": "stream",
     "text": [
      "--RMSE = 11.0\n"
     ]
    },
    {
     "data": {
      "image/png": "[encoded data removed]",
      "text/plain": [
       "<Figure size 864x288 with 1 Axes>"
      ]
     },
     "metadata": {},
     "output_type": "display_data"
    }
   ],
   "source": [
    "plot_samples(target_var)\n",
    "plt.plot(yhat_df[target_var], label='Baseline')\n",
    "plt.title(\"Baseline\")\n",
    "rmse = evaluate(target_var)\n",
    "print(f'--RMSE = {rmse}')\n",
    "plt.legend()\n",
    "plt.show()"
   ]
  },
  {
   "cell_type": "code",
   "execution_count": null,
   "id": "d12988d4",
   "metadata": {},
   "outputs": [],
   "source": []
  }
 ],
 "metadata": {
  "kernelspec": {
   "display_name": "Python 3",
   "language": "python",
   "name": "python3"
  },
  "language_info": {
   "codemirror_mode": {
    "name": "ipython",
    "version": 3
   },
   "file_extension": ".py",
   "mimetype": "text/x-python",
   "name": "python",
   "nbconvert_exporter": "python",
   "pygments_lexer": "ipython3",
   "version": "3.8.8"
  }
 },
 "nbformat": 4,
 "nbformat_minor": 5
}
