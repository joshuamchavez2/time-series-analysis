{
 "cells": [
  {
   "cell_type": "code",
   "execution_count": 1,
   "id": "3e4899e0",
   "metadata": {},
   "outputs": [],
   "source": [
    "import warnings\n",
    "import pandas as pd\n",
    "import numpy as np\n",
    "warnings.filterwarnings('ignore')\n",
    "\n",
    "from datetime import datetime\n",
    "from sklearn.metrics import mean_squared_error\n",
    "from math import sqrt\n",
    "\n",
    "import matplotlib.pyplot as plt\n",
    "%matplotlib inline\n",
    "import seaborn as sns\n",
    "\n",
    "from pandas.plotting import register_matplotlib_converters\n",
    "\n",
    "import statsmodels.api as sm\n",
    "from statsmodels.tsa.api import Holt\n",
    "\n",
    "import env"
   ]
  },
  {
   "cell_type": "markdown",
   "id": "5ad45020",
   "metadata": {},
   "source": [
    "# Using saas.csv or log data from API usage or store_item_sales"
   ]
  },
  {
   "cell_type": "code",
   "execution_count": 2,
   "id": "1020a05e",
   "metadata": {},
   "outputs": [],
   "source": [
    "# Importing saas.csv to a Data Frame\n",
    "df = pd.read_csv('saas.csv')"
   ]
  },
  {
   "cell_type": "code",
   "execution_count": 3,
   "id": "56fdc59f",
   "metadata": {},
   "outputs": [
    {
     "data": {
      "text/html": [
       "<div>\n",
       "<style scoped>\n",
       "    .dataframe tbody tr th:only-of-type {\n",
       "        vertical-align: middle;\n",
       "    }\n",
       "\n",
       "    .dataframe tbody tr th {\n",
       "        vertical-align: top;\n",
       "    }\n",
       "\n",
       "    .dataframe thead th {\n",
       "        text-align: right;\n",
       "    }\n",
       "</style>\n",
       "<table border=\"1\" class=\"dataframe\">\n",
       "  <thead>\n",
       "    <tr style=\"text-align: right;\">\n",
       "      <th></th>\n",
       "      <th>Month_Invoiced</th>\n",
       "      <th>Customer_Id</th>\n",
       "      <th>Invoice_Id</th>\n",
       "      <th>Subscription_Type</th>\n",
       "      <th>Amount</th>\n",
       "    </tr>\n",
       "  </thead>\n",
       "  <tbody>\n",
       "    <tr>\n",
       "      <th>0</th>\n",
       "      <td>2014-01-31</td>\n",
       "      <td>1000000</td>\n",
       "      <td>5000000</td>\n",
       "      <td>0.0</td>\n",
       "      <td>0.0</td>\n",
       "    </tr>\n",
       "    <tr>\n",
       "      <th>1</th>\n",
       "      <td>2014-01-31</td>\n",
       "      <td>1000001</td>\n",
       "      <td>5000001</td>\n",
       "      <td>2.0</td>\n",
       "      <td>10.0</td>\n",
       "    </tr>\n",
       "    <tr>\n",
       "      <th>2</th>\n",
       "      <td>2014-01-31</td>\n",
       "      <td>1000002</td>\n",
       "      <td>5000002</td>\n",
       "      <td>0.0</td>\n",
       "      <td>0.0</td>\n",
       "    </tr>\n",
       "  </tbody>\n",
       "</table>\n",
       "</div>"
      ],
      "text/plain": [
       "  Month_Invoiced  Customer_Id  Invoice_Id  Subscription_Type  Amount\n",
       "0     2014-01-31      1000000     5000000                0.0     0.0\n",
       "1     2014-01-31      1000001     5000001                2.0    10.0\n",
       "2     2014-01-31      1000002     5000002                0.0     0.0"
      ]
     },
     "execution_count": 3,
     "metadata": {},
     "output_type": "execute_result"
    }
   ],
   "source": [
    "# Checking Values to make sure import worked out correctly\n",
    "df.head(3)"
   ]
  },
  {
   "cell_type": "code",
   "execution_count": 4,
   "id": "b32f7bd4",
   "metadata": {},
   "outputs": [
    {
     "name": "stdout",
     "output_type": "stream",
     "text": [
      "<class 'pandas.core.frame.DataFrame'>\n",
      "RangeIndex: 790458 entries, 0 to 790457\n",
      "Data columns (total 5 columns):\n",
      " #   Column             Non-Null Count   Dtype  \n",
      "---  ------             --------------   -----  \n",
      " 0   Month_Invoiced     790458 non-null  object \n",
      " 1   Customer_Id        790458 non-null  int64  \n",
      " 2   Invoice_Id         790458 non-null  int64  \n",
      " 3   Subscription_Type  790458 non-null  float64\n",
      " 4   Amount             790458 non-null  float64\n",
      "dtypes: float64(2), int64(2), object(1)\n",
      "memory usage: 30.2+ MB\n"
     ]
    }
   ],
   "source": [
    "# Taking a look at the columns and Data Types and Non-Null Count\n",
    "df.info()"
   ]
  },
  {
   "cell_type": "markdown",
   "id": "c1e18997",
   "metadata": {},
   "source": [
    "# Split data (train/validate/test) and resample by any period, except daily, and aggregate using the sum."
   ]
  },
  {
   "cell_type": "markdown",
   "id": "8d744864",
   "metadata": {},
   "source": [
    "## Converting Month_Invoiced to 'datetime64' Data Type"
   ]
  },
  {
   "cell_type": "code",
   "execution_count": 5,
   "id": "f8372494",
   "metadata": {},
   "outputs": [],
   "source": [
    "# Converting sale_date type object to datetime64\n",
    "df.Month_Invoiced = pd.to_datetime(df.Month_Invoiced)"
   ]
  },
  {
   "cell_type": "markdown",
   "id": "a592a59c",
   "metadata": {},
   "source": [
    "## Need to set the axis as Month_Invoiced"
   ]
  },
  {
   "cell_type": "code",
   "execution_count": 6,
   "id": "1d3e2846",
   "metadata": {},
   "outputs": [],
   "source": [
    "# Making the index equal to the Month_Invoiced\n",
    "df = df.set_index('Month_Invoiced').sort_index()"
   ]
  },
  {
   "cell_type": "code",
   "execution_count": 7,
   "id": "d04ebaf0",
   "metadata": {},
   "outputs": [
    {
     "data": {
      "text/html": [
       "<div>\n",
       "<style scoped>\n",
       "    .dataframe tbody tr th:only-of-type {\n",
       "        vertical-align: middle;\n",
       "    }\n",
       "\n",
       "    .dataframe tbody tr th {\n",
       "        vertical-align: top;\n",
       "    }\n",
       "\n",
       "    .dataframe thead th {\n",
       "        text-align: right;\n",
       "    }\n",
       "</style>\n",
       "<table border=\"1\" class=\"dataframe\">\n",
       "  <thead>\n",
       "    <tr style=\"text-align: right;\">\n",
       "      <th></th>\n",
       "      <th>Customer_Id</th>\n",
       "      <th>Invoice_Id</th>\n",
       "      <th>Subscription_Type</th>\n",
       "      <th>Amount</th>\n",
       "    </tr>\n",
       "    <tr>\n",
       "      <th>Month_Invoiced</th>\n",
       "      <th></th>\n",
       "      <th></th>\n",
       "      <th></th>\n",
       "      <th></th>\n",
       "    </tr>\n",
       "  </thead>\n",
       "  <tbody>\n",
       "    <tr>\n",
       "      <th>2014-01-31</th>\n",
       "      <td>1000000</td>\n",
       "      <td>5000000</td>\n",
       "      <td>0.0</td>\n",
       "      <td>0.0</td>\n",
       "    </tr>\n",
       "    <tr>\n",
       "      <th>2014-01-31</th>\n",
       "      <td>1000001</td>\n",
       "      <td>5000001</td>\n",
       "      <td>2.0</td>\n",
       "      <td>10.0</td>\n",
       "    </tr>\n",
       "    <tr>\n",
       "      <th>2014-01-31</th>\n",
       "      <td>1000002</td>\n",
       "      <td>5000002</td>\n",
       "      <td>0.0</td>\n",
       "      <td>0.0</td>\n",
       "    </tr>\n",
       "    <tr>\n",
       "      <th>2014-01-31</th>\n",
       "      <td>1000003</td>\n",
       "      <td>5000003</td>\n",
       "      <td>0.0</td>\n",
       "      <td>0.0</td>\n",
       "    </tr>\n",
       "    <tr>\n",
       "      <th>2014-01-31</th>\n",
       "      <td>1000004</td>\n",
       "      <td>5000004</td>\n",
       "      <td>1.0</td>\n",
       "      <td>5.0</td>\n",
       "    </tr>\n",
       "  </tbody>\n",
       "</table>\n",
       "</div>"
      ],
      "text/plain": [
       "                Customer_Id  Invoice_Id  Subscription_Type  Amount\n",
       "Month_Invoiced                                                    \n",
       "2014-01-31          1000000     5000000                0.0     0.0\n",
       "2014-01-31          1000001     5000001                2.0    10.0\n",
       "2014-01-31          1000002     5000002                0.0     0.0\n",
       "2014-01-31          1000003     5000003                0.0     0.0\n",
       "2014-01-31          1000004     5000004                1.0     5.0"
      ]
     },
     "execution_count": 7,
     "metadata": {},
     "output_type": "execute_result"
    }
   ],
   "source": [
    "# Checking date is sorted correctly\n",
    "df.head()"
   ]
  },
  {
   "cell_type": "code",
   "execution_count": 8,
   "id": "d9353586",
   "metadata": {},
   "outputs": [
    {
     "data": {
      "text/html": [
       "<div>\n",
       "<style scoped>\n",
       "    .dataframe tbody tr th:only-of-type {\n",
       "        vertical-align: middle;\n",
       "    }\n",
       "\n",
       "    .dataframe tbody tr th {\n",
       "        vertical-align: top;\n",
       "    }\n",
       "\n",
       "    .dataframe thead th {\n",
       "        text-align: right;\n",
       "    }\n",
       "</style>\n",
       "<table border=\"1\" class=\"dataframe\">\n",
       "  <thead>\n",
       "    <tr style=\"text-align: right;\">\n",
       "      <th></th>\n",
       "      <th>Customer_Id</th>\n",
       "      <th>Invoice_Id</th>\n",
       "      <th>Subscription_Type</th>\n",
       "      <th>Amount</th>\n",
       "    </tr>\n",
       "    <tr>\n",
       "      <th>Month_Invoiced</th>\n",
       "      <th></th>\n",
       "      <th></th>\n",
       "      <th></th>\n",
       "      <th></th>\n",
       "    </tr>\n",
       "  </thead>\n",
       "  <tbody>\n",
       "    <tr>\n",
       "      <th>2017-12-31</th>\n",
       "      <td>1029397</td>\n",
       "      <td>5790455</td>\n",
       "      <td>3.0</td>\n",
       "      <td>15.0</td>\n",
       "    </tr>\n",
       "    <tr>\n",
       "      <th>2017-12-31</th>\n",
       "      <td>1029398</td>\n",
       "      <td>5790456</td>\n",
       "      <td>0.0</td>\n",
       "      <td>0.0</td>\n",
       "    </tr>\n",
       "    <tr>\n",
       "      <th>2017-12-31</th>\n",
       "      <td>1029399</td>\n",
       "      <td>5790457</td>\n",
       "      <td>0.0</td>\n",
       "      <td>0.0</td>\n",
       "    </tr>\n",
       "  </tbody>\n",
       "</table>\n",
       "</div>"
      ],
      "text/plain": [
       "                Customer_Id  Invoice_Id  Subscription_Type  Amount\n",
       "Month_Invoiced                                                    \n",
       "2017-12-31          1029397     5790455                3.0    15.0\n",
       "2017-12-31          1029398     5790456                0.0     0.0\n",
       "2017-12-31          1029399     5790457                0.0     0.0"
      ]
     },
     "execution_count": 8,
     "metadata": {},
     "output_type": "execute_result"
    }
   ],
   "source": [
    "# Checking to see what the last day in my Data Frame is\n",
    "df.tail(3)"
   ]
  },
  {
   "cell_type": "markdown",
   "id": "8367af39",
   "metadata": {},
   "source": [
    "## Resampling"
   ]
  },
  {
   "cell_type": "code",
   "execution_count": 9,
   "id": "fc101863",
   "metadata": {},
   "outputs": [],
   "source": [
    "df = df.resample('W').sum()"
   ]
  },
  {
   "cell_type": "code",
   "execution_count": 10,
   "id": "5f9f4e57",
   "metadata": {},
   "outputs": [
    {
     "data": {
      "text/html": [
       "<div>\n",
       "<style scoped>\n",
       "    .dataframe tbody tr th:only-of-type {\n",
       "        vertical-align: middle;\n",
       "    }\n",
       "\n",
       "    .dataframe tbody tr th {\n",
       "        vertical-align: top;\n",
       "    }\n",
       "\n",
       "    .dataframe thead th {\n",
       "        text-align: right;\n",
       "    }\n",
       "</style>\n",
       "<table border=\"1\" class=\"dataframe\">\n",
       "  <thead>\n",
       "    <tr style=\"text-align: right;\">\n",
       "      <th></th>\n",
       "      <th>Customer_Id</th>\n",
       "      <th>Invoice_Id</th>\n",
       "      <th>Subscription_Type</th>\n",
       "      <th>Amount</th>\n",
       "    </tr>\n",
       "    <tr>\n",
       "      <th>Month_Invoiced</th>\n",
       "      <th></th>\n",
       "      <th></th>\n",
       "      <th></th>\n",
       "      <th></th>\n",
       "    </tr>\n",
       "  </thead>\n",
       "  <tbody>\n",
       "    <tr>\n",
       "      <th>2014-02-02</th>\n",
       "      <td>20199990000</td>\n",
       "      <td>100199990000</td>\n",
       "      <td>7170.0</td>\n",
       "      <td>35850.0</td>\n",
       "    </tr>\n",
       "    <tr>\n",
       "      <th>2014-02-09</th>\n",
       "      <td>0</td>\n",
       "      <td>0</td>\n",
       "      <td>0.0</td>\n",
       "      <td>0.0</td>\n",
       "    </tr>\n",
       "    <tr>\n",
       "      <th>2014-02-16</th>\n",
       "      <td>0</td>\n",
       "      <td>0</td>\n",
       "      <td>0.0</td>\n",
       "      <td>0.0</td>\n",
       "    </tr>\n",
       "    <tr>\n",
       "      <th>2014-02-23</th>\n",
       "      <td>0</td>\n",
       "      <td>0</td>\n",
       "      <td>0.0</td>\n",
       "      <td>0.0</td>\n",
       "    </tr>\n",
       "    <tr>\n",
       "      <th>2014-03-02</th>\n",
       "      <td>20000052061</td>\n",
       "      <td>99592010100</td>\n",
       "      <td>7438.0</td>\n",
       "      <td>37190.0</td>\n",
       "    </tr>\n",
       "  </tbody>\n",
       "</table>\n",
       "</div>"
      ],
      "text/plain": [
       "                Customer_Id    Invoice_Id  Subscription_Type   Amount\n",
       "Month_Invoiced                                                       \n",
       "2014-02-02      20199990000  100199990000             7170.0  35850.0\n",
       "2014-02-09                0             0                0.0      0.0\n",
       "2014-02-16                0             0                0.0      0.0\n",
       "2014-02-23                0             0                0.0      0.0\n",
       "2014-03-02      20000052061   99592010100             7438.0  37190.0"
      ]
     },
     "execution_count": 10,
     "metadata": {},
     "output_type": "execute_result"
    }
   ],
   "source": [
    "df.head()"
   ]
  },
  {
   "cell_type": "markdown",
   "id": "dd35fb82",
   "metadata": {},
   "source": [
    "### Dropping Rows Where Amount == 0"
   ]
  },
  {
   "cell_type": "code",
   "execution_count": 11,
   "id": "431c324c",
   "metadata": {},
   "outputs": [],
   "source": [
    "df = df[df.Amount != 0]"
   ]
  },
  {
   "cell_type": "code",
   "execution_count": 12,
   "id": "c19275e6",
   "metadata": {
    "scrolled": true
   },
   "outputs": [
    {
     "data": {
      "text/plain": [
       "<AxesSubplot:>"
      ]
     },
     "execution_count": 12,
     "metadata": {},
     "output_type": "execute_result"
    },
    {
     "data": {
      "image/png": "[encoded data removed]",
      "text/plain": [
       "<Figure size 432x288 with 1 Axes>"
      ]
     },
     "metadata": {
      "needs_background": "light"
     },
     "output_type": "display_data"
    }
   ],
   "source": [
    "# Checking the Amount distribution\n",
    "df.Amount.hist()"
   ]
  },
  {
   "cell_type": "markdown",
   "id": "b0b570d7",
   "metadata": {},
   "source": [
    "#### Split "
   ]
  },
  {
   "cell_type": "code",
   "execution_count": 13,
   "id": "52d6600a",
   "metadata": {},
   "outputs": [
    {
     "data": {
      "text/plain": [
       "48"
      ]
     },
     "execution_count": 13,
     "metadata": {},
     "output_type": "execute_result"
    }
   ],
   "source": [
    "# Thinking about how i want to split and wanted to know how many rows I had\n",
    "df_size = len(df)\n",
    "df_size"
   ]
  },
  {
   "cell_type": "code",
   "execution_count": 14,
   "id": "706d94e4",
   "metadata": {},
   "outputs": [
    {
     "data": {
      "text/plain": [
       "24"
      ]
     },
     "execution_count": 14,
     "metadata": {},
     "output_type": "execute_result"
    }
   ],
   "source": [
    "# compute num of rows that are 50% of total rows and assign to variable train_size\n",
    "train_size = int(df_size * .50)\n",
    "train_size"
   ]
  },
  {
   "cell_type": "code",
   "execution_count": 15,
   "id": "0ea14d91",
   "metadata": {},
   "outputs": [
    {
     "data": {
      "text/plain": [
       "14"
      ]
     },
     "execution_count": 15,
     "metadata": {},
     "output_type": "execute_result"
    }
   ],
   "source": [
    "# compute num of rows that are 30% of total rows and assign to variable validate_size\n",
    "\n",
    "validate_size = int(df_size * .3)\n",
    "validate_size"
   ]
  },
  {
   "cell_type": "code",
   "execution_count": 16,
   "id": "741007c5",
   "metadata": {},
   "outputs": [
    {
     "data": {
      "text/plain": [
       "10"
      ]
     },
     "execution_count": 16,
     "metadata": {},
     "output_type": "execute_result"
    }
   ],
   "source": [
    "# make test_size the number of rows remaining (test_size = total # of rows - train_size - validate_size)\n",
    "test_size = int(df_size - train_size - validate_size)\n",
    "test_size"
   ]
  },
  {
   "cell_type": "code",
   "execution_count": 17,
   "id": "0f979554",
   "metadata": {},
   "outputs": [
    {
     "data": {
      "text/plain": [
       "38"
      ]
     },
     "execution_count": 17,
     "metadata": {},
     "output_type": "execute_result"
    }
   ],
   "source": [
    "# compute the row number at which the switch from validate to test happens. \n",
    "validate_end_index = train_size + validate_size\n",
    "validate_end_index"
   ]
  },
  {
   "cell_type": "markdown",
   "id": "6d4c872d",
   "metadata": {},
   "source": [
    "## Qauilty Check"
   ]
  },
  {
   "cell_type": "code",
   "execution_count": 18,
   "id": "177291e2",
   "metadata": {},
   "outputs": [
    {
     "data": {
      "text/plain": [
       "True"
      ]
     },
     "execution_count": 18,
     "metadata": {},
     "output_type": "execute_result"
    }
   ],
   "source": [
    "# Making sure the numbers add up to the full Data Frame\n",
    "len(df) == train_size + validate_size + test_size"
   ]
  },
  {
   "cell_type": "markdown",
   "id": "563a912a",
   "metadata": {},
   "source": [
    "### Train Split "
   ]
  },
  {
   "cell_type": "code",
   "execution_count": 19,
   "id": "6401173f",
   "metadata": {},
   "outputs": [
    {
     "data": {
      "text/plain": [
       "(24, 4)"
      ]
     },
     "execution_count": 19,
     "metadata": {},
     "output_type": "execute_result"
    }
   ],
   "source": [
    "# train is equal to start of index to train_size which is (df_size * .50) \n",
    "train = df[: train_size]\n",
    "train.shape"
   ]
  },
  {
   "cell_type": "markdown",
   "id": "329ed790",
   "metadata": {},
   "source": [
    "### Validate Split "
   ]
  },
  {
   "cell_type": "code",
   "execution_count": 20,
   "id": "7bd9c19d",
   "metadata": {},
   "outputs": [
    {
     "data": {
      "text/plain": [
       "(14, 4)"
      ]
     },
     "execution_count": 20,
     "metadata": {},
     "output_type": "execute_result"
    }
   ],
   "source": [
    "# validate is equal to train_size to end of validate_end_index which is (train_size + validate_size)\n",
    "validate = df[train_size: validate_end_index]\n",
    "validate.shape"
   ]
  },
  {
   "cell_type": "markdown",
   "id": "c69fa34d",
   "metadata": {},
   "source": [
    "### Test Split "
   ]
  },
  {
   "cell_type": "code",
   "execution_count": 21,
   "id": "c8343dac",
   "metadata": {},
   "outputs": [
    {
     "data": {
      "text/plain": [
       "(10, 4)"
      ]
     },
     "execution_count": 21,
     "metadata": {},
     "output_type": "execute_result"
    }
   ],
   "source": [
    "# test is equal to validate_end_index to the end of the index\n",
    "test = df[validate_end_index : ]\n",
    "test.shape"
   ]
  },
  {
   "cell_type": "markdown",
   "id": "02d0b081",
   "metadata": {},
   "source": [
    "# Forecast, plot and evaluate using each of the 4 parametric based methods we discussed:"
   ]
  },
  {
   "cell_type": "markdown",
   "id": "3a67c448",
   "metadata": {},
   "source": [
    "### Reusing Functions"
   ]
  },
  {
   "cell_type": "code",
   "execution_count": 22,
   "id": "cfdd016c",
   "metadata": {},
   "outputs": [],
   "source": [
    "def plot_samples(target_var):\n",
    "    '''\n",
    "    this function wil plot the train, validate and test values for a single varibable across all dates\n",
    "    '''\n",
    "    plt.figure(figsize=(12, 4))\n",
    "    plt.plot(train[target_var])\n",
    "    plt.plot(validate[target_var])\n",
    "    plt.plot(test[target_var])\n",
    "    plt.title(target_var)"
   ]
  },
  {
   "cell_type": "code",
   "execution_count": 23,
   "id": "cb802a84",
   "metadata": {},
   "outputs": [],
   "source": [
    "def evaluate(target_var):\n",
    "    '''\n",
    "    Creating a function to grab rmse\n",
    "    '''\n",
    "    rmse = round(sqrt(mean_squared_error(validate[target_var], yhat_df[target_var])), 0)\n",
    "    return rmse"
   ]
  },
  {
   "cell_type": "code",
   "execution_count": 24,
   "id": "e3178492",
   "metadata": {},
   "outputs": [],
   "source": [
    "def plot_and_eval(target_var):\n",
    "    '''\n",
    "    a function to evaluate forecasts by computing the rmse and plot train and validate along with predictions\n",
    "    '''\n",
    "    plot_samples(target_var)\n",
    "    plt.plot(yhat_df[target_var])\n",
    "    plt.title(target_var)\n",
    "    rmse = evaluate(target_var)\n",
    "    print(f'--RMSE: {target_var}')\n",
    "    plt.show()"
   ]
  },
  {
   "cell_type": "code",
   "execution_count": 25,
   "id": "3103be87",
   "metadata": {},
   "outputs": [],
   "source": [
    "def append_eval_df(model_type, target_var):\n",
    "    '''\n",
    "    this function is goign to take in the model type as a string, the target variable as a string,\n",
    "    and run the evalute() function to compute the rsme,\n",
    "    and append to the data frame a row with the model_type, target_var and rmse.\n",
    "    it will return the new dataframe\n",
    "    '''\n",
    "    rmse = evaluate(target_var)\n",
    "    d = {'model_type': [model_type], 'target_var': [target_var], 'rmse': [rmse]}\n",
    "    d = pd.DataFrame(d)\n",
    "    return eval_df.append(d, ignore_index=True)"
   ]
  },
  {
   "cell_type": "code",
   "execution_count": 26,
   "id": "90618cc7",
   "metadata": {},
   "outputs": [],
   "source": [
    "# Im not using this one, I have just been creating my own yhat everytime.\n",
    "def make_predictions(target_var):\n",
    "    yhat_df = pd.DataFrame({'Amount': [target_var]}, index = validate.index)\n",
    "    return yhat_df"
   ]
  },
  {
   "cell_type": "code",
   "execution_count": 27,
   "id": "a2a45274",
   "metadata": {},
   "outputs": [],
   "source": [
    "# Create the empty dataframe with model_type, target_var, rmse\n",
    "eval_df = pd.DataFrame(columns = ['model_type', 'target_var', 'rmse'])"
   ]
  },
  {
   "cell_type": "markdown",
   "id": "98385a2c",
   "metadata": {},
   "source": [
    "# Simple Average"
   ]
  },
  {
   "cell_type": "code",
   "execution_count": 28,
   "id": "d6d41319",
   "metadata": {},
   "outputs": [],
   "source": [
    "# Setting out Target as Amount\n",
    "target_var = \"Amount\""
   ]
  },
  {
   "cell_type": "code",
   "execution_count": 29,
   "id": "a3ed9b25",
   "metadata": {},
   "outputs": [
    {
     "data": {
      "text/plain": [
       "45568.54"
      ]
     },
     "execution_count": 29,
     "metadata": {},
     "output_type": "execute_result"
    }
   ],
   "source": [
    "# taking the average of amount from TRAIN\n",
    "amount_mean = round(train.Amount.mean(), 2)\n",
    "amount_mean"
   ]
  },
  {
   "cell_type": "code",
   "execution_count": 30,
   "id": "7d56b7d9",
   "metadata": {},
   "outputs": [],
   "source": [
    "# make predictions by adding those values to new dataframe yhat_df\n",
    "yhat_df = pd.DataFrame({'Amount': [amount_mean]}, index = validate.index)"
   ]
  },
  {
   "cell_type": "code",
   "execution_count": 31,
   "id": "d7cdfaf3",
   "metadata": {},
   "outputs": [
    {
     "data": {
      "text/html": [
       "<div>\n",
       "<style scoped>\n",
       "    .dataframe tbody tr th:only-of-type {\n",
       "        vertical-align: middle;\n",
       "    }\n",
       "\n",
       "    .dataframe tbody tr th {\n",
       "        vertical-align: top;\n",
       "    }\n",
       "\n",
       "    .dataframe thead th {\n",
       "        text-align: right;\n",
       "    }\n",
       "</style>\n",
       "<table border=\"1\" class=\"dataframe\">\n",
       "  <thead>\n",
       "    <tr style=\"text-align: right;\">\n",
       "      <th></th>\n",
       "      <th>Amount</th>\n",
       "    </tr>\n",
       "    <tr>\n",
       "      <th>Month_Invoiced</th>\n",
       "      <th></th>\n",
       "    </tr>\n",
       "  </thead>\n",
       "  <tbody>\n",
       "    <tr>\n",
       "      <th>2016-01-31</th>\n",
       "      <td>45568.54</td>\n",
       "    </tr>\n",
       "    <tr>\n",
       "      <th>2016-03-06</th>\n",
       "      <td>45568.54</td>\n",
       "    </tr>\n",
       "  </tbody>\n",
       "</table>\n",
       "</div>"
      ],
      "text/plain": [
       "                  Amount\n",
       "Month_Invoiced          \n",
       "2016-01-31      45568.54\n",
       "2016-03-06      45568.54"
      ]
     },
     "execution_count": 31,
     "metadata": {},
     "output_type": "execute_result"
    }
   ],
   "source": [
    "yhat_df.head(2)"
   ]
  },
  {
   "cell_type": "code",
   "execution_count": 32,
   "id": "37fbc3ed",
   "metadata": {},
   "outputs": [
    {
     "name": "stdout",
     "output_type": "stream",
     "text": [
      "--RMSE: Amount\n"
     ]
    },
    {
     "data": {
      "image/png": "[encoded data removed]",
      "text/plain": [
       "<Figure size 864x288 with 1 Axes>"
      ]
     },
     "metadata": {
      "needs_background": "light"
     },
     "output_type": "display_data"
    }
   ],
   "source": [
    "plot_and_eval(target_var)"
   ]
  },
  {
   "cell_type": "code",
   "execution_count": 33,
   "id": "f01e2cb5",
   "metadata": {},
   "outputs": [],
   "source": [
    "eval_df = append_eval_df(model_type = 'amount_mean', target_var = target_var)"
   ]
  },
  {
   "cell_type": "code",
   "execution_count": 34,
   "id": "0ef0325b",
   "metadata": {},
   "outputs": [
    {
     "data": {
      "text/html": [
       "<div>\n",
       "<style scoped>\n",
       "    .dataframe tbody tr th:only-of-type {\n",
       "        vertical-align: middle;\n",
       "    }\n",
       "\n",
       "    .dataframe tbody tr th {\n",
       "        vertical-align: top;\n",
       "    }\n",
       "\n",
       "    .dataframe thead th {\n",
       "        text-align: right;\n",
       "    }\n",
       "</style>\n",
       "<table border=\"1\" class=\"dataframe\">\n",
       "  <thead>\n",
       "    <tr style=\"text-align: right;\">\n",
       "      <th></th>\n",
       "      <th>model_type</th>\n",
       "      <th>target_var</th>\n",
       "      <th>rmse</th>\n",
       "    </tr>\n",
       "  </thead>\n",
       "  <tbody>\n",
       "    <tr>\n",
       "      <th>0</th>\n",
       "      <td>amount_mean</td>\n",
       "      <td>Amount</td>\n",
       "      <td>7181.0</td>\n",
       "    </tr>\n",
       "  </tbody>\n",
       "</table>\n",
       "</div>"
      ],
      "text/plain": [
       "    model_type target_var    rmse\n",
       "0  amount_mean     Amount  7181.0"
      ]
     },
     "execution_count": 34,
     "metadata": {},
     "output_type": "execute_result"
    }
   ],
   "source": [
    "eval_df"
   ]
  },
  {
   "cell_type": "markdown",
   "id": "691eaf9c",
   "metadata": {},
   "source": [
    "## Moving Average"
   ]
  },
  {
   "cell_type": "markdown",
   "id": "e4cc1100",
   "metadata": {},
   "source": [
    "### 4 Week Rolling"
   ]
  },
  {
   "cell_type": "code",
   "execution_count": 35,
   "id": "921db42c",
   "metadata": {},
   "outputs": [
    {
     "data": {
      "text/plain": [
       "51299"
      ]
     },
     "execution_count": 35,
     "metadata": {},
     "output_type": "execute_result"
    }
   ],
   "source": [
    "period = 4 # In Weeks\n",
    "amount_4week_rolling = round(train['Amount'].rolling(period).mean().iloc[-1])\n",
    "amount_4week_rolling"
   ]
  },
  {
   "cell_type": "code",
   "execution_count": 36,
   "id": "5d0786f0",
   "metadata": {},
   "outputs": [],
   "source": [
    "# make predictions by adding those values to new dataframe yhat_df\n",
    "yhat_df = pd.DataFrame({'Amount': [amount_4week_rolling]}, index = validate.index)"
   ]
  },
  {
   "cell_type": "code",
   "execution_count": 37,
   "id": "16fbee90",
   "metadata": {},
   "outputs": [
    {
     "data": {
      "text/html": [
       "<div>\n",
       "<style scoped>\n",
       "    .dataframe tbody tr th:only-of-type {\n",
       "        vertical-align: middle;\n",
       "    }\n",
       "\n",
       "    .dataframe tbody tr th {\n",
       "        vertical-align: top;\n",
       "    }\n",
       "\n",
       "    .dataframe thead th {\n",
       "        text-align: right;\n",
       "    }\n",
       "</style>\n",
       "<table border=\"1\" class=\"dataframe\">\n",
       "  <thead>\n",
       "    <tr style=\"text-align: right;\">\n",
       "      <th></th>\n",
       "      <th>Amount</th>\n",
       "    </tr>\n",
       "    <tr>\n",
       "      <th>Month_Invoiced</th>\n",
       "      <th></th>\n",
       "    </tr>\n",
       "  </thead>\n",
       "  <tbody>\n",
       "    <tr>\n",
       "      <th>2016-01-31</th>\n",
       "      <td>51299</td>\n",
       "    </tr>\n",
       "    <tr>\n",
       "      <th>2016-03-06</th>\n",
       "      <td>51299</td>\n",
       "    </tr>\n",
       "  </tbody>\n",
       "</table>\n",
       "</div>"
      ],
      "text/plain": [
       "                Amount\n",
       "Month_Invoiced        \n",
       "2016-01-31       51299\n",
       "2016-03-06       51299"
      ]
     },
     "execution_count": 37,
     "metadata": {},
     "output_type": "execute_result"
    }
   ],
   "source": [
    "yhat_df.head(2)"
   ]
  },
  {
   "cell_type": "code",
   "execution_count": 38,
   "id": "c7a337e4",
   "metadata": {},
   "outputs": [
    {
     "name": "stdout",
     "output_type": "stream",
     "text": [
      "--RMSE: Amount\n"
     ]
    },
    {
     "data": {
      "image/png": "[encoded data removed]",
      "text/plain": [
       "<Figure size 864x288 with 1 Axes>"
      ]
     },
     "metadata": {
      "needs_background": "light"
     },
     "output_type": "display_data"
    }
   ],
   "source": [
    "plot_and_eval(target_var)"
   ]
  },
  {
   "cell_type": "code",
   "execution_count": 39,
   "id": "b98e9f0b",
   "metadata": {},
   "outputs": [],
   "source": [
    "eval_df = append_eval_df(model_type = '4 Week Rolling', target_var = target_var)"
   ]
  },
  {
   "cell_type": "code",
   "execution_count": 40,
   "id": "988bca12",
   "metadata": {},
   "outputs": [
    {
     "data": {
      "text/html": [
       "<div>\n",
       "<style scoped>\n",
       "    .dataframe tbody tr th:only-of-type {\n",
       "        vertical-align: middle;\n",
       "    }\n",
       "\n",
       "    .dataframe tbody tr th {\n",
       "        vertical-align: top;\n",
       "    }\n",
       "\n",
       "    .dataframe thead th {\n",
       "        text-align: right;\n",
       "    }\n",
       "</style>\n",
       "<table border=\"1\" class=\"dataframe\">\n",
       "  <thead>\n",
       "    <tr style=\"text-align: right;\">\n",
       "      <th></th>\n",
       "      <th>model_type</th>\n",
       "      <th>target_var</th>\n",
       "      <th>rmse</th>\n",
       "    </tr>\n",
       "  </thead>\n",
       "  <tbody>\n",
       "    <tr>\n",
       "      <th>0</th>\n",
       "      <td>amount_mean</td>\n",
       "      <td>Amount</td>\n",
       "      <td>7181.0</td>\n",
       "    </tr>\n",
       "    <tr>\n",
       "      <th>1</th>\n",
       "      <td>4 Week Rolling</td>\n",
       "      <td>Amount</td>\n",
       "      <td>1533.0</td>\n",
       "    </tr>\n",
       "  </tbody>\n",
       "</table>\n",
       "</div>"
      ],
      "text/plain": [
       "       model_type target_var    rmse\n",
       "0     amount_mean     Amount  7181.0\n",
       "1  4 Week Rolling     Amount  1533.0"
      ]
     },
     "execution_count": 40,
     "metadata": {},
     "output_type": "execute_result"
    }
   ],
   "source": [
    "eval_df"
   ]
  },
  {
   "cell_type": "markdown",
   "id": "bb176d49",
   "metadata": {},
   "source": [
    "### 8 Week Rolling"
   ]
  },
  {
   "cell_type": "code",
   "execution_count": 41,
   "id": "ab3af65c",
   "metadata": {},
   "outputs": [
    {
     "data": {
      "text/plain": [
       "50538"
      ]
     },
     "execution_count": 41,
     "metadata": {},
     "output_type": "execute_result"
    }
   ],
   "source": [
    "period = 8 # In Weeks\n",
    "amount_8week_rolling = round(train['Amount'].rolling(period).mean().iloc[-1])\n",
    "amount_8week_rolling"
   ]
  },
  {
   "cell_type": "code",
   "execution_count": 42,
   "id": "7b9009f4",
   "metadata": {},
   "outputs": [],
   "source": [
    "# make predictions by adding those values to new dataframe yhat_df\n",
    "yhat_df = pd.DataFrame({'Amount': [amount_8week_rolling]}, index = validate.index)"
   ]
  },
  {
   "cell_type": "code",
   "execution_count": 43,
   "id": "cf622d5d",
   "metadata": {},
   "outputs": [
    {
     "name": "stdout",
     "output_type": "stream",
     "text": [
      "--RMSE: Amount\n"
     ]
    },
    {
     "data": {
      "image/png": "[encoded data removed]",
      "text/plain": [
       "<Figure size 864x288 with 1 Axes>"
      ]
     },
     "metadata": {
      "needs_background": "light"
     },
     "output_type": "display_data"
    }
   ],
   "source": [
    "plot_and_eval(target_var)"
   ]
  },
  {
   "cell_type": "code",
   "execution_count": 44,
   "id": "e832cf7d",
   "metadata": {},
   "outputs": [
    {
     "data": {
      "text/html": [
       "<div>\n",
       "<style scoped>\n",
       "    .dataframe tbody tr th:only-of-type {\n",
       "        vertical-align: middle;\n",
       "    }\n",
       "\n",
       "    .dataframe tbody tr th {\n",
       "        vertical-align: top;\n",
       "    }\n",
       "\n",
       "    .dataframe thead th {\n",
       "        text-align: right;\n",
       "    }\n",
       "</style>\n",
       "<table border=\"1\" class=\"dataframe\">\n",
       "  <thead>\n",
       "    <tr style=\"text-align: right;\">\n",
       "      <th></th>\n",
       "      <th>model_type</th>\n",
       "      <th>target_var</th>\n",
       "      <th>rmse</th>\n",
       "    </tr>\n",
       "  </thead>\n",
       "  <tbody>\n",
       "    <tr>\n",
       "      <th>0</th>\n",
       "      <td>amount_mean</td>\n",
       "      <td>Amount</td>\n",
       "      <td>7181.0</td>\n",
       "    </tr>\n",
       "    <tr>\n",
       "      <th>1</th>\n",
       "      <td>4 Week Rolling</td>\n",
       "      <td>Amount</td>\n",
       "      <td>1533.0</td>\n",
       "    </tr>\n",
       "    <tr>\n",
       "      <th>2</th>\n",
       "      <td>8 Week Rolling</td>\n",
       "      <td>Amount</td>\n",
       "      <td>2259.0</td>\n",
       "    </tr>\n",
       "  </tbody>\n",
       "</table>\n",
       "</div>"
      ],
      "text/plain": [
       "       model_type target_var    rmse\n",
       "0     amount_mean     Amount  7181.0\n",
       "1  4 Week Rolling     Amount  1533.0\n",
       "2  8 Week Rolling     Amount  2259.0"
      ]
     },
     "execution_count": 44,
     "metadata": {},
     "output_type": "execute_result"
    }
   ],
   "source": [
    "eval_df = append_eval_df(model_type = '8 Week Rolling', target_var = target_var)\n",
    "eval_df"
   ]
  },
  {
   "cell_type": "markdown",
   "id": "f3dd487b",
   "metadata": {},
   "source": [
    "### Holt's Linear Trend Model"
   ]
  },
  {
   "cell_type": "code",
   "execution_count": 45,
   "id": "d5af4650",
   "metadata": {},
   "outputs": [],
   "source": [
    "train_holts = train.copy()\n",
    "validate_holts = validate.copy()"
   ]
  },
  {
   "cell_type": "code",
   "execution_count": 46,
   "id": "bfccab51",
   "metadata": {},
   "outputs": [],
   "source": [
    "train_holts = train_holts.Amount.resample('W').sum()\n",
    "validate_holts = validate_holts.Amount.resample('W').sum()"
   ]
  },
  {
   "cell_type": "markdown",
   "id": "04a769f4",
   "metadata": {},
   "source": [
    "### Level = .5 / Slope = .5"
   ]
  },
  {
   "cell_type": "code",
   "execution_count": 47,
   "id": "51b4ec87",
   "metadata": {},
   "outputs": [],
   "source": [
    "# Making the model\n",
    "model = Holt(train_holts, exponential = False)\n",
    "\n",
    "# Fitting the model\n",
    "model = model.fit(smoothing_level = .5, smoothing_slope = .5, optimized = False)\n",
    "\n",
    "# Making predictions \n",
    "yhat = model.predict(start = validate_holts.index[0], end = validate_holts.index[-1])\n",
    "\n",
    "yhat_df['Amount'] = round(yhat, 0)\n"
   ]
  },
  {
   "cell_type": "code",
   "execution_count": 48,
   "id": "d60f08c7",
   "metadata": {},
   "outputs": [
    {
     "name": "stdout",
     "output_type": "stream",
     "text": [
      "--RMSE: Amount\n"
     ]
    },
    {
     "data": {
      "image/png": "[encoded data removed]",
      "text/plain": [
       "<Figure size 864x288 with 1 Axes>"
      ]
     },
     "metadata": {
      "needs_background": "light"
     },
     "output_type": "display_data"
    }
   ],
   "source": [
    "eval_df = append_eval_df(model_type = 'Holts Level=.5 / Slope=.5', target_var = target_var)\n",
    "plot_and_eval(target_var = target_var)"
   ]
  },
  {
   "cell_type": "code",
   "execution_count": 49,
   "id": "65cad546",
   "metadata": {},
   "outputs": [
    {
     "data": {
      "text/html": [
       "<div>\n",
       "<style scoped>\n",
       "    .dataframe tbody tr th:only-of-type {\n",
       "        vertical-align: middle;\n",
       "    }\n",
       "\n",
       "    .dataframe tbody tr th {\n",
       "        vertical-align: top;\n",
       "    }\n",
       "\n",
       "    .dataframe thead th {\n",
       "        text-align: right;\n",
       "    }\n",
       "</style>\n",
       "<table border=\"1\" class=\"dataframe\">\n",
       "  <thead>\n",
       "    <tr style=\"text-align: right;\">\n",
       "      <th></th>\n",
       "      <th>model_type</th>\n",
       "      <th>target_var</th>\n",
       "      <th>rmse</th>\n",
       "    </tr>\n",
       "  </thead>\n",
       "  <tbody>\n",
       "    <tr>\n",
       "      <th>0</th>\n",
       "      <td>amount_mean</td>\n",
       "      <td>Amount</td>\n",
       "      <td>7181.0</td>\n",
       "    </tr>\n",
       "    <tr>\n",
       "      <th>1</th>\n",
       "      <td>4 Week Rolling</td>\n",
       "      <td>Amount</td>\n",
       "      <td>1533.0</td>\n",
       "    </tr>\n",
       "    <tr>\n",
       "      <th>2</th>\n",
       "      <td>8 Week Rolling</td>\n",
       "      <td>Amount</td>\n",
       "      <td>2259.0</td>\n",
       "    </tr>\n",
       "    <tr>\n",
       "      <th>3</th>\n",
       "      <td>Holts Level=.5 / Slope=.5</td>\n",
       "      <td>Amount</td>\n",
       "      <td>303537.0</td>\n",
       "    </tr>\n",
       "  </tbody>\n",
       "</table>\n",
       "</div>"
      ],
      "text/plain": [
       "                  model_type target_var      rmse\n",
       "0                amount_mean     Amount    7181.0\n",
       "1             4 Week Rolling     Amount    1533.0\n",
       "2             8 Week Rolling     Amount    2259.0\n",
       "3  Holts Level=.5 / Slope=.5     Amount  303537.0"
      ]
     },
     "execution_count": 49,
     "metadata": {},
     "output_type": "execute_result"
    }
   ],
   "source": [
    "eval_df"
   ]
  },
  {
   "cell_type": "markdown",
   "id": "29218e53",
   "metadata": {},
   "source": [
    "### Level = 1 / Slope = 1"
   ]
  },
  {
   "cell_type": "code",
   "execution_count": 50,
   "id": "66f2537f",
   "metadata": {},
   "outputs": [
    {
     "name": "stdout",
     "output_type": "stream",
     "text": [
      "--RMSE: Amount\n"
     ]
    },
    {
     "data": {
      "image/png": "[encoded data removed]",
      "text/plain": [
       "<Figure size 864x288 with 1 Axes>"
      ]
     },
     "metadata": {
      "needs_background": "light"
     },
     "output_type": "display_data"
    },
    {
     "data": {
      "text/html": [
       "<div>\n",
       "<style scoped>\n",
       "    .dataframe tbody tr th:only-of-type {\n",
       "        vertical-align: middle;\n",
       "    }\n",
       "\n",
       "    .dataframe tbody tr th {\n",
       "        vertical-align: top;\n",
       "    }\n",
       "\n",
       "    .dataframe thead th {\n",
       "        text-align: right;\n",
       "    }\n",
       "</style>\n",
       "<table border=\"1\" class=\"dataframe\">\n",
       "  <thead>\n",
       "    <tr style=\"text-align: right;\">\n",
       "      <th></th>\n",
       "      <th>model_type</th>\n",
       "      <th>target_var</th>\n",
       "      <th>rmse</th>\n",
       "    </tr>\n",
       "  </thead>\n",
       "  <tbody>\n",
       "    <tr>\n",
       "      <th>0</th>\n",
       "      <td>amount_mean</td>\n",
       "      <td>Amount</td>\n",
       "      <td>7181.0</td>\n",
       "    </tr>\n",
       "    <tr>\n",
       "      <th>1</th>\n",
       "      <td>4 Week Rolling</td>\n",
       "      <td>Amount</td>\n",
       "      <td>1533.0</td>\n",
       "    </tr>\n",
       "    <tr>\n",
       "      <th>2</th>\n",
       "      <td>8 Week Rolling</td>\n",
       "      <td>Amount</td>\n",
       "      <td>2259.0</td>\n",
       "    </tr>\n",
       "    <tr>\n",
       "      <th>3</th>\n",
       "      <td>Holts Level=.5 / Slope=.5</td>\n",
       "      <td>Amount</td>\n",
       "      <td>303537.0</td>\n",
       "    </tr>\n",
       "    <tr>\n",
       "      <th>4</th>\n",
       "      <td>Holts Level=1 / Slope=1</td>\n",
       "      <td>Amount</td>\n",
       "      <td>1909761.0</td>\n",
       "    </tr>\n",
       "  </tbody>\n",
       "</table>\n",
       "</div>"
      ],
      "text/plain": [
       "                  model_type target_var       rmse\n",
       "0                amount_mean     Amount     7181.0\n",
       "1             4 Week Rolling     Amount     1533.0\n",
       "2             8 Week Rolling     Amount     2259.0\n",
       "3  Holts Level=.5 / Slope=.5     Amount   303537.0\n",
       "4    Holts Level=1 / Slope=1     Amount  1909761.0"
      ]
     },
     "execution_count": 50,
     "metadata": {},
     "output_type": "execute_result"
    }
   ],
   "source": [
    "# Making the model\n",
    "model = Holt(train_holts, exponential = False)\n",
    "\n",
    "# Fitting the model\n",
    "model = model.fit(smoothing_level = 1, smoothing_slope = 1, optimized = False)\n",
    "\n",
    "# Making predictions \n",
    "yhat = model.predict(start = validate_holts.index[0], end = validate_holts.index[-1])\n",
    "\n",
    "yhat_df['Amount'] = round(yhat, 0)\n",
    "\n",
    "eval_df = append_eval_df(model_type = 'Holts Level=1 / Slope=1', target_var = target_var)\n",
    "plot_and_eval(target_var = target_var)\n",
    "eval_df"
   ]
  },
  {
   "cell_type": "markdown",
   "id": "0be1f9d5",
   "metadata": {},
   "source": [
    "### Level = .1 / Slope = .1"
   ]
  },
  {
   "cell_type": "code",
   "execution_count": 51,
   "id": "f2acf064",
   "metadata": {},
   "outputs": [
    {
     "name": "stdout",
     "output_type": "stream",
     "text": [
      "--RMSE: Amount\n"
     ]
    },
    {
     "data": {
      "image/png": "[encoded data removed]",
      "text/plain": [
       "<Figure size 864x288 with 1 Axes>"
      ]
     },
     "metadata": {
      "needs_background": "light"
     },
     "output_type": "display_data"
    },
    {
     "data": {
      "text/html": [
       "<div>\n",
       "<style scoped>\n",
       "    .dataframe tbody tr th:only-of-type {\n",
       "        vertical-align: middle;\n",
       "    }\n",
       "\n",
       "    .dataframe tbody tr th {\n",
       "        vertical-align: top;\n",
       "    }\n",
       "\n",
       "    .dataframe thead th {\n",
       "        text-align: right;\n",
       "    }\n",
       "</style>\n",
       "<table border=\"1\" class=\"dataframe\">\n",
       "  <thead>\n",
       "    <tr style=\"text-align: right;\">\n",
       "      <th></th>\n",
       "      <th>model_type</th>\n",
       "      <th>target_var</th>\n",
       "      <th>rmse</th>\n",
       "    </tr>\n",
       "  </thead>\n",
       "  <tbody>\n",
       "    <tr>\n",
       "      <th>0</th>\n",
       "      <td>amount_mean</td>\n",
       "      <td>Amount</td>\n",
       "      <td>7181.0</td>\n",
       "    </tr>\n",
       "    <tr>\n",
       "      <th>1</th>\n",
       "      <td>4 Week Rolling</td>\n",
       "      <td>Amount</td>\n",
       "      <td>1533.0</td>\n",
       "    </tr>\n",
       "    <tr>\n",
       "      <th>2</th>\n",
       "      <td>8 Week Rolling</td>\n",
       "      <td>Amount</td>\n",
       "      <td>2259.0</td>\n",
       "    </tr>\n",
       "    <tr>\n",
       "      <th>3</th>\n",
       "      <td>Holts Level=.5 / Slope=.5</td>\n",
       "      <td>Amount</td>\n",
       "      <td>303537.0</td>\n",
       "    </tr>\n",
       "    <tr>\n",
       "      <th>4</th>\n",
       "      <td>Holts Level=1 / Slope=1</td>\n",
       "      <td>Amount</td>\n",
       "      <td>1909761.0</td>\n",
       "    </tr>\n",
       "    <tr>\n",
       "      <th>5</th>\n",
       "      <td>Holts Level=.1 / Slope=.1</td>\n",
       "      <td>Amount</td>\n",
       "      <td>28989.0</td>\n",
       "    </tr>\n",
       "  </tbody>\n",
       "</table>\n",
       "</div>"
      ],
      "text/plain": [
       "                  model_type target_var       rmse\n",
       "0                amount_mean     Amount     7181.0\n",
       "1             4 Week Rolling     Amount     1533.0\n",
       "2             8 Week Rolling     Amount     2259.0\n",
       "3  Holts Level=.5 / Slope=.5     Amount   303537.0\n",
       "4    Holts Level=1 / Slope=1     Amount  1909761.0\n",
       "5  Holts Level=.1 / Slope=.1     Amount    28989.0"
      ]
     },
     "execution_count": 51,
     "metadata": {},
     "output_type": "execute_result"
    }
   ],
   "source": [
    "# Making the model\n",
    "model = Holt(train_holts, exponential = False)\n",
    "\n",
    "# Fitting the model\n",
    "model = model.fit(smoothing_level = .1, smoothing_slope = .1, optimized = False)\n",
    "\n",
    "# Making predictions \n",
    "yhat = model.predict(start = validate_holts.index[0], end = validate_holts.index[-1])\n",
    "\n",
    "yhat_df['Amount'] = round(yhat, 0)\n",
    "\n",
    "eval_df = append_eval_df(model_type = 'Holts Level=.1 / Slope=.1', target_var = target_var)\n",
    "plot_and_eval(target_var = target_var)\n",
    "eval_df"
   ]
  },
  {
   "cell_type": "markdown",
   "id": "4ba38574",
   "metadata": {},
   "source": [
    "### Level = .1 / Slope = .5"
   ]
  },
  {
   "cell_type": "code",
   "execution_count": 52,
   "id": "754469af",
   "metadata": {},
   "outputs": [
    {
     "name": "stdout",
     "output_type": "stream",
     "text": [
      "--RMSE: Amount\n"
     ]
    },
    {
     "data": {
      "image/png": "[encoded data removed]",
      "text/plain": [
       "<Figure size 864x288 with 1 Axes>"
      ]
     },
     "metadata": {
      "needs_background": "light"
     },
     "output_type": "display_data"
    },
    {
     "data": {
      "text/html": [
       "<div>\n",
       "<style scoped>\n",
       "    .dataframe tbody tr th:only-of-type {\n",
       "        vertical-align: middle;\n",
       "    }\n",
       "\n",
       "    .dataframe tbody tr th {\n",
       "        vertical-align: top;\n",
       "    }\n",
       "\n",
       "    .dataframe thead th {\n",
       "        text-align: right;\n",
       "    }\n",
       "</style>\n",
       "<table border=\"1\" class=\"dataframe\">\n",
       "  <thead>\n",
       "    <tr style=\"text-align: right;\">\n",
       "      <th></th>\n",
       "      <th>model_type</th>\n",
       "      <th>target_var</th>\n",
       "      <th>rmse</th>\n",
       "    </tr>\n",
       "  </thead>\n",
       "  <tbody>\n",
       "    <tr>\n",
       "      <th>0</th>\n",
       "      <td>amount_mean</td>\n",
       "      <td>Amount</td>\n",
       "      <td>7181.0</td>\n",
       "    </tr>\n",
       "    <tr>\n",
       "      <th>1</th>\n",
       "      <td>4 Week Rolling</td>\n",
       "      <td>Amount</td>\n",
       "      <td>1533.0</td>\n",
       "    </tr>\n",
       "    <tr>\n",
       "      <th>2</th>\n",
       "      <td>8 Week Rolling</td>\n",
       "      <td>Amount</td>\n",
       "      <td>2259.0</td>\n",
       "    </tr>\n",
       "    <tr>\n",
       "      <th>3</th>\n",
       "      <td>Holts Level=.5 / Slope=.5</td>\n",
       "      <td>Amount</td>\n",
       "      <td>303537.0</td>\n",
       "    </tr>\n",
       "    <tr>\n",
       "      <th>4</th>\n",
       "      <td>Holts Level=1 / Slope=1</td>\n",
       "      <td>Amount</td>\n",
       "      <td>1909761.0</td>\n",
       "    </tr>\n",
       "    <tr>\n",
       "      <th>5</th>\n",
       "      <td>Holts Level=.1 / Slope=.1</td>\n",
       "      <td>Amount</td>\n",
       "      <td>28989.0</td>\n",
       "    </tr>\n",
       "    <tr>\n",
       "      <th>6</th>\n",
       "      <td>Holts Level=.1 / Slope=.5</td>\n",
       "      <td>Amount</td>\n",
       "      <td>21939.0</td>\n",
       "    </tr>\n",
       "  </tbody>\n",
       "</table>\n",
       "</div>"
      ],
      "text/plain": [
       "                  model_type target_var       rmse\n",
       "0                amount_mean     Amount     7181.0\n",
       "1             4 Week Rolling     Amount     1533.0\n",
       "2             8 Week Rolling     Amount     2259.0\n",
       "3  Holts Level=.5 / Slope=.5     Amount   303537.0\n",
       "4    Holts Level=1 / Slope=1     Amount  1909761.0\n",
       "5  Holts Level=.1 / Slope=.1     Amount    28989.0\n",
       "6  Holts Level=.1 / Slope=.5     Amount    21939.0"
      ]
     },
     "execution_count": 52,
     "metadata": {},
     "output_type": "execute_result"
    }
   ],
   "source": [
    "# Making the model\n",
    "model = Holt(train_holts, exponential = False)\n",
    "\n",
    "# Fitting the model\n",
    "model = model.fit(smoothing_level = .1, smoothing_slope = .5, optimized = False)\n",
    "\n",
    "# Making predictions \n",
    "yhat = model.predict(start = validate_holts.index[0], end = validate_holts.index[-1])\n",
    "\n",
    "yhat_df['Amount'] = round(yhat, 0)\n",
    "\n",
    "eval_df = append_eval_df(model_type = 'Holts Level=.1 / Slope=.5', target_var = target_var)\n",
    "plot_and_eval(target_var = target_var)\n",
    "eval_df"
   ]
  },
  {
   "cell_type": "markdown",
   "id": "e383166c",
   "metadata": {},
   "source": [
    "### Level = .1 / Slope = .3"
   ]
  },
  {
   "cell_type": "code",
   "execution_count": 53,
   "id": "17d2f957",
   "metadata": {},
   "outputs": [
    {
     "name": "stdout",
     "output_type": "stream",
     "text": [
      "--RMSE: Amount\n"
     ]
    },
    {
     "data": {
      "image/png": "[encoded data removed]",
      "text/plain": [
       "<Figure size 864x288 with 1 Axes>"
      ]
     },
     "metadata": {
      "needs_background": "light"
     },
     "output_type": "display_data"
    },
    {
     "data": {
      "text/html": [
       "<div>\n",
       "<style scoped>\n",
       "    .dataframe tbody tr th:only-of-type {\n",
       "        vertical-align: middle;\n",
       "    }\n",
       "\n",
       "    .dataframe tbody tr th {\n",
       "        vertical-align: top;\n",
       "    }\n",
       "\n",
       "    .dataframe thead th {\n",
       "        text-align: right;\n",
       "    }\n",
       "</style>\n",
       "<table border=\"1\" class=\"dataframe\">\n",
       "  <thead>\n",
       "    <tr style=\"text-align: right;\">\n",
       "      <th></th>\n",
       "      <th>model_type</th>\n",
       "      <th>target_var</th>\n",
       "      <th>rmse</th>\n",
       "    </tr>\n",
       "  </thead>\n",
       "  <tbody>\n",
       "    <tr>\n",
       "      <th>0</th>\n",
       "      <td>amount_mean</td>\n",
       "      <td>Amount</td>\n",
       "      <td>7181.0</td>\n",
       "    </tr>\n",
       "    <tr>\n",
       "      <th>1</th>\n",
       "      <td>4 Week Rolling</td>\n",
       "      <td>Amount</td>\n",
       "      <td>1533.0</td>\n",
       "    </tr>\n",
       "    <tr>\n",
       "      <th>2</th>\n",
       "      <td>8 Week Rolling</td>\n",
       "      <td>Amount</td>\n",
       "      <td>2259.0</td>\n",
       "    </tr>\n",
       "    <tr>\n",
       "      <th>3</th>\n",
       "      <td>Holts Level=.5 / Slope=.5</td>\n",
       "      <td>Amount</td>\n",
       "      <td>303537.0</td>\n",
       "    </tr>\n",
       "    <tr>\n",
       "      <th>4</th>\n",
       "      <td>Holts Level=1 / Slope=1</td>\n",
       "      <td>Amount</td>\n",
       "      <td>1909761.0</td>\n",
       "    </tr>\n",
       "    <tr>\n",
       "      <th>5</th>\n",
       "      <td>Holts Level=.1 / Slope=.1</td>\n",
       "      <td>Amount</td>\n",
       "      <td>28989.0</td>\n",
       "    </tr>\n",
       "    <tr>\n",
       "      <th>6</th>\n",
       "      <td>Holts Level=.1 / Slope=.5</td>\n",
       "      <td>Amount</td>\n",
       "      <td>21939.0</td>\n",
       "    </tr>\n",
       "    <tr>\n",
       "      <th>7</th>\n",
       "      <td>Holts Level=.1 / Slope=.3</td>\n",
       "      <td>Amount</td>\n",
       "      <td>18266.0</td>\n",
       "    </tr>\n",
       "  </tbody>\n",
       "</table>\n",
       "</div>"
      ],
      "text/plain": [
       "                  model_type target_var       rmse\n",
       "0                amount_mean     Amount     7181.0\n",
       "1             4 Week Rolling     Amount     1533.0\n",
       "2             8 Week Rolling     Amount     2259.0\n",
       "3  Holts Level=.5 / Slope=.5     Amount   303537.0\n",
       "4    Holts Level=1 / Slope=1     Amount  1909761.0\n",
       "5  Holts Level=.1 / Slope=.1     Amount    28989.0\n",
       "6  Holts Level=.1 / Slope=.5     Amount    21939.0\n",
       "7  Holts Level=.1 / Slope=.3     Amount    18266.0"
      ]
     },
     "execution_count": 53,
     "metadata": {},
     "output_type": "execute_result"
    }
   ],
   "source": [
    "# Making the model\n",
    "model = Holt(train_holts, exponential = False)\n",
    "\n",
    "# Fitting the model\n",
    "model = model.fit(smoothing_level = .1, smoothing_slope = .3, optimized = False)\n",
    "\n",
    "# Making predictions \n",
    "yhat = model.predict(start = validate_holts.index[0], end = validate_holts.index[-1])\n",
    "\n",
    "yhat_df['Amount'] = round(yhat, 0)\n",
    "\n",
    "eval_df = append_eval_df(model_type = 'Holts Level=.1 / Slope=.3', target_var = target_var)\n",
    "plot_and_eval(target_var = target_var)\n",
    "eval_df"
   ]
  },
  {
   "cell_type": "markdown",
   "id": "48ce3df2",
   "metadata": {},
   "source": [
    "### Level = .4 / Slope = .01"
   ]
  },
  {
   "cell_type": "code",
   "execution_count": 54,
   "id": "ec599cb9",
   "metadata": {},
   "outputs": [
    {
     "name": "stdout",
     "output_type": "stream",
     "text": [
      "--RMSE: Amount\n"
     ]
    },
    {
     "data": {
      "image/png": "[encoded data removed]",
      "text/plain": [
       "<Figure size 864x288 with 1 Axes>"
      ]
     },
     "metadata": {
      "needs_background": "light"
     },
     "output_type": "display_data"
    },
    {
     "data": {
      "text/html": [
       "<div>\n",
       "<style scoped>\n",
       "    .dataframe tbody tr th:only-of-type {\n",
       "        vertical-align: middle;\n",
       "    }\n",
       "\n",
       "    .dataframe tbody tr th {\n",
       "        vertical-align: top;\n",
       "    }\n",
       "\n",
       "    .dataframe thead th {\n",
       "        text-align: right;\n",
       "    }\n",
       "</style>\n",
       "<table border=\"1\" class=\"dataframe\">\n",
       "  <thead>\n",
       "    <tr style=\"text-align: right;\">\n",
       "      <th></th>\n",
       "      <th>model_type</th>\n",
       "      <th>target_var</th>\n",
       "      <th>rmse</th>\n",
       "    </tr>\n",
       "  </thead>\n",
       "  <tbody>\n",
       "    <tr>\n",
       "      <th>0</th>\n",
       "      <td>amount_mean</td>\n",
       "      <td>Amount</td>\n",
       "      <td>7181.0</td>\n",
       "    </tr>\n",
       "    <tr>\n",
       "      <th>1</th>\n",
       "      <td>4 Week Rolling</td>\n",
       "      <td>Amount</td>\n",
       "      <td>1533.0</td>\n",
       "    </tr>\n",
       "    <tr>\n",
       "      <th>2</th>\n",
       "      <td>8 Week Rolling</td>\n",
       "      <td>Amount</td>\n",
       "      <td>2259.0</td>\n",
       "    </tr>\n",
       "    <tr>\n",
       "      <th>3</th>\n",
       "      <td>Holts Level=.5 / Slope=.5</td>\n",
       "      <td>Amount</td>\n",
       "      <td>303537.0</td>\n",
       "    </tr>\n",
       "    <tr>\n",
       "      <th>4</th>\n",
       "      <td>Holts Level=1 / Slope=1</td>\n",
       "      <td>Amount</td>\n",
       "      <td>1909761.0</td>\n",
       "    </tr>\n",
       "    <tr>\n",
       "      <th>5</th>\n",
       "      <td>Holts Level=.1 / Slope=.1</td>\n",
       "      <td>Amount</td>\n",
       "      <td>28989.0</td>\n",
       "    </tr>\n",
       "    <tr>\n",
       "      <th>6</th>\n",
       "      <td>Holts Level=.1 / Slope=.5</td>\n",
       "      <td>Amount</td>\n",
       "      <td>21939.0</td>\n",
       "    </tr>\n",
       "    <tr>\n",
       "      <th>7</th>\n",
       "      <td>Holts Level=.1 / Slope=.3</td>\n",
       "      <td>Amount</td>\n",
       "      <td>18266.0</td>\n",
       "    </tr>\n",
       "    <tr>\n",
       "      <th>8</th>\n",
       "      <td>Holts Level=.4 / Slope=.01</td>\n",
       "      <td>Amount</td>\n",
       "      <td>524968.0</td>\n",
       "    </tr>\n",
       "  </tbody>\n",
       "</table>\n",
       "</div>"
      ],
      "text/plain": [
       "                   model_type target_var       rmse\n",
       "0                 amount_mean     Amount     7181.0\n",
       "1              4 Week Rolling     Amount     1533.0\n",
       "2              8 Week Rolling     Amount     2259.0\n",
       "3   Holts Level=.5 / Slope=.5     Amount   303537.0\n",
       "4     Holts Level=1 / Slope=1     Amount  1909761.0\n",
       "5   Holts Level=.1 / Slope=.1     Amount    28989.0\n",
       "6   Holts Level=.1 / Slope=.5     Amount    21939.0\n",
       "7   Holts Level=.1 / Slope=.3     Amount    18266.0\n",
       "8  Holts Level=.4 / Slope=.01     Amount   524968.0"
      ]
     },
     "execution_count": 54,
     "metadata": {},
     "output_type": "execute_result"
    }
   ],
   "source": [
    "# Making the model\n",
    "model = Holt(train_holts, exponential = False)\n",
    "\n",
    "# Fitting the model\n",
    "model = model.fit(smoothing_level = .4, smoothing_slope = .01, optimized = False)\n",
    "\n",
    "# Making predictions \n",
    "yhat = model.predict(start = validate_holts.index[0], end = validate_holts.index[-1])\n",
    "\n",
    "yhat_df['Amount'] = round(yhat, 0)\n",
    "\n",
    "eval_df = append_eval_df(model_type = 'Holts Level=.4 / Slope=.01', target_var = target_var)\n",
    "plot_and_eval(target_var = target_var)\n",
    "eval_df"
   ]
  },
  {
   "cell_type": "markdown",
   "id": "202b41ec",
   "metadata": {},
   "source": [
    "# Resplit the Data"
   ]
  },
  {
   "cell_type": "code",
   "execution_count": 208,
   "id": "2e03c756",
   "metadata": {},
   "outputs": [],
   "source": [
    "df = pd.read_csv('saas.csv')\n",
    "df.Month_Invoiced = pd.to_datetime(df.Month_Invoiced)\n",
    "df = df.set_index('Month_Invoiced').sort_index()\n",
    "df = df[df.index != '2016-02-29']"
   ]
  },
  {
   "cell_type": "code",
   "execution_count": 214,
   "id": "c66c2341",
   "metadata": {},
   "outputs": [],
   "source": [
    "train = df['2015':'2016']\n",
    "validate = df['2016']\n",
    "test = df['2017']"
   ]
  },
  {
   "cell_type": "code",
   "execution_count": 215,
   "id": "44f427a0",
   "metadata": {},
   "outputs": [],
   "source": [
    "train = train.Amount.resample(\"W\").sum()\n",
    "validate = validate.Amount.resample(\"W\").sum()\n",
    "test = test.Amount.resample(\"W\").sum()"
   ]
  },
  {
   "cell_type": "code",
   "execution_count": 216,
   "id": "bd19be2c",
   "metadata": {},
   "outputs": [],
   "source": [
    "# make predictions\n",
    "train = train.fillna(0)\n",
    "validate = validate.fillna(0)\n",
    "test = test.fillna(0)"
   ]
  },
  {
   "cell_type": "code",
   "execution_count": 217,
   "id": "a3c7e161",
   "metadata": {},
   "outputs": [
    {
     "data": {
      "text/plain": [
       "(101, 49, 48)"
      ]
     },
     "execution_count": 217,
     "metadata": {},
     "output_type": "execute_result"
    }
   ],
   "source": [
    "len(train), len(validate), len(test)"
   ]
  },
  {
   "cell_type": "code",
   "execution_count": 218,
   "id": "b3c09753",
   "metadata": {},
   "outputs": [
    {
     "data": {
      "text/plain": [
       "Month_Invoiced\n",
       "2015-02-01    46945.0\n",
       "Freq: W-SUN, Name: Amount, dtype: float64"
      ]
     },
     "execution_count": 218,
     "metadata": {},
     "output_type": "execute_result"
    }
   ],
   "source": [
    "train.head(1)"
   ]
  },
  {
   "cell_type": "code",
   "execution_count": 219,
   "id": "85b12a7f",
   "metadata": {},
   "outputs": [
    {
     "data": {
      "text/plain": [
       "Month_Invoiced\n",
       "2017-01-01    53320.0\n",
       "Freq: W-SUN, Name: Amount, dtype: float64"
      ]
     },
     "execution_count": 219,
     "metadata": {},
     "output_type": "execute_result"
    }
   ],
   "source": [
    "train.tail(1)"
   ]
  },
  {
   "cell_type": "code",
   "execution_count": 204,
   "id": "fb30f26b",
   "metadata": {},
   "outputs": [],
   "source": [
    "# make predictions\n",
    "yhat_df = round(train['2015'] + train.diff(3).mean(),2)"
   ]
  },
  {
   "cell_type": "code",
   "execution_count": 200,
   "id": "f542f9a9",
   "metadata": {},
   "outputs": [
    {
     "ename": "AttributeError",
     "evalue": "'Series' object has no attribute 'set_index'",
     "output_type": "error",
     "traceback": [
      "\u001b[0;31m---------------------------------------------------------------------------\u001b[0m",
      "\u001b[0;31mAttributeError\u001b[0m                            Traceback (most recent call last)",
      "\u001b[0;32m<ipython-input-200-f528a53dc7b9>\u001b[0m in \u001b[0;36m<module>\u001b[0;34m\u001b[0m\n\u001b[0;32m----> 1\u001b[0;31m \u001b[0myhat_df\u001b[0m \u001b[0;34m=\u001b[0m \u001b[0myhat_df\u001b[0m\u001b[0;34m.\u001b[0m\u001b[0mset_index\u001b[0m\u001b[0;34m(\u001b[0m\u001b[0mvalidate\u001b[0m\u001b[0;34m.\u001b[0m\u001b[0mindex\u001b[0m\u001b[0;34m)\u001b[0m\u001b[0;34m\u001b[0m\u001b[0;34m\u001b[0m\u001b[0m\n\u001b[0m",
      "\u001b[0;32m/usr/local/anaconda3/lib/python3.8/site-packages/pandas/core/generic.py\u001b[0m in \u001b[0;36m__getattr__\u001b[0;34m(self, name)\u001b[0m\n\u001b[1;32m   5463\u001b[0m             \u001b[0;32mif\u001b[0m \u001b[0mself\u001b[0m\u001b[0;34m.\u001b[0m\u001b[0m_info_axis\u001b[0m\u001b[0;34m.\u001b[0m\u001b[0m_can_hold_identifiers_and_holds_name\u001b[0m\u001b[0;34m(\u001b[0m\u001b[0mname\u001b[0m\u001b[0;34m)\u001b[0m\u001b[0;34m:\u001b[0m\u001b[0;34m\u001b[0m\u001b[0;34m\u001b[0m\u001b[0m\n\u001b[1;32m   5464\u001b[0m                 \u001b[0;32mreturn\u001b[0m \u001b[0mself\u001b[0m\u001b[0;34m[\u001b[0m\u001b[0mname\u001b[0m\u001b[0;34m]\u001b[0m\u001b[0;34m\u001b[0m\u001b[0;34m\u001b[0m\u001b[0m\n\u001b[0;32m-> 5465\u001b[0;31m             \u001b[0;32mreturn\u001b[0m \u001b[0mobject\u001b[0m\u001b[0;34m.\u001b[0m\u001b[0m__getattribute__\u001b[0m\u001b[0;34m(\u001b[0m\u001b[0mself\u001b[0m\u001b[0;34m,\u001b[0m \u001b[0mname\u001b[0m\u001b[0;34m)\u001b[0m\u001b[0;34m\u001b[0m\u001b[0;34m\u001b[0m\u001b[0m\n\u001b[0m\u001b[1;32m   5466\u001b[0m \u001b[0;34m\u001b[0m\u001b[0m\n\u001b[1;32m   5467\u001b[0m     \u001b[0;32mdef\u001b[0m \u001b[0m__setattr__\u001b[0m\u001b[0;34m(\u001b[0m\u001b[0mself\u001b[0m\u001b[0;34m,\u001b[0m \u001b[0mname\u001b[0m\u001b[0;34m:\u001b[0m \u001b[0mstr\u001b[0m\u001b[0;34m,\u001b[0m \u001b[0mvalue\u001b[0m\u001b[0;34m)\u001b[0m \u001b[0;34m->\u001b[0m \u001b[0;32mNone\u001b[0m\u001b[0;34m:\u001b[0m\u001b[0;34m\u001b[0m\u001b[0;34m\u001b[0m\u001b[0m\n",
      "\u001b[0;31mAttributeError\u001b[0m: 'Series' object has no attribute 'set_index'"
     ]
    }
   ],
   "source": []
  },
  {
   "cell_type": "markdown",
   "id": "0ac8a3cf",
   "metadata": {},
   "source": [
    "### Based on previous year/month/etc., this is up to you."
   ]
  },
  {
   "cell_type": "code",
   "execution_count": null,
   "id": "40697a51",
   "metadata": {},
   "outputs": [],
   "source": []
  }
 ],
 "metadata": {
  "kernelspec": {
   "display_name": "Python 3",
   "language": "python",
   "name": "python3"
  },
  "language_info": {
   "codemirror_mode": {
    "name": "ipython",
    "version": 3
   },
   "file_extension": ".py",
   "mimetype": "text/x-python",
   "name": "python",
   "nbconvert_exporter": "python",
   "pygments_lexer": "ipython3",
   "version": "3.8.8"
  }
 },
 "nbformat": 4,
 "nbformat_minor": 5
}
